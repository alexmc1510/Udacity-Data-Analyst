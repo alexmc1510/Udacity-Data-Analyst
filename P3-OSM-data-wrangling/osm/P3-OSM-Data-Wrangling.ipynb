{
 "cells": [
  {
   "cell_type": "markdown",
   "metadata": {},
   "source": [
    "# OpenStreetMap Case study"
   ]
  },
  {
   "cell_type": "markdown",
   "metadata": {},
   "source": [
    "Openstreetmap (OSM) is free, editable map of the world crafted entirely by croudsourcing approach. To build an intution for this wiki-like map, I would like to take an example from the recent earthquake in Nepal. In only 48 hours after the quake, over 2000 volunteers mapper responded to the crisis by quadrupling the road mileage and adding 30% more buildings. OSM is the biggest crowdsourced project ever. However, since the OSM data is human edited, it comes with it's own challenges for cleaning.\n",
    "\n",
    "For this case study, I will be exploring the OSM map of Austin, TX. I live in the outskirts of Austin. I love the plethora of outdoor activities the city of Austin has to offer.  I would like to take this opportunity to contribute to OpenStreetMap.org by wrangling the data and parsing it for for SQLite database entry. In the process, I intend to discover new things about Austin.\n",
    "\n",
    "* https://mapzen.com/data/metro-extracts/metro/austin_texas/"
   ]
  },
  {
   "cell_type": "markdown",
   "metadata": {},
   "source": [
    "![Metro extracts Austin](data/austin_osm.png)"
   ]
  },
  {
   "cell_type": "markdown",
   "metadata": {},
   "source": [
    "# Exploring the dataset\n",
    "\n",
    "I downloaded the preselected metro area from [Mapzen](https://mapzen.com/data/metro-extracts/metro/austin_texas/) in XML format and call it austin_texas.osm. \n",
    "\n",
    "This [link](https://wiki.openstreetmap.org/wiki/OSM_XML) provides us an explanation of OSM XML format and different sorts of tags we are gonna see in the dataset. Here is a preview of austin_texas.osm dataset."
   ]
  },
  {
   "cell_type": "markdown",
   "metadata": {},
   "source": [
    "![OSM XML format](data/austin_osm_xml.png)"
   ]
  },
  {
   "cell_type": "markdown",
   "metadata": {},
   "source": [
    "I used iterative parsing to process the dataset and find out what tags and how many of them are there. It gives us an idea of how much data we can expect in the map.\n",
    "```\n",
    "{'bounds': 1,\n",
    " 'member': 20203,\n",
    " 'nd': 6984479,\n",
    " 'node': 6355440,\n",
    " 'osm': 1,\n",
    " 'relation': 2358,\n",
    " 'tag': 2377201,\n",
    " 'way': 666267}\n",
    "```\n",
    "\n",
    "In particular we will be processing nodes and ways tags and all the subtags that are nested within these tags for database entry. Nodes are point features defined by its latitude, longitude and node id. Ways are paths through a city of one kind or another like Street, Avenue, Drive, Boulevard etc.\n",
    "\n",
    "Before I process the data and add it to database, I checked the \"k\" value for each \"&lt;tag&gt;\" and see if there are any potential problems.\n",
    "\n",
    "```\n",
    "{'lower': 1297519, 'lower_colon': 1067731, 'other': 11950, 'problemchars': 1}\n",
    "```\n",
    "\n",
    "* \"lower\", for tags that contain only lowercase letters and are valid,\n",
    "* \"lower_colon\", for otherwise valid tags with a colon in their names,\n",
    "* \"problemchars\", for tags with problematic characters, and\n",
    "* \"other\", for other tags that do not fall into the other three categories\n",
    "\n",
    "The problemchars were later ignored during database entry."
   ]
  },
  {
   "cell_type": "markdown",
   "metadata": {},
   "source": [
    "# Problems Encountered in the Map\n",
    "\n",
    "After auditing the osm file for validity, accuracy, completeness, consistency and uniformity, I noticed five main problems with the data, which I will discuss in the following order:\n",
    "\n",
    "* Overabbreviated Street Names (\"W 6th St\")\n",
    "* Inconsistent postal codes (\"TX 78724\", \"78640-6137\", \"78681\")\n",
    "* “Incorrect” postal codes (\"78626\\u200e\",\"Texas\", \"tx\", \"14150\")\n",
    "* Inconsistent state name (\"tx\", \"tX\", \"Tx\", \"TX\", \"Texas\")\n",
    "* Inconsistent phone number format\n",
    "* Username error ('ccjjmartin_atxbuildings', 'ccjjmartin__atxbuildings')\n",
    "* Address in second level “k” tags pulled from Tiger GPS data and arranged in the following format:\n",
    "```\n",
    "    <tag k=\"tiger:cfcc\" v=\"A41\" />\n",
    "    <tag k=\"tiger:county\" v=\"Bastrop, TX\" />\n",
    "    <tag k=\"tiger:reviewed\" v=\"no\" />\n",
    "    <tag k=\"tiger:zip_left\" v=\"78602\" />\n",
    "    <tag k=\"tiger:name_base\" v=\"Tiger Woods\" />\n",
    "    <tag k=\"tiger:name_type\" v=\"Dr\" />\n",
    "    <tag k=\"tiger:zip_right\" v=\"78602\" />\n",
    "```    \n",
    "* Address in second level “k” tags pulled from gnis and arranged in the following format:\n",
    "```\n",
    "\t<tag k=\"gnis:id\" v=\"1378406\" />\n",
    "\t<tag k=\"gnis:Class\" v=\"Populated Place\" />\n",
    "\t<tag k=\"gnis:County\" v=\"Travis\" />\n",
    "\t<tag k=\"gnis:ST_num\" v=\"48\" />\n",
    "\t<tag k=\"import_uuid\" v=\"bb7269ee-502a-5391-8056-e3ce0e66489c\" />\n",
    "\t<tag k=\"gnis:ST_alpha\" v=\"TX\" />\n",
    "\t<tag k=\"gnis:County_num\" v=\"453\" />\n",
    "```"
   ]
  },
  {
   "cell_type": "markdown",
   "metadata": {},
   "source": [
    "## Overabbreviated Street Names\n",
    "\n",
    "To correct street names, I iterated over each word in an address, correcting them to their respective mappings in update_street.py using the following function:\n",
    "```\n",
    "def update(name):\n",
    "    words = name.split()\n",
    "    for w in range(len(words)):\n",
    "        if words[w] in mapping:\n",
    "            if words[w-1].lower() not in \\\n",
    "            ['suite', 'ste.', 'ste', 'avenue', 'ave']: \n",
    "            # For example, don't update 'Avenue E' to 'Avenue East'\n",
    "                words[w] = mapping[words[w]]\n",
    "\n",
    "    name = \" \".join(words)\n",
    "    return name\n",
    "```\n",
    "The function takes a string with street name as an argument and returns the fixed name. The function updated all substrings in problematic address strings, for example: \n",
    "\n",
    "* “Hwy 290 W” becomes: “Highway 290 West”\n",
    "* \"W 6th St\" becomes: “West 6th Street”\n",
    "* \"Barton Springs Rd\" becomes: “Barton Springs Road”"
   ]
  },
  {
   "cell_type": "markdown",
   "metadata": {},
   "source": [
    "## Postal codes\n",
    "\n",
    "Postal codes didn't follow consistent format. Besides the main 5digit zipcode, there were leading characters ('TX 78724'), trailing characters ('78640-6137', '78626\\u200e'), invalid zipcodes ('Texas', 'tx') and zipcode outside Austin ('14150'). \n",
    "\n",
    "Postal codes were formatted to trim the leading and trailing characters besides 5digit zipcode using update_postcode.py. This 5­digit restriction allows for more consistent queries.\n",
    "\n",
    "```\n",
    "import re\n",
    "def update_postcode(zipcode):\n",
    "    m = re.search(r'\\d+', zipcode) #returns entire match\n",
    "    if m:\n",
    "        return m.group()\n",
    "    else:\n",
    "        return None\n",
    "```\n",
    "Postal codes in the database were grouped together using the following aggregators.\n",
    "```\n",
    "sqlite> SELECT tags.value, COUNT (*) as count\n",
    "   ...> FROM (SELECT * FROM nodes_tags\n",
    "   ...> UNION ALL SELECT * FROM ways_tags) tags\n",
    "   ...> WHERE tags.key = 'postcode'\n",
    "   ...> GROUP BY tags.value\n",
    "   ...> ORDER BY count DESC;\n",
    "```\n",
    "Here are the top ten results, beginning with the highest count:\n",
    "```\n",
    "78645,10882\n",
    "78734,5606\n",
    "78653,3542\n",
    "78660,3512\n",
    "78669,3189\n",
    "78641,2863\n",
    "78704,2488\n",
    "78746,2445\n",
    "78759,2092\n",
    "78738,1938\n",
    "```\n",
    "\n",
    "Surprisingly, the zipcode with highest frequency is in Leander, TX. The inclusion of surrounding cities, however, isn't unexpected because of the inclusion of surrounding cities in osm data. Somehow, a errorneous zipcode '14150' also got into the dataset. Google search revealed that zipcode '14150' is in Tonawanda, NY. Lets dig deeper into it.\n",
    "\n",
    "```\n",
    "sqlite> SELECT *\n",
    "   ...> FROM nodes\n",
    "   ...> WHERE id = (SELECT id FROM nodes_tags WHERE key = 'postcode' \\\n",
    "   AND value = '14150');\n",
    "```\n",
    "```\n",
    "2152207067,30.5604873,-97.4545532,technogeek,98830,1,15008653,2013-02-12T18:28:31Z\n",
    "```\n",
    "The coordinates(latitude, longitude) for the place are actually in Taylor, TX.\n",
    "```\n",
    "sqlite> SELECT * FROM nodes_tags WHERE id = 2152207067;\n",
    "```\n",
    "```\n",
    "2152207067,name,\"Nyle Maxwell - Taylor\",regular\n",
    "2152207067,shop,car,regular\n",
    "2152207067,website,www.nylemaxwellcjd.com,regular\n",
    "2152207067,street,\"US 79\",addr\n",
    "2152207067,postcode,14150,addr\n",
    "```\n",
    "It turns out the actual address is 14150 U.S. 79, Taylor, TX 76574, United States. The user misinterpreted the address for postcode. The error can easily be rectified in the database with following SQL commands.\n",
    "\n",
    "```\n",
    "sqlite> UPDATE nodes_tags SET value = '14150 US 79' WHERE id= 2152207067 \\\n",
    "AND key = 'street'; \n",
    "sqlite> UPDATE nodes_tags SET value = '76574' WHERE id= 2152207067 \\\n",
    "AND key = 'postcode';\n",
    "```\n",
    "\n",
    "We can check id = 2152207067 into nodes_tags database again to see if the error has been rectified.\n",
    "```\n",
    "2152207067|name|Nyle Maxwell - Taylor|regular\n",
    "2152207067|shop|car|regular\n",
    "2152207067|website|www.nylemaxwellcjd.com|regular\n",
    "2152207067|street|14150 US 79|addr\n",
    "2152207067|postcode|76574|addr\n",
    "```"
   ]
  },
  {
   "cell_type": "markdown",
   "metadata": {},
   "source": [
    "## State name\n",
    "\n",
    "Running audit_state.py with the entire austin_texas.osm dataset revealed the following inconsistencies in the state name.\n",
    "```\n",
    "{'78722': 1, 'tx': 694, 'tX': 1, 'Tx': 43, 'TX': 2273, 'Texas': 59}\n",
    "```\n",
    "State name was standarized by setting the value to \"TX\" whenever key equals to \"state\"."
   ]
  },
  {
   "cell_type": "markdown",
   "metadata": {},
   "source": [
    "## Phone numbers\n",
    "\n",
    "Phone number formats were inconsistent - \"512-241-1732\", \"(512) 244-2222\", \"512 258 8114\", \"(512) 528-0027\", \"+1 512 219 5008\", \"+1 (512) 469-7000\". Phonenumbers were standardized using update_phonenumber.py module.\n",
    "\n",
    "```\n",
    "import phonenumbers\n",
    "\n",
    "def update_phonenumber(phonenumber):\n",
    "    '''fix and standardize phone numbers using phonenumbers module'''\n",
    "    matches = \\\n",
    "    [match.number for match in phonenumbers.PhoneNumberMatcher(phonenumber, \"US\")]\n",
    "    updated_matches = \\\n",
    "    [phonenumbers.format_number(match,phonenumbers.PhoneNumberFormat.NATIONAL)\n",
    "        for match in matches]\n",
    "    phonenumber = ';'.join(updated_matches)\n",
    "    return phonenumber\n",
    "```\n",
    "Phonenumbers were converted, where necessary, to national format: (512) XXX-XXXX."
   ]
  },
  {
   "cell_type": "markdown",
   "metadata": {},
   "source": [
    "## user\n",
    "Once the data was imported to SQL, some basic querying also revealed username inconsistency. The user \"Chris Martin's\" had two username - 'ccjjmartin_atxbuildings' and 'ccjjmartin_atxbuildings'. I updated the second username to first one in both the nodes and ways table.\n",
    "\n",
    "```\n",
    "sqlite> UPDATE nodes SET user = 'ccjjmartin_atxbuildings' \n",
    "   ...> WHERE user = 'ccjjmartin__atxbuildings';\n",
    "sqlite> UPDATE ways SET user = 'ccjjmartin_atxbuildings' \n",
    "   ...> WHERE user = 'ccjjmartin__atxbuildings';\n",
    "```"
   ]
  },
  {
   "cell_type": "markdown",
   "metadata": {},
   "source": [
    "# Data Overview\n",
    "\n",
    "After auditing the data, it was prepped for insertion into SQLite database. To do so, I parsed the data in OSM XML format to tabular format(.csv files) using data_sql.py function. These csv files were then imported to SQLite database osm.db3 as tables following schema.md.\n",
    "\n",
    "This section contains basic statistics about the dataset, the SQL queries used to gather them, and some additional ideas about the data in context.\n",
    "\n",
    "## File sizes\n",
    "\n",
    "```\n",
    "austin_texas.osm  1.3 GB\n",
    "sample.osm        27 MB\n",
    "osm.db3           3758 MB\n",
    "nodes.csv         570 MB\n",
    "nodes_tags.csv    11 MB\n",
    "ways.csv          46 MB\n",
    "ways_nodes.csv    161 MB\n",
    "ways_tags.csv     65 MB\t\n",
    "```"
   ]
  },
  {
   "cell_type": "markdown",
   "metadata": {},
   "source": [
    "## Number of nodes\n",
    "\n",
    "```\n",
    "sqlite> SELECT COUNT(*) FROM Nodes;\n",
    "```\n",
    "\n",
    "635440"
   ]
  },
  {
   "cell_type": "markdown",
   "metadata": {},
   "source": [
    "## Number of ways\n",
    "\n",
    "```\n",
    "sqlite> SELECT COUNT(*) FROM Ways;\n",
    "```\n",
    "666267"
   ]
  },
  {
   "cell_type": "markdown",
   "metadata": {},
   "source": [
    "## Number of unique users\n",
    "\n",
    "```\n",
    "sqlite> SELECT COUNT(DISTINCT(e.uid))\n",
    "        FROM (SELECT uid FROM nodes UNION ALL SELECT uid FROM ways) e;\n",
    "```\n",
    "1133"
   ]
  },
  {
   "cell_type": "markdown",
   "metadata": {},
   "source": [
    "## Total number of users\n",
    "\n",
    "```\n",
    "sqlite> SELECT COUNT(*) as num\n",
    "   ...> FROM (SELECT user FROM nodes UNION ALL SELECT user FROM ways) \n",
    "```\n",
    "7021707"
   ]
  },
  {
   "cell_type": "markdown",
   "metadata": {},
   "source": [
    "## Top 10 contributing users\n",
    "```\n",
    "sqlite> SELECT e.user, COUNT(*) as num\n",
    "   ...> FROM (SELECT user FROM nodes UNION ALL SELECT user FROM ways) e\n",
    "   ...> GROUP BY e.user\n",
    "   ...> ORDER BY num DESC\n",
    "   ...> LIMIT 10;\n",
    "```\n",
    "\n",
    "```\n",
    "patisilva_atxbuildings,2743718\n",
    "ccjjmartin_atxbuildings,2240585\n",
    "wilsaj_atxbuildings,359155\n",
    "jseppi_atxbuildings,300983\n",
    "woodpeck_fixbot,223478\n",
    "kkt_atxbuildings,157853\n",
    "lyzidiamond_atxbuildings,156384\n",
    "richlv,50216\n",
    "johnclary_axtbuildings,48232\n",
    "varmint,35374\n",
    "```\n",
    "The word \"bot\" appears in some usernames. These accounts are used for automated edits in contrast to manual edits for other accounts."
   ]
  },
  {
   "cell_type": "markdown",
   "metadata": {},
   "source": [
    "## Number of users appearing only once (having 1 post)\n",
    "\n",
    "```\n",
    "sqlite> SELECT COUNT(*)\n",
    "   ...> FROM\n",
    "   ...> (SELECT e.user, COUNT(*) as num\n",
    "   ...> FROM (SELECT user FROM nodes UNION ALL SELECT user FROM ways) e\n",
    "   ...> GROUP BY e.user\n",
    "   ...> HAVING num=1) u;\n",
    "```\n",
    "250"
   ]
  },
  {
   "cell_type": "markdown",
   "metadata": {},
   "source": [
    "# Additional Data Exploration\n",
    "\n",
    "## Contributor statistics\n",
    "Here are some user percentage statistics:\n",
    "* Top user contribution percentage (“patisilva_atxbuildings”) 39.07%\n",
    "* Combined top 2 users' contribution (“patisilva_atxbuildings” and “ccjjmartin_atxbuildings”) 70.98%\n",
    "* Combined top 10 users contribution 89.95%"
   ]
  },
  {
   "cell_type": "markdown",
   "metadata": {},
   "source": [
    "## Top 10 appearing amenities"
   ]
  },
  {
   "cell_type": "markdown",
   "metadata": {
    "collapsed": false
   },
   "source": [
    "```\n",
    "sqlite> SELECT value, COUNT (*) as num \\\n",
    "   ...> FROM nodes_tags \\\n",
    "   ...> WHERE key = 'amenity' \\\n",
    "   ...> GROUP BY value \\\n",
    "   ...> ORDER BY num DESC \\\n",
    "   ...> LIMIT 10\"\n",
    "```"
   ]
  },
  {
   "cell_type": "markdown",
   "metadata": {},
   "source": [
    "![Top 10 amenities](data/amenities.png)"
   ]
  },
  {
   "cell_type": "markdown",
   "metadata": {},
   "source": [
    "## Biggest religion "
   ]
  },
  {
   "cell_type": "markdown",
   "metadata": {
    "collapsed": false
   },
   "source": [
    "```\n",
    "sqlite> SELECT value, COUNT (*) as num \\\n",
    "   ...> FROM nodes_tags \\\n",
    "   ...> WHERE key = 'religion' \\\n",
    "   ...> GROUP BY value \\\n",
    "   ...> ORDER BY num DESC \\\n",
    "   ...> LIMIT 10\"\n",
    "```"
   ]
  },
  {
   "cell_type": "markdown",
   "metadata": {},
   "source": [
    "![Top 5 religion](data/religion.png)"
   ]
  },
  {
   "cell_type": "markdown",
   "metadata": {},
   "source": [
    "## Most popular cuisines (no surprise here)"
   ]
  },
  {
   "cell_type": "markdown",
   "metadata": {
    "collapsed": false
   },
   "source": [
    "```\n",
    "sqlite> SELECT value, COUNT (*) as num \\\n",
    "   ...> FROM nodes_tags \\\n",
    "   ...> WHERE key = 'cuisine' \\\n",
    "   ...> GROUP BY value \\\n",
    "   ...> ORDER BY num DESC \\\n",
    "   ...> LIMIT 10\"\n",
    "```"
   ]
  },
  {
   "cell_type": "markdown",
   "metadata": {},
   "source": [
    "![Top 10 Cuisines](data/cuisines.png)"
   ]
  },
  {
   "cell_type": "markdown",
   "metadata": {},
   "source": [
    "# Conclusion and Recommendations"
   ]
  },
  {
   "cell_type": "markdown",
   "metadata": {
    "collapsed": true
   },
   "source": [
    "The review of this data followed an interative cycle of auditing, creating a cleaning plan, programatically executing the plan and manually correcting. I believe the data has been well cleaned for the purpose of this exercise. However, there is a lot of work that needs to be done to complete the map. There is clearly a lot of missing data. Below, I recommend additional ideas for improving and analyzing the data.\n",
    "\n",
    "It is amazing that several users have entered a fair amount of TIGER (Topologically Integrated Geographic Encoding and Referencing) GPS data and GNIS (Geographic Names Information System) data into Openstreetmap.org. However, we currently lack a **data processor to process TIGER GPS data and GNIS data**.      \n",
    "\n",
    "**Benefits**\n",
    "\n",
    "* With a data processing system for TIGER and GNIS data, a huge amount of cleaned data can be entered into Openstreetmap.org.    \n",
    "\n",
    "**Challenges**\n",
    "\n",
    "* How do we build a robust data processing system ? With user entered data, there is bound to be variations and typgraphical errors. It will also be nice to have a well agreed form of data for input, as there are variations even within TIGER GPS data and GNIS data entered.\n",
    "\n",
    "Also, OSM I believe, is about the community of volunteers from all around the globe. These mappers are updating the map as their world changes around them. The user statistics are however, skewed. In our case, we saw that top 10 users created around ~90% of the map. If the user data were displayed more prominently, it would likely motivate other users to submit more edits for the map. **Gamified approach to fixing OSM bugs** as adopted by [MapRoulette](http://maproulette.org/) and crowdsourced streetview approach by [Mapillary](https://www.mapillary.com/) are commendable.       \n",
    "\n",
    "**Benefits**\n",
    "\n",
    "* Mapping, fixing bugs, analyzing data will be quite fast with an army of mappers working on it.\n",
    "\n",
    "* This crowdsourcing approach would considerably reduce the cost. Imagine having to pay minimum US wage for the task.        \n",
    "\n",
    "**Challenges**\n",
    "\n",
    "* A common operational procedure has to be defined for managing the gamification approach, e.g incentives for users, tracking user activity, quality assurance etc.\n",
    "\n",
    "* How do we get users from around the world to contribute on diverse geographical regions? How do we provide support on regional challenges? "
   ]
  },
  {
   "cell_type": "markdown",
   "metadata": {},
   "source": [
    "# Reference"
   ]
  },
  {
   "cell_type": "markdown",
   "metadata": {},
   "source": [
    "1) [OpenStreetMap wiki](https://wiki.openstreetmap.org/wiki/Main_Page)     \n",
    "2) [Mapzen](https://mapzen.com/data/metro-extracts/metro/austin_texas/)     \n",
    "3) [Example of use of OSM technology in Nepal Earthquake](http://www.kathmandulivinglabs.org/)     \n",
    "4) [SQL sample project](https://gist.github.com/carlward/54ec1c91b62a5f911c42#file-sample_project-md)     \n",
    "5) [phonenumbers python library](https://github.com/daviddrysdale/python-phonenumbers)     \n",
    "6) [SQLite tutorial](http://www.tutorialspoint.com/sqlite/)     \n",
    "7) [Plotly Bar Charts](https://plot.ly/python/bar-charts/)"
   ]
  }
 ],
 "metadata": {
  "anaconda-cloud": {},
  "kernelspec": {
   "display_name": "Python [default]",
   "language": "python",
   "name": "python2"
  },
  "language_info": {
   "codemirror_mode": {
    "name": "ipython",
    "version": 2
   },
   "file_extension": ".py",
   "mimetype": "text/x-python",
   "name": "python",
   "nbconvert_exporter": "python",
   "pygments_lexer": "ipython2",
   "version": "2.7.12"
  }
 },
 "nbformat": 4,
 "nbformat_minor": 0
}
