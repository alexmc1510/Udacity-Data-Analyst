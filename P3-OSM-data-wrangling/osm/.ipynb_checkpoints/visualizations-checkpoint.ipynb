{
 "cells": [
  {
   "cell_type": "code",
   "execution_count": 1,
   "metadata": {
    "collapsed": true
   },
   "outputs": [],
   "source": [
    "import sqlite3\n",
    "conn = sqlite3.connect('data/osm.db3')"
   ]
  },
  {
   "cell_type": "code",
   "execution_count": 2,
   "metadata": {
    "collapsed": true
   },
   "outputs": [],
   "source": [
    "c = conn.cursor()"
   ]
  },
  {
   "cell_type": "code",
   "execution_count": 3,
   "metadata": {
    "collapsed": false
   },
   "outputs": [],
   "source": [
    "query = \"SELECT value, COUNT (*) as num \\\n",
    "         FROM nodes_tags \\\n",
    "         WHERE key = 'amenity' \\\n",
    "         GROUP BY value \\\n",
    "         ORDER BY num DESC \\\n",
    "         LIMIT 10\"\n",
    "c.execute(query)\n",
    "data =  c.fetchall()"
   ]
  },
  {
   "cell_type": "code",
   "execution_count": 83,
   "metadata": {
    "collapsed": false
   },
   "outputs": [
    {
     "name": "stdout",
     "output_type": "stream",
     "text": [
      "[(u'pharmacy', 88), (u'cafe', 120), (u'bar', 120), (u'school', 219), (u'fuel', 241), (u'bench', 359), (u'fast_food', 387), (u'place_of_worship', 418), (u'waste_basket', 598), (u'restaurant', 600)]\n"
     ]
    }
   ],
   "source": [
    "print data"
   ]
  },
  {
   "cell_type": "code",
   "execution_count": 85,
   "metadata": {
    "collapsed": false
   },
   "outputs": [
    {
     "name": "stdout",
     "output_type": "stream",
     "text": [
      "None\n"
     ]
    }
   ],
   "source": [
    "a = [1,2,3,4]\n",
    "print a.reverse()"
   ]
  },
  {
   "cell_type": "code",
   "execution_count": 29,
   "metadata": {
    "collapsed": true
   },
   "outputs": [],
   "source": [
    "import pandas as pd\n",
    "df = pd.DataFrame( [[ij for ij in i] for i in data] )\n",
    "df.rename(columns={0: 'Ameneties', 1: 'Count'}, inplace=True);"
   ]
  },
  {
   "cell_type": "code",
   "execution_count": 32,
   "metadata": {
    "collapsed": false
   },
   "outputs": [
    {
     "data": {
      "text/html": [
       "<div>\n",
       "<table border=\"1\" class=\"dataframe\">\n",
       "  <thead>\n",
       "    <tr style=\"text-align: right;\">\n",
       "      <th></th>\n",
       "      <th>Ameneties</th>\n",
       "      <th>Count</th>\n",
       "    </tr>\n",
       "  </thead>\n",
       "  <tbody>\n",
       "    <tr>\n",
       "      <th>0</th>\n",
       "      <td>restaurant</td>\n",
       "      <td>600</td>\n",
       "    </tr>\n",
       "    <tr>\n",
       "      <th>1</th>\n",
       "      <td>waste_basket</td>\n",
       "      <td>598</td>\n",
       "    </tr>\n",
       "    <tr>\n",
       "      <th>2</th>\n",
       "      <td>place_of_worship</td>\n",
       "      <td>418</td>\n",
       "    </tr>\n",
       "    <tr>\n",
       "      <th>3</th>\n",
       "      <td>fast_food</td>\n",
       "      <td>387</td>\n",
       "    </tr>\n",
       "    <tr>\n",
       "      <th>4</th>\n",
       "      <td>bench</td>\n",
       "      <td>359</td>\n",
       "    </tr>\n",
       "    <tr>\n",
       "      <th>5</th>\n",
       "      <td>fuel</td>\n",
       "      <td>241</td>\n",
       "    </tr>\n",
       "    <tr>\n",
       "      <th>6</th>\n",
       "      <td>school</td>\n",
       "      <td>219</td>\n",
       "    </tr>\n",
       "    <tr>\n",
       "      <th>7</th>\n",
       "      <td>bar</td>\n",
       "      <td>120</td>\n",
       "    </tr>\n",
       "    <tr>\n",
       "      <th>8</th>\n",
       "      <td>cafe</td>\n",
       "      <td>120</td>\n",
       "    </tr>\n",
       "    <tr>\n",
       "      <th>9</th>\n",
       "      <td>pharmacy</td>\n",
       "      <td>88</td>\n",
       "    </tr>\n",
       "    <tr>\n",
       "      <th>10</th>\n",
       "      <td>bank</td>\n",
       "      <td>78</td>\n",
       "    </tr>\n",
       "    <tr>\n",
       "      <th>11</th>\n",
       "      <td>grave_yard</td>\n",
       "      <td>66</td>\n",
       "    </tr>\n",
       "    <tr>\n",
       "      <th>12</th>\n",
       "      <td>bicycle_parking</td>\n",
       "      <td>59</td>\n",
       "    </tr>\n",
       "    <tr>\n",
       "      <th>13</th>\n",
       "      <td>parking</td>\n",
       "      <td>53</td>\n",
       "    </tr>\n",
       "    <tr>\n",
       "      <th>14</th>\n",
       "      <td>toilets</td>\n",
       "      <td>50</td>\n",
       "    </tr>\n",
       "    <tr>\n",
       "      <th>15</th>\n",
       "      <td>fire_station</td>\n",
       "      <td>49</td>\n",
       "    </tr>\n",
       "    <tr>\n",
       "      <th>16</th>\n",
       "      <td>atm</td>\n",
       "      <td>43</td>\n",
       "    </tr>\n",
       "    <tr>\n",
       "      <th>17</th>\n",
       "      <td>pub</td>\n",
       "      <td>39</td>\n",
       "    </tr>\n",
       "    <tr>\n",
       "      <th>18</th>\n",
       "      <td>post_box</td>\n",
       "      <td>37</td>\n",
       "    </tr>\n",
       "    <tr>\n",
       "      <th>19</th>\n",
       "      <td>post_office</td>\n",
       "      <td>35</td>\n",
       "    </tr>\n",
       "  </tbody>\n",
       "</table>\n",
       "</div>"
      ],
      "text/plain": [
       "           Ameneties  Count\n",
       "0         restaurant    600\n",
       "1       waste_basket    598\n",
       "2   place_of_worship    418\n",
       "3          fast_food    387\n",
       "4              bench    359\n",
       "5               fuel    241\n",
       "6             school    219\n",
       "7                bar    120\n",
       "8               cafe    120\n",
       "9           pharmacy     88\n",
       "10              bank     78\n",
       "11        grave_yard     66\n",
       "12   bicycle_parking     59\n",
       "13           parking     53\n",
       "14           toilets     50\n",
       "15      fire_station     49\n",
       "16               atm     43\n",
       "17               pub     39\n",
       "18          post_box     37\n",
       "19       post_office     35"
      ]
     },
     "execution_count": 32,
     "metadata": {},
     "output_type": "execute_result"
    }
   ],
   "source": [
    "df"
   ]
  },
  {
   "cell_type": "code",
   "execution_count": 53,
   "metadata": {
    "collapsed": false
   },
   "outputs": [
    {
     "name": "stdout",
     "output_type": "stream",
     "text": [
      "['restaurant', 'waste_basket', 'place_of_worship', 'fast_food', 'bench', 'fuel', 'school', 'bar', 'cafe', 'pharmacy']\n"
     ]
    }
   ],
   "source": [
    "y = [str(i) for (i,j) in data]\n",
    "print y"
   ]
  },
  {
   "cell_type": "code",
   "execution_count": 54,
   "metadata": {
    "collapsed": false
   },
   "outputs": [
    {
     "name": "stdout",
     "output_type": "stream",
     "text": [
      "[600, 598, 418, 387, 359, 241, 219, 120, 120, 88]\n"
     ]
    }
   ],
   "source": [
    "x = [j for (i,j) in data]\n",
    "print x"
   ]
  },
  {
   "cell_type": "code",
   "execution_count": 1,
   "metadata": {
    "collapsed": true
   },
   "outputs": [],
   "source": [
    "import sqlite3"
   ]
  },
  {
   "cell_type": "code",
   "execution_count": 2,
   "metadata": {
    "collapsed": true
   },
   "outputs": [],
   "source": [
    "def query_SQLite(query, db):\n",
    "    \"\"\"\n",
    "    Fetches all results of the query from given SQLite database.\n",
    "    Also extracts x and y values in separate lists for making plotly horizontal barplot.\n",
    "    \"\"\"\n",
    "    conn = sqlite3.connect(db)\n",
    "    c = conn.cursor()\n",
    "    c.execute(query)\n",
    "    rows =  c.fetchall()\n",
    "    rows.reverse()\n",
    "    # We can also close the connection if we are done with it.\n",
    "    conn.close()\n",
    "    y = [str(i) for (i,j) in rows]\n",
    "    x = [j for (i,j) in rows]\n",
    "    return y, x"
   ]
  },
  {
   "cell_type": "code",
   "execution_count": 3,
   "metadata": {
    "collapsed": true
   },
   "outputs": [],
   "source": [
    "query = \"SELECT value, COUNT (*) as num \\\n",
    "         FROM nodes_tags \\\n",
    "         WHERE key = 'amenity' \\\n",
    "         GROUP BY value \\\n",
    "         ORDER BY num DESC \\\n",
    "         LIMIT 10\"\n",
    "y,x = query_SQLite(query, 'data/osm.db3')"
   ]
  },
  {
   "cell_type": "code",
   "execution_count": 4,
   "metadata": {
    "collapsed": false
   },
   "outputs": [
    {
     "name": "stdout",
     "output_type": "stream",
     "text": [
      "['pharmacy', 'cafe', 'bar', 'school', 'fuel', 'bench', 'fast_food', 'place_of_worship', 'waste_basket', 'restaurant']\n",
      "[88, 120, 120, 219, 241, 359, 387, 418, 598, 600]\n"
     ]
    }
   ],
   "source": [
    "print y\n",
    "print x"
   ]
  },
  {
   "cell_type": "code",
   "execution_count": 5,
   "metadata": {
    "collapsed": false
   },
   "outputs": [
    {
     "data": {
      "text/html": [
       "<script>requirejs.config({paths: { 'plotly': ['https://cdn.plot.ly/plotly-latest.min']},});if(!window.Plotly) {{require(['plotly'],function(plotly) {window.Plotly=plotly;});}}</script>"
      ],
      "text/plain": [
       "<IPython.core.display.HTML object>"
      ]
     },
     "metadata": {},
     "output_type": "display_data"
    }
   ],
   "source": [
    "# Import plotly\n",
    "import plotly.plotly as py\n",
    "import plotly.graph_objs as go\n",
    "\n",
    "# We can also do offline plotting using plotly\n",
    "from plotly.offline import download_plotlyjs, init_notebook_mode, iplot\n",
    "\n",
    "# Initiate the Plotly Notebook mode for plotting graphs offline inside a Jupyter Notebook Environment\n",
    "#Run at the start of every ipython notebook to use plotly.offline. \n",
    "#This injects the plotly.js source files into the notebook.\n",
    "init_notebook_mode(connected=True)"
   ]
  },
  {
   "cell_type": "code",
   "execution_count": 6,
   "metadata": {
    "collapsed": true
   },
   "outputs": [],
   "source": [
    "def plotly_barplot(x, y, ptitle):\n",
    "    \"\"\"Plots interactive horizontal barplot using plotly.\n",
    "       x is a list representing values for each bar e.g. [0.18, 0.74].\n",
    "       y is a list representing names of each bar e.g.['male', 'female'].\n",
    "    \"\"\"\n",
    "    data = [go.Bar(\n",
    "            x=x,\n",
    "            y=y,\n",
    "            orientation = 'h',\n",
    "            marker=dict(\n",
    "                color='rgba(50, 171, 96, 0.6)',\n",
    "                line=dict(\n",
    "                    color='rgba(50, 171, 96, 1.0)',\n",
    "                    width=1),\n",
    "            )            \n",
    "    )]\n",
    "    \n",
    "    layout = go.Layout(autosize = False, width = 700, height = 400,\n",
    "                       xaxis = dict(zeroline = False),\n",
    "                       margin = dict(l = 120),\n",
    "                       title = ptitle)\n",
    "    # Adding labels\n",
    "    annotations = [dict(x=xi, y=yi,\n",
    "                        text = str(xi),\n",
    "                        showarrow = False,\n",
    "                       ) for xi,yi in zip(x,y)]\n",
    "\n",
    "    layout['annotations'] = annotations\n",
    "    \n",
    "    fig = go.Figure(data = data, layout = layout)\n",
    "    iplot(fig)"
   ]
  },
  {
   "cell_type": "code",
   "execution_count": 7,
   "metadata": {
    "collapsed": false
   },
   "outputs": [
    {
     "data": {
      "text/html": [
       "<div id=\"4ff70f43-017d-4054-9a12-cb2712b3313e\" style=\"height: 400px; width: 700px;\" class=\"plotly-graph-div\"></div><script type=\"text/javascript\">require([\"plotly\"], function(Plotly) { window.PLOTLYENV=window.PLOTLYENV || {};window.PLOTLYENV.BASE_URL=\"https://plot.ly\";Plotly.newPlot(\"4ff70f43-017d-4054-9a12-cb2712b3313e\", [{\"marker\": {\"color\": \"rgba(50, 171, 96, 0.6)\", \"line\": {\"color\": \"rgba(50, 171, 96, 1.0)\", \"width\": 1}}, \"y\": [\"pharmacy\", \"cafe\", \"bar\", \"school\", \"fuel\", \"bench\", \"fast_food\", \"place_of_worship\", \"waste_basket\", \"restaurant\"], \"type\": \"bar\", \"orientation\": \"h\", \"x\": [88, 120, 120, 219, 241, 359, 387, 418, 598, 600]}], {\"autosize\": false, \"title\": \"Top 10 amenities\", \"height\": 400, \"width\": 700, \"xaxis\": {\"zeroline\": false}, \"margin\": {\"l\": 120}, \"annotations\": [{\"y\": \"pharmacy\", \"text\": \"88\", \"x\": 88, \"showarrow\": false}, {\"y\": \"cafe\", \"text\": \"120\", \"x\": 120, \"showarrow\": false}, {\"y\": \"bar\", \"text\": \"120\", \"x\": 120, \"showarrow\": false}, {\"y\": \"school\", \"text\": \"219\", \"x\": 219, \"showarrow\": false}, {\"y\": \"fuel\", \"text\": \"241\", \"x\": 241, \"showarrow\": false}, {\"y\": \"bench\", \"text\": \"359\", \"x\": 359, \"showarrow\": false}, {\"y\": \"fast_food\", \"text\": \"387\", \"x\": 387, \"showarrow\": false}, {\"y\": \"place_of_worship\", \"text\": \"418\", \"x\": 418, \"showarrow\": false}, {\"y\": \"waste_basket\", \"text\": \"598\", \"x\": 598, \"showarrow\": false}, {\"y\": \"restaurant\", \"text\": \"600\", \"x\": 600, \"showarrow\": false}]}, {\"linkText\": \"Export to plot.ly\", \"showLink\": true})});</script>"
      ],
      "text/plain": [
       "<IPython.core.display.HTML object>"
      ]
     },
     "metadata": {},
     "output_type": "display_data"
    }
   ],
   "source": [
    "plotly_barplot(x, y, 'Top 10 amenities')"
   ]
  }
 ],
 "metadata": {
  "anaconda-cloud": {},
  "kernelspec": {
   "display_name": "Python [default]",
   "language": "python",
   "name": "python2"
  },
  "language_info": {
   "codemirror_mode": {
    "name": "ipython",
    "version": 2
   },
   "file_extension": ".py",
   "mimetype": "text/x-python",
   "name": "python",
   "nbconvert_exporter": "python",
   "pygments_lexer": "ipython2",
   "version": "2.7.12"
  }
 },
 "nbformat": 4,
 "nbformat_minor": 1
}
