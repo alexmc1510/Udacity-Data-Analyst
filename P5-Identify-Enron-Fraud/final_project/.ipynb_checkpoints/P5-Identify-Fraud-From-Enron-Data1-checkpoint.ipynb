{
 "cells": [
  {
   "cell_type": "markdown",
   "metadata": {},
   "source": [
    "In 2000, Enron was one of the largest companies in the United States. By 2002, it had collapsed into bankruptcy due to widespread corporate fraud. In the resulting Federal investigation, a significant amount of typically confidential information entered into the public record, including tens of thousands of emails and detailed financial data for top executives. Here, I build a supervised learning algorithm to identify fraudulent employees using Enron dataset."
   ]
  },
  {
   "cell_type": "markdown",
   "metadata": {},
   "source": [
    "![enron_fraud](images/enron_fraud.jpg)\n",
    "<br>\n",
    "Source: [Newsweek](https://amazingtradingacademydotcom.files.wordpress.com/2016/11/enron-newsweek.jpg)"
   ]
  },
  {
   "cell_type": "markdown",
   "metadata": {},
   "source": [
    "# Understanding the Dataset and Question"
   ]
  },
  {
   "cell_type": "markdown",
   "metadata": {},
   "source": [
    "> Summarize for us the goal of this project and how machine learning is useful in trying to accomplish it. As part of your answer, give some background on the dataset and how it can be used to answer the project question. Were there any outliers in the data when you got it, and how did you handle those?"
   ]
  },
  {
   "cell_type": "markdown",
   "metadata": {},
   "source": [
    "## Introduction"
   ]
  },
  {
   "cell_type": "markdown",
   "metadata": {},
   "source": [
    "The Enron fraud is the largest case of corporate fraud in American history. Founded in 1985, Enron Corporation went bankrupt by end of 2001 due to widespread corporate fraud and corruption. Before its fall, Fortune magazine had named Enron \"America's most innovative company\" for six consecutive years. So what happened? Who were the culprits?\n",
    "\n",
    "In this project, I will play detective and build a classification algorithm to predict a person of interest identifier (POI) based on email and financial features in the combined dataset. A POI is anyone who has been indicted, settled without admitting the guilt and testified in exchange for immunity. We will check our predicted POI against actual POI in the dataset to evaluate our prediction."
   ]
  },
  {
   "cell_type": "code",
   "execution_count": 1,
   "metadata": {},
   "outputs": [
    {
     "name": "stderr",
     "output_type": "stream",
     "text": [
      "/Users/arjanhada/anaconda3/envs/py2/lib/python2.7/site-packages/sklearn/cross_validation.py:44: DeprecationWarning: This module was deprecated in version 0.18 in favor of the model_selection module into which all the refactored classes and functions are moved. Also note that the interface of the new CV iterators are different from that of this module. This module will be removed in 0.20.\n",
      "  \"This module will be removed in 0.20.\", DeprecationWarning)\n"
     ]
    }
   ],
   "source": [
    "import numpy as np\n",
    "import pandas as pd\n",
    "from IPython.core.display import HTML\n",
    "\n",
    "import sys\n",
    "import pickle\n",
    "sys.path.append(\"../tools/\")\n",
    "\n",
    "from feature_format import featureFormat, targetFeatureSplit\n",
    "from tester_plus import dump_classifier_and_data"
   ]
  },
  {
   "cell_type": "code",
   "execution_count": 2,
   "metadata": {
    "collapsed": true
   },
   "outputs": [],
   "source": [
    "### Load the dictionary containing the dataset\n",
    "with open(\"final_project_dataset.pkl\", \"r\") as data_file:\n",
    "    data_dict = pickle.load(data_file)"
   ]
  },
  {
   "cell_type": "code",
   "execution_count": 3,
   "metadata": {
    "collapsed": true
   },
   "outputs": [],
   "source": [
    "enron_data = pd.DataFrame.from_dict(data_dict, orient = 'index')"
   ]
  },
  {
   "cell_type": "markdown",
   "metadata": {},
   "source": [
    "## Data Exploration"
   ]
  },
  {
   "cell_type": "markdown",
   "metadata": {},
   "source": [
    "Lets print few lines from the dataset."
   ]
  },
  {
   "cell_type": "code",
   "execution_count": 4,
   "metadata": {},
   "outputs": [
    {
     "data": {
      "text/html": [
       "<div>\n",
       "<style>\n",
       "    .dataframe thead tr:only-child th {\n",
       "        text-align: right;\n",
       "    }\n",
       "\n",
       "    .dataframe thead th {\n",
       "        text-align: left;\n",
       "    }\n",
       "\n",
       "    .dataframe tbody tr th {\n",
       "        vertical-align: top;\n",
       "    }\n",
       "</style>\n",
       "<table border=\"1\" class=\"dataframe\">\n",
       "  <thead>\n",
       "    <tr style=\"text-align: right;\">\n",
       "      <th></th>\n",
       "      <th>salary</th>\n",
       "      <th>to_messages</th>\n",
       "      <th>deferral_payments</th>\n",
       "      <th>total_payments</th>\n",
       "      <th>exercised_stock_options</th>\n",
       "      <th>bonus</th>\n",
       "      <th>restricted_stock</th>\n",
       "      <th>shared_receipt_with_poi</th>\n",
       "      <th>restricted_stock_deferred</th>\n",
       "      <th>total_stock_value</th>\n",
       "      <th>...</th>\n",
       "      <th>loan_advances</th>\n",
       "      <th>from_messages</th>\n",
       "      <th>other</th>\n",
       "      <th>from_this_person_to_poi</th>\n",
       "      <th>poi</th>\n",
       "      <th>director_fees</th>\n",
       "      <th>deferred_income</th>\n",
       "      <th>long_term_incentive</th>\n",
       "      <th>email_address</th>\n",
       "      <th>from_poi_to_this_person</th>\n",
       "    </tr>\n",
       "  </thead>\n",
       "  <tbody>\n",
       "    <tr>\n",
       "      <th>ALLEN PHILLIP K</th>\n",
       "      <td>201955</td>\n",
       "      <td>2902</td>\n",
       "      <td>2869717</td>\n",
       "      <td>4484442</td>\n",
       "      <td>1729541</td>\n",
       "      <td>4175000</td>\n",
       "      <td>126027</td>\n",
       "      <td>1407</td>\n",
       "      <td>-126027</td>\n",
       "      <td>1729541</td>\n",
       "      <td>...</td>\n",
       "      <td>NaN</td>\n",
       "      <td>2195</td>\n",
       "      <td>152</td>\n",
       "      <td>65</td>\n",
       "      <td>False</td>\n",
       "      <td>NaN</td>\n",
       "      <td>-3081055</td>\n",
       "      <td>304805</td>\n",
       "      <td>phillip.allen@enron.com</td>\n",
       "      <td>47</td>\n",
       "    </tr>\n",
       "    <tr>\n",
       "      <th>BADUM JAMES P</th>\n",
       "      <td>NaN</td>\n",
       "      <td>NaN</td>\n",
       "      <td>178980</td>\n",
       "      <td>182466</td>\n",
       "      <td>257817</td>\n",
       "      <td>NaN</td>\n",
       "      <td>NaN</td>\n",
       "      <td>NaN</td>\n",
       "      <td>NaN</td>\n",
       "      <td>257817</td>\n",
       "      <td>...</td>\n",
       "      <td>NaN</td>\n",
       "      <td>NaN</td>\n",
       "      <td>NaN</td>\n",
       "      <td>NaN</td>\n",
       "      <td>False</td>\n",
       "      <td>NaN</td>\n",
       "      <td>NaN</td>\n",
       "      <td>NaN</td>\n",
       "      <td>NaN</td>\n",
       "      <td>NaN</td>\n",
       "    </tr>\n",
       "    <tr>\n",
       "      <th>BANNANTINE JAMES M</th>\n",
       "      <td>477</td>\n",
       "      <td>566</td>\n",
       "      <td>NaN</td>\n",
       "      <td>916197</td>\n",
       "      <td>4046157</td>\n",
       "      <td>NaN</td>\n",
       "      <td>1757552</td>\n",
       "      <td>465</td>\n",
       "      <td>-560222</td>\n",
       "      <td>5243487</td>\n",
       "      <td>...</td>\n",
       "      <td>NaN</td>\n",
       "      <td>29</td>\n",
       "      <td>864523</td>\n",
       "      <td>0</td>\n",
       "      <td>False</td>\n",
       "      <td>NaN</td>\n",
       "      <td>-5104</td>\n",
       "      <td>NaN</td>\n",
       "      <td>james.bannantine@enron.com</td>\n",
       "      <td>39</td>\n",
       "    </tr>\n",
       "    <tr>\n",
       "      <th>BAXTER JOHN C</th>\n",
       "      <td>267102</td>\n",
       "      <td>NaN</td>\n",
       "      <td>1295738</td>\n",
       "      <td>5634343</td>\n",
       "      <td>6680544</td>\n",
       "      <td>1200000</td>\n",
       "      <td>3942714</td>\n",
       "      <td>NaN</td>\n",
       "      <td>NaN</td>\n",
       "      <td>10623258</td>\n",
       "      <td>...</td>\n",
       "      <td>NaN</td>\n",
       "      <td>NaN</td>\n",
       "      <td>2660303</td>\n",
       "      <td>NaN</td>\n",
       "      <td>False</td>\n",
       "      <td>NaN</td>\n",
       "      <td>-1386055</td>\n",
       "      <td>1586055</td>\n",
       "      <td>NaN</td>\n",
       "      <td>NaN</td>\n",
       "    </tr>\n",
       "    <tr>\n",
       "      <th>BAY FRANKLIN R</th>\n",
       "      <td>239671</td>\n",
       "      <td>NaN</td>\n",
       "      <td>260455</td>\n",
       "      <td>827696</td>\n",
       "      <td>NaN</td>\n",
       "      <td>400000</td>\n",
       "      <td>145796</td>\n",
       "      <td>NaN</td>\n",
       "      <td>-82782</td>\n",
       "      <td>63014</td>\n",
       "      <td>...</td>\n",
       "      <td>NaN</td>\n",
       "      <td>NaN</td>\n",
       "      <td>69</td>\n",
       "      <td>NaN</td>\n",
       "      <td>False</td>\n",
       "      <td>NaN</td>\n",
       "      <td>-201641</td>\n",
       "      <td>NaN</td>\n",
       "      <td>frank.bay@enron.com</td>\n",
       "      <td>NaN</td>\n",
       "    </tr>\n",
       "  </tbody>\n",
       "</table>\n",
       "<p>5 rows × 21 columns</p>\n",
       "</div>"
      ],
      "text/plain": [
       "                    salary to_messages deferral_payments total_payments  \\\n",
       "ALLEN PHILLIP K     201955        2902           2869717        4484442   \n",
       "BADUM JAMES P          NaN         NaN            178980         182466   \n",
       "BANNANTINE JAMES M     477         566               NaN         916197   \n",
       "BAXTER JOHN C       267102         NaN           1295738        5634343   \n",
       "BAY FRANKLIN R      239671         NaN            260455         827696   \n",
       "\n",
       "                   exercised_stock_options    bonus restricted_stock  \\\n",
       "ALLEN PHILLIP K                    1729541  4175000           126027   \n",
       "BADUM JAMES P                       257817      NaN              NaN   \n",
       "BANNANTINE JAMES M                 4046157      NaN          1757552   \n",
       "BAXTER JOHN C                      6680544  1200000          3942714   \n",
       "BAY FRANKLIN R                         NaN   400000           145796   \n",
       "\n",
       "                   shared_receipt_with_poi restricted_stock_deferred  \\\n",
       "ALLEN PHILLIP K                       1407                   -126027   \n",
       "BADUM JAMES P                          NaN                       NaN   \n",
       "BANNANTINE JAMES M                     465                   -560222   \n",
       "BAXTER JOHN C                          NaN                       NaN   \n",
       "BAY FRANKLIN R                         NaN                    -82782   \n",
       "\n",
       "                   total_stock_value           ...           loan_advances  \\\n",
       "ALLEN PHILLIP K              1729541           ...                     NaN   \n",
       "BADUM JAMES P                 257817           ...                     NaN   \n",
       "BANNANTINE JAMES M           5243487           ...                     NaN   \n",
       "BAXTER JOHN C               10623258           ...                     NaN   \n",
       "BAY FRANKLIN R                 63014           ...                     NaN   \n",
       "\n",
       "                   from_messages    other from_this_person_to_poi    poi  \\\n",
       "ALLEN PHILLIP K             2195      152                      65  False   \n",
       "BADUM JAMES P                NaN      NaN                     NaN  False   \n",
       "BANNANTINE JAMES M            29   864523                       0  False   \n",
       "BAXTER JOHN C                NaN  2660303                     NaN  False   \n",
       "BAY FRANKLIN R               NaN       69                     NaN  False   \n",
       "\n",
       "                    director_fees deferred_income long_term_incentive  \\\n",
       "ALLEN PHILLIP K               NaN        -3081055              304805   \n",
       "BADUM JAMES P                 NaN             NaN                 NaN   \n",
       "BANNANTINE JAMES M            NaN           -5104                 NaN   \n",
       "BAXTER JOHN C                 NaN        -1386055             1586055   \n",
       "BAY FRANKLIN R                NaN         -201641                 NaN   \n",
       "\n",
       "                                 email_address from_poi_to_this_person  \n",
       "ALLEN PHILLIP K        phillip.allen@enron.com                      47  \n",
       "BADUM JAMES P                              NaN                     NaN  \n",
       "BANNANTINE JAMES M  james.bannantine@enron.com                      39  \n",
       "BAXTER JOHN C                              NaN                     NaN  \n",
       "BAY FRANKLIN R             frank.bay@enron.com                     NaN  \n",
       "\n",
       "[5 rows x 21 columns]"
      ]
     },
     "execution_count": 4,
     "metadata": {},
     "output_type": "execute_result"
    }
   ],
   "source": [
    "enron_data.head()"
   ]
  },
  {
   "cell_type": "code",
   "execution_count": 5,
   "metadata": {},
   "outputs": [
    {
     "name": "stdout",
     "output_type": "stream",
     "text": [
      "There are a total of 146 people in the dataset.\n",
      "Out of which 18 are POI and 128 Non-POI.\n",
      "Total number of email plus financial features are 20. 'poi' column is our label.\n"
     ]
    }
   ],
   "source": [
    "print \"There are a total of {} people in the dataset.\" .format(len(enron_data.index)) \n",
    "print \"Out of which {} are POI and {} Non-POI.\" .format(enron_data['poi'].value_counts()[True], \n",
    "                                                 enron_data['poi'].value_counts()[False])\n",
    "print \"Total number of email plus financial features are {}. 'poi' column is our label.\" \\\n",
    ".format(len(enron_data.columns)-1)"
   ]
  },
  {
   "cell_type": "markdown",
   "metadata": {},
   "source": [
    "Enron dataset is really messy and has a lot of missing values (NaN). All the features have missing values. Some features have more than 50% of their values missing, as we can see from the frequency of NaN from the table below. NaNs are coerced to 0 for training our algorithm later."
   ]
  },
  {
   "cell_type": "code",
   "execution_count": 6,
   "metadata": {},
   "outputs": [
    {
     "data": {
      "text/html": [
       "<div>\n",
       "<style>\n",
       "    .dataframe thead tr:only-child th {\n",
       "        text-align: right;\n",
       "    }\n",
       "\n",
       "    .dataframe thead th {\n",
       "        text-align: left;\n",
       "    }\n",
       "\n",
       "    .dataframe tbody tr th {\n",
       "        vertical-align: top;\n",
       "    }\n",
       "</style>\n",
       "<table border=\"1\" class=\"dataframe\">\n",
       "  <thead>\n",
       "    <tr style=\"text-align: right;\">\n",
       "      <th></th>\n",
       "      <th>count</th>\n",
       "      <th>unique</th>\n",
       "      <th>top</th>\n",
       "      <th>freq</th>\n",
       "    </tr>\n",
       "  </thead>\n",
       "  <tbody>\n",
       "    <tr>\n",
       "      <th>salary</th>\n",
       "      <td>146</td>\n",
       "      <td>95</td>\n",
       "      <td>NaN</td>\n",
       "      <td>51</td>\n",
       "    </tr>\n",
       "    <tr>\n",
       "      <th>to_messages</th>\n",
       "      <td>146</td>\n",
       "      <td>87</td>\n",
       "      <td>NaN</td>\n",
       "      <td>60</td>\n",
       "    </tr>\n",
       "    <tr>\n",
       "      <th>deferral_payments</th>\n",
       "      <td>146</td>\n",
       "      <td>40</td>\n",
       "      <td>NaN</td>\n",
       "      <td>107</td>\n",
       "    </tr>\n",
       "    <tr>\n",
       "      <th>total_payments</th>\n",
       "      <td>146</td>\n",
       "      <td>126</td>\n",
       "      <td>NaN</td>\n",
       "      <td>21</td>\n",
       "    </tr>\n",
       "    <tr>\n",
       "      <th>exercised_stock_options</th>\n",
       "      <td>146</td>\n",
       "      <td>102</td>\n",
       "      <td>NaN</td>\n",
       "      <td>44</td>\n",
       "    </tr>\n",
       "    <tr>\n",
       "      <th>bonus</th>\n",
       "      <td>146</td>\n",
       "      <td>42</td>\n",
       "      <td>NaN</td>\n",
       "      <td>64</td>\n",
       "    </tr>\n",
       "    <tr>\n",
       "      <th>restricted_stock</th>\n",
       "      <td>146</td>\n",
       "      <td>98</td>\n",
       "      <td>NaN</td>\n",
       "      <td>36</td>\n",
       "    </tr>\n",
       "    <tr>\n",
       "      <th>shared_receipt_with_poi</th>\n",
       "      <td>146</td>\n",
       "      <td>84</td>\n",
       "      <td>NaN</td>\n",
       "      <td>60</td>\n",
       "    </tr>\n",
       "    <tr>\n",
       "      <th>restricted_stock_deferred</th>\n",
       "      <td>146</td>\n",
       "      <td>19</td>\n",
       "      <td>NaN</td>\n",
       "      <td>128</td>\n",
       "    </tr>\n",
       "    <tr>\n",
       "      <th>total_stock_value</th>\n",
       "      <td>146</td>\n",
       "      <td>125</td>\n",
       "      <td>NaN</td>\n",
       "      <td>20</td>\n",
       "    </tr>\n",
       "    <tr>\n",
       "      <th>expenses</th>\n",
       "      <td>146</td>\n",
       "      <td>95</td>\n",
       "      <td>NaN</td>\n",
       "      <td>51</td>\n",
       "    </tr>\n",
       "    <tr>\n",
       "      <th>loan_advances</th>\n",
       "      <td>146</td>\n",
       "      <td>5</td>\n",
       "      <td>NaN</td>\n",
       "      <td>142</td>\n",
       "    </tr>\n",
       "    <tr>\n",
       "      <th>from_messages</th>\n",
       "      <td>146</td>\n",
       "      <td>65</td>\n",
       "      <td>NaN</td>\n",
       "      <td>60</td>\n",
       "    </tr>\n",
       "    <tr>\n",
       "      <th>other</th>\n",
       "      <td>146</td>\n",
       "      <td>93</td>\n",
       "      <td>NaN</td>\n",
       "      <td>53</td>\n",
       "    </tr>\n",
       "    <tr>\n",
       "      <th>from_this_person_to_poi</th>\n",
       "      <td>146</td>\n",
       "      <td>42</td>\n",
       "      <td>NaN</td>\n",
       "      <td>60</td>\n",
       "    </tr>\n",
       "    <tr>\n",
       "      <th>poi</th>\n",
       "      <td>146</td>\n",
       "      <td>2</td>\n",
       "      <td>False</td>\n",
       "      <td>128</td>\n",
       "    </tr>\n",
       "    <tr>\n",
       "      <th>director_fees</th>\n",
       "      <td>146</td>\n",
       "      <td>18</td>\n",
       "      <td>NaN</td>\n",
       "      <td>129</td>\n",
       "    </tr>\n",
       "    <tr>\n",
       "      <th>deferred_income</th>\n",
       "      <td>146</td>\n",
       "      <td>45</td>\n",
       "      <td>NaN</td>\n",
       "      <td>97</td>\n",
       "    </tr>\n",
       "    <tr>\n",
       "      <th>long_term_incentive</th>\n",
       "      <td>146</td>\n",
       "      <td>53</td>\n",
       "      <td>NaN</td>\n",
       "      <td>80</td>\n",
       "    </tr>\n",
       "    <tr>\n",
       "      <th>email_address</th>\n",
       "      <td>146</td>\n",
       "      <td>112</td>\n",
       "      <td>NaN</td>\n",
       "      <td>35</td>\n",
       "    </tr>\n",
       "    <tr>\n",
       "      <th>from_poi_to_this_person</th>\n",
       "      <td>146</td>\n",
       "      <td>58</td>\n",
       "      <td>NaN</td>\n",
       "      <td>60</td>\n",
       "    </tr>\n",
       "  </tbody>\n",
       "</table>\n",
       "</div>"
      ],
      "text/plain": [
       "                          count unique    top freq\n",
       "salary                      146     95    NaN   51\n",
       "to_messages                 146     87    NaN   60\n",
       "deferral_payments           146     40    NaN  107\n",
       "total_payments              146    126    NaN   21\n",
       "exercised_stock_options     146    102    NaN   44\n",
       "bonus                       146     42    NaN   64\n",
       "restricted_stock            146     98    NaN   36\n",
       "shared_receipt_with_poi     146     84    NaN   60\n",
       "restricted_stock_deferred   146     19    NaN  128\n",
       "total_stock_value           146    125    NaN   20\n",
       "expenses                    146     95    NaN   51\n",
       "loan_advances               146      5    NaN  142\n",
       "from_messages               146     65    NaN   60\n",
       "other                       146     93    NaN   53\n",
       "from_this_person_to_poi     146     42    NaN   60\n",
       "poi                         146      2  False  128\n",
       "director_fees               146     18    NaN  129\n",
       "deferred_income             146     45    NaN   97\n",
       "long_term_incentive         146     53    NaN   80\n",
       "email_address               146    112    NaN   35\n",
       "from_poi_to_this_person     146     58    NaN   60"
      ]
     },
     "execution_count": 6,
     "metadata": {},
     "output_type": "execute_result"
    }
   ],
   "source": [
    "enron_data.describe().transpose()"
   ]
  },
  {
   "cell_type": "code",
   "execution_count": 7,
   "metadata": {
    "collapsed": true
   },
   "outputs": [],
   "source": [
    "enron_data.replace(to_replace='NaN', value=0.0, inplace=True)"
   ]
  },
  {
   "cell_type": "markdown",
   "metadata": {},
   "source": [
    "## Outlier investigation"
   ]
  },
  {
   "cell_type": "markdown",
   "metadata": {},
   "source": [
    "Visualization is one of the most powerful tools for finding outliers. Upon plotting salary against bonus, there is an outlier that pops out immediately - \"TOTAL\" (move the cursor and examine the points in scatterplot). The spreadsheet added up all the data points for us and we need to take that point out. Upon closer examination, I found one more entry which is not the name of a real person \"THE TRAVEL AGENCY IN THE PARK\". The entry is dropped from the dataset. The entries which have all the features as 'NaN' are also dropped from the dataset."
   ]
  },
  {
   "cell_type": "code",
   "execution_count": 8,
   "metadata": {
    "collapsed": true
   },
   "outputs": [],
   "source": [
    "# Import plotly and and set your credentials\n",
    "from plotly import tools\n",
    "#tools.set_credentials_file(username='*******', api_key='*********')"
   ]
  },
  {
   "cell_type": "code",
   "execution_count": 9,
   "metadata": {},
   "outputs": [
    {
     "name": "stdout",
     "output_type": "stream",
     "text": [
      "This is the format of your plot grid:\n",
      "[ (1,1) x1,y1 ]  [ (1,2) x2,y2 ]\n",
      "\n"
     ]
    },
    {
     "data": {
      "text/html": [
       "<iframe id=\"igraph\" scrolling=\"no\" style=\"border:none;\" seamless=\"seamless\" src=\"https://plot.ly/~hadaarjan/415.embed\" height=\"525px\" width=\"100%\"></iframe>"
      ],
      "text/plain": [
       "<plotly.tools.PlotlyDisplay object>"
      ]
     },
     "execution_count": 9,
     "metadata": {},
     "output_type": "execute_result"
    }
   ],
   "source": [
    "import plotly.plotly as py\n",
    "import plotly.graph_objs as go\n",
    "\n",
    "# Make scatterplot before outlier removal\n",
    "trace0 = go.Scatter(\n",
    "    x=enron_data.salary,\n",
    "    y=enron_data.bonus,\n",
    "    text = enron_data.index,\n",
    "    mode = 'markers'\n",
    ")\n",
    "\n",
    "# Remove Outlier\n",
    "enron_data.drop(['TOTAL'], axis = 0, inplace= True)\n",
    "\n",
    "# Make scatterplot after outlier removal\n",
    "trace1 = go.Scatter(\n",
    "    x=enron_data.salary,\n",
    "    y=enron_data.bonus,\n",
    "    text = enron_data.index,\n",
    "    mode = 'markers'\n",
    ")\n",
    "\n",
    "# Layout the plots together side by side\n",
    "fig = tools.make_subplots(rows=1, cols=2, subplot_titles=('Before outlier removal', 'After outlier removal'))\n",
    "\n",
    "fig.append_trace(trace0, 1, 1)\n",
    "fig.append_trace(trace1, 1, 2)\n",
    "\n",
    "fig['layout']['xaxis1'].update(title='salary')\n",
    "fig['layout']['xaxis2'].update(title='salary')\n",
    "\n",
    "fig['layout']['yaxis1'].update(title='bonus')\n",
    "fig['layout']['yaxis2'].update(title='bonus')\n",
    "\n",
    "py.iplot(fig)"
   ]
  },
  {
   "cell_type": "code",
   "execution_count": 10,
   "metadata": {
    "collapsed": true
   },
   "outputs": [],
   "source": [
    "enron_data.drop(['THE TRAVEL AGENCY IN THE PARK'], axis = 0, inplace= True)"
   ]
  },
  {
   "cell_type": "markdown",
   "metadata": {},
   "source": [
    "# Optimize Feature Selection/Engineering"
   ]
  },
  {
   "cell_type": "markdown",
   "metadata": {},
   "source": [
    "> What features did you end up using in your POI identifier, and what selection process did you use to pick them? Did you have to do any scaling? Why or why not? As part of the assignment, you should attempt to engineer your own feature that does not come ready-made in the dataset -- explain what feature you tried to make, and the rationale behind it. In your feature selection step, if you used an algorithm like a decision tree, please also give the feature importances of the features that you use, and if you used an automated feature selection function like SelectKBest, please report the feature scores and reasons for your choice of parameter values."
   ]
  },
  {
   "cell_type": "markdown",
   "metadata": {},
   "source": [
    "## Feature engineering"
   ]
  },
  {
   "cell_type": "markdown",
   "metadata": {},
   "source": [
    "Feature engineering involves using human intuition to hypothesize what feature might contain pattern that can be exploited using machine learning, coding up the new feature, visualizing and repeating the same process again. Our hypothesis here - \"POI's sent email to each other at a rate higher than for Non-POI's.\" I coded up two new features fraction of emails this person gets from poi (fraction_from_poi) and fraction of emails this person send to poi (fraction_to_poi).\n",
    "number of emails from this person to POI/total number of message from this person\n",
    "\n",
    "$$fraction\\_from\\_poi =\\frac{number\\ of\\ emails\\ from\\ POI\\ to\\ this\\ person}{total\\ number\\ of\\ message\\ to\\ this\\ person} = \\frac{from\\_poi\\_to\\_this\\_person}{to\\_messages}$$\n",
    "\n",
    "$$fraction\\_to\\_poi = \\frac{number\\ of\\ emails\\ from\\ this\\ person\\ to\\ POI}{total\\ number\\ of\\ message\\ from\\ this\\ person} = \\frac{from\\_this\\_person\\_to\\_poi}{from\\_messages}$$\n",
    "\n",
    "When I visualize these new features, we can see that these new features provide discriminating power between POI and Non-POI. There is a good amount of feature space in the lower part of plot (on right) below 0.2 where there are no POIs."
   ]
  },
  {
   "cell_type": "code",
   "execution_count": 11,
   "metadata": {
    "collapsed": true
   },
   "outputs": [],
   "source": [
    "#Create new feature(s)\n",
    "enron_data[\"fraction_from_poi\"] = enron_data[\"from_poi_to_this_person\"].\\\n",
    "divide(enron_data[\"to_messages\"], fill_value = 0)\n",
    "\n",
    "enron_data[\"fraction_to_poi\"] = enron_data[\"from_this_person_to_poi\"].\\\n",
    "divide(enron_data[\"from_messages\"], fill_value = 0)"
   ]
  },
  {
   "cell_type": "code",
   "execution_count": 12,
   "metadata": {
    "collapsed": true
   },
   "outputs": [],
   "source": [
    "enron_data[\"fraction_from_poi\"] = enron_data[\"fraction_from_poi\"].fillna(0.0)\n",
    "enron_data[\"fraction_to_poi\"] = enron_data[\"fraction_to_poi\"].fillna(0.0)"
   ]
  },
  {
   "cell_type": "code",
   "execution_count": 13,
   "metadata": {
    "collapsed": true
   },
   "outputs": [],
   "source": [
    "from bokeh.plotting import figure, show\n",
    "from bokeh.io import output_notebook\n",
    "from bokeh.layouts import row\n",
    "from bokeh.models import ColumnDataSource, HoverTool\n",
    "from bokeh.resources import CDN\n",
    "from bokeh.embed import file_html"
   ]
  },
  {
   "cell_type": "code",
   "execution_count": 14,
   "metadata": {},
   "outputs": [
    {
     "data": {
      "text/html": [
       "\n",
       "    <div class=\"bk-root\">\n",
       "        <a href=\"http://bokeh.pydata.org\" target=\"_blank\" class=\"bk-logo bk-logo-small bk-logo-notebook\"></a>\n",
       "        <span id=\"a84880eb-9a8f-4433-99bd-27405d6db6fd\">Loading BokehJS ...</span>\n",
       "    </div>"
      ]
     },
     "metadata": {},
     "output_type": "display_data"
    },
    {
     "data": {
      "application/javascript": [
       "\n",
       "(function(global) {\n",
       "  function now() {\n",
       "    return new Date();\n",
       "  }\n",
       "\n",
       "  var force = true;\n",
       "\n",
       "  if (typeof (window._bokeh_onload_callbacks) === \"undefined\" || force === true) {\n",
       "    window._bokeh_onload_callbacks = [];\n",
       "    window._bokeh_is_loading = undefined;\n",
       "  }\n",
       "\n",
       "\n",
       "  \n",
       "  if (typeof (window._bokeh_timeout) === \"undefined\" || force === true) {\n",
       "    window._bokeh_timeout = Date.now() + 5000;\n",
       "    window._bokeh_failed_load = false;\n",
       "  }\n",
       "\n",
       "  var NB_LOAD_WARNING = {'data': {'text/html':\n",
       "     \"<div style='background-color: #fdd'>\\n\"+\n",
       "     \"<p>\\n\"+\n",
       "     \"BokehJS does not appear to have successfully loaded. If loading BokehJS from CDN, this \\n\"+\n",
       "     \"may be due to a slow or bad network connection. Possible fixes:\\n\"+\n",
       "     \"</p>\\n\"+\n",
       "     \"<ul>\\n\"+\n",
       "     \"<li>re-rerun `output_notebook()` to attempt to load from CDN again, or</li>\\n\"+\n",
       "     \"<li>use INLINE resources instead, as so:</li>\\n\"+\n",
       "     \"</ul>\\n\"+\n",
       "     \"<code>\\n\"+\n",
       "     \"from bokeh.resources import INLINE\\n\"+\n",
       "     \"output_notebook(resources=INLINE)\\n\"+\n",
       "     \"</code>\\n\"+\n",
       "     \"</div>\"}};\n",
       "\n",
       "  function display_loaded() {\n",
       "    if (window.Bokeh !== undefined) {\n",
       "      var el = document.getElementById(\"a84880eb-9a8f-4433-99bd-27405d6db6fd\");\n",
       "      el.textContent = \"BokehJS \" + Bokeh.version + \" successfully loaded.\";\n",
       "    } else if (Date.now() < window._bokeh_timeout) {\n",
       "      setTimeout(display_loaded, 100)\n",
       "    }\n",
       "  }\n",
       "\n",
       "  function run_callbacks() {\n",
       "    try {\n",
       "      window._bokeh_onload_callbacks.forEach(function(callback) { callback() });\n",
       "    }\n",
       "    finally {\n",
       "      delete window._bokeh_onload_callbacks\n",
       "    }\n",
       "    console.info(\"Bokeh: all callbacks have finished\");\n",
       "  }\n",
       "\n",
       "  function load_libs(js_urls, callback) {\n",
       "    window._bokeh_onload_callbacks.push(callback);\n",
       "    if (window._bokeh_is_loading > 0) {\n",
       "      console.log(\"Bokeh: BokehJS is being loaded, scheduling callback at\", now());\n",
       "      return null;\n",
       "    }\n",
       "    if (js_urls == null || js_urls.length === 0) {\n",
       "      run_callbacks();\n",
       "      return null;\n",
       "    }\n",
       "    console.log(\"Bokeh: BokehJS not loaded, scheduling load and callback at\", now());\n",
       "    window._bokeh_is_loading = js_urls.length;\n",
       "    for (var i = 0; i < js_urls.length; i++) {\n",
       "      var url = js_urls[i];\n",
       "      var s = document.createElement('script');\n",
       "      s.src = url;\n",
       "      s.async = false;\n",
       "      s.onreadystatechange = s.onload = function() {\n",
       "        window._bokeh_is_loading--;\n",
       "        if (window._bokeh_is_loading === 0) {\n",
       "          console.log(\"Bokeh: all BokehJS libraries loaded\");\n",
       "          run_callbacks()\n",
       "        }\n",
       "      };\n",
       "      s.onerror = function() {\n",
       "        console.warn(\"failed to load library \" + url);\n",
       "      };\n",
       "      console.log(\"Bokeh: injecting script tag for BokehJS library: \", url);\n",
       "      document.getElementsByTagName(\"head\")[0].appendChild(s);\n",
       "    }\n",
       "  };var element = document.getElementById(\"a84880eb-9a8f-4433-99bd-27405d6db6fd\");\n",
       "  if (element == null) {\n",
       "    console.log(\"Bokeh: ERROR: autoload.js configured with elementid 'a84880eb-9a8f-4433-99bd-27405d6db6fd' but no matching script tag was found. \")\n",
       "    return false;\n",
       "  }\n",
       "\n",
       "  var js_urls = [\"https://cdn.pydata.org/bokeh/release/bokeh-0.12.6.min.js\", \"https://cdn.pydata.org/bokeh/release/bokeh-widgets-0.12.6.min.js\"];\n",
       "\n",
       "  var inline_js = [\n",
       "    function(Bokeh) {\n",
       "      Bokeh.set_log_level(\"info\");\n",
       "    },\n",
       "    \n",
       "    function(Bokeh) {\n",
       "      \n",
       "    },\n",
       "    \n",
       "    function(Bokeh) {\n",
       "      \n",
       "      document.getElementById(\"a84880eb-9a8f-4433-99bd-27405d6db6fd\").textContent = \"BokehJS is loading...\";\n",
       "    },\n",
       "    function(Bokeh) {\n",
       "      console.log(\"Bokeh: injecting CSS: https://cdn.pydata.org/bokeh/release/bokeh-0.12.6.min.css\");\n",
       "      Bokeh.embed.inject_css(\"https://cdn.pydata.org/bokeh/release/bokeh-0.12.6.min.css\");\n",
       "      console.log(\"Bokeh: injecting CSS: https://cdn.pydata.org/bokeh/release/bokeh-widgets-0.12.6.min.css\");\n",
       "      Bokeh.embed.inject_css(\"https://cdn.pydata.org/bokeh/release/bokeh-widgets-0.12.6.min.css\");\n",
       "    }\n",
       "  ];\n",
       "\n",
       "  function run_inline_js() {\n",
       "    \n",
       "    if ((window.Bokeh !== undefined) || (force === true)) {\n",
       "      for (var i = 0; i < inline_js.length; i++) {\n",
       "        inline_js[i](window.Bokeh);\n",
       "      }if (force === true) {\n",
       "        display_loaded();\n",
       "      }} else if (Date.now() < window._bokeh_timeout) {\n",
       "      setTimeout(run_inline_js, 100);\n",
       "    } else if (!window._bokeh_failed_load) {\n",
       "      console.log(\"Bokeh: BokehJS failed to load within specified timeout.\");\n",
       "      window._bokeh_failed_load = true;\n",
       "    } else if (force !== true) {\n",
       "      var cell = $(document.getElementById(\"a84880eb-9a8f-4433-99bd-27405d6db6fd\")).parents('.cell').data().cell;\n",
       "      cell.output_area.append_execute_result(NB_LOAD_WARNING)\n",
       "    }\n",
       "\n",
       "  }\n",
       "\n",
       "  if (window._bokeh_is_loading === 0) {\n",
       "    console.log(\"Bokeh: BokehJS loaded, going straight to plotting\");\n",
       "    run_inline_js();\n",
       "  } else {\n",
       "    load_libs(js_urls, function() {\n",
       "      console.log(\"Bokeh: BokehJS plotting callback run at\", now());\n",
       "      run_inline_js();\n",
       "    });\n",
       "  }\n",
       "}(this));"
      ]
     },
     "metadata": {},
     "output_type": "display_data"
    }
   ],
   "source": [
    "output_notebook()"
   ]
  },
  {
   "cell_type": "code",
   "execution_count": 15,
   "metadata": {},
   "outputs": [
    {
     "data": {
      "text/html": [
       "<div style=\"display: table;\"><div style=\"display: table-row;\"><div style=\"display: table-cell;\"><b title=\"bokeh.models.renderers.GlyphRenderer\">GlyphRenderer</b>(</div><div style=\"display: table-cell;\">id&nbsp;=&nbsp;'416b1dd1-1c94-4c96-a2da-6175fa42abf7', <span id=\"859017fe-9105-4995-a531-67a6af96954a\" style=\"cursor: pointer;\">&hellip;)</span></div></div><div class=\"30587be9-9a1b-48bc-9f84-ee635e54968b\" style=\"display: none;\"><div style=\"display: table-cell;\"></div><div style=\"display: table-cell;\">data_source&nbsp;=&nbsp;ColumnDataSource(id='9d4fbf2c-6ce0-4126-a6aa-2f5bc76dc920', ...),</div></div><div class=\"30587be9-9a1b-48bc-9f84-ee635e54968b\" style=\"display: none;\"><div style=\"display: table-cell;\"></div><div style=\"display: table-cell;\">glyph&nbsp;=&nbsp;Circle(id='fdfbdeaf-a4f3-4867-a786-59aba1cdad12', ...),</div></div><div class=\"30587be9-9a1b-48bc-9f84-ee635e54968b\" style=\"display: none;\"><div style=\"display: table-cell;\"></div><div style=\"display: table-cell;\">hover_glyph&nbsp;=&nbsp;None,</div></div><div class=\"30587be9-9a1b-48bc-9f84-ee635e54968b\" style=\"display: none;\"><div style=\"display: table-cell;\"></div><div style=\"display: table-cell;\">js_event_callbacks&nbsp;=&nbsp;{},</div></div><div class=\"30587be9-9a1b-48bc-9f84-ee635e54968b\" style=\"display: none;\"><div style=\"display: table-cell;\"></div><div style=\"display: table-cell;\">js_property_callbacks&nbsp;=&nbsp;{},</div></div><div class=\"30587be9-9a1b-48bc-9f84-ee635e54968b\" style=\"display: none;\"><div style=\"display: table-cell;\"></div><div style=\"display: table-cell;\">level&nbsp;=&nbsp;'glyph',</div></div><div class=\"30587be9-9a1b-48bc-9f84-ee635e54968b\" style=\"display: none;\"><div style=\"display: table-cell;\"></div><div style=\"display: table-cell;\">muted&nbsp;=&nbsp;False,</div></div><div class=\"30587be9-9a1b-48bc-9f84-ee635e54968b\" style=\"display: none;\"><div style=\"display: table-cell;\"></div><div style=\"display: table-cell;\">muted_glyph&nbsp;=&nbsp;None,</div></div><div class=\"30587be9-9a1b-48bc-9f84-ee635e54968b\" style=\"display: none;\"><div style=\"display: table-cell;\"></div><div style=\"display: table-cell;\">name&nbsp;=&nbsp;None,</div></div><div class=\"30587be9-9a1b-48bc-9f84-ee635e54968b\" style=\"display: none;\"><div style=\"display: table-cell;\"></div><div style=\"display: table-cell;\">nonselection_glyph&nbsp;=&nbsp;Circle(id='7b6195e2-f0a9-459d-93dc-c6d3ba49ad44', ...),</div></div><div class=\"30587be9-9a1b-48bc-9f84-ee635e54968b\" style=\"display: none;\"><div style=\"display: table-cell;\"></div><div style=\"display: table-cell;\">selection_glyph&nbsp;=&nbsp;None,</div></div><div class=\"30587be9-9a1b-48bc-9f84-ee635e54968b\" style=\"display: none;\"><div style=\"display: table-cell;\"></div><div style=\"display: table-cell;\">subscribed_events&nbsp;=&nbsp;[],</div></div><div class=\"30587be9-9a1b-48bc-9f84-ee635e54968b\" style=\"display: none;\"><div style=\"display: table-cell;\"></div><div style=\"display: table-cell;\">tags&nbsp;=&nbsp;[],</div></div><div class=\"30587be9-9a1b-48bc-9f84-ee635e54968b\" style=\"display: none;\"><div style=\"display: table-cell;\"></div><div style=\"display: table-cell;\">visible&nbsp;=&nbsp;True,</div></div><div class=\"30587be9-9a1b-48bc-9f84-ee635e54968b\" style=\"display: none;\"><div style=\"display: table-cell;\"></div><div style=\"display: table-cell;\">x_range_name&nbsp;=&nbsp;'default',</div></div><div class=\"30587be9-9a1b-48bc-9f84-ee635e54968b\" style=\"display: none;\"><div style=\"display: table-cell;\"></div><div style=\"display: table-cell;\">y_range_name&nbsp;=&nbsp;'default')</div></div></div>\n",
       "<script>\n",
       "(function() {\n",
       "  var expanded = false;\n",
       "  var ellipsis = document.getElementById(\"859017fe-9105-4995-a531-67a6af96954a\");\n",
       "  ellipsis.addEventListener(\"click\", function() {\n",
       "    var rows = document.getElementsByClassName(\"30587be9-9a1b-48bc-9f84-ee635e54968b\");\n",
       "    for (var i = 0; i < rows.length; i++) {\n",
       "      var el = rows[i];\n",
       "      el.style.display = expanded ? \"none\" : \"table-row\";\n",
       "    }\n",
       "    ellipsis.innerHTML = expanded ? \"&hellip;)\" : \"&lsaquo;&lsaquo;&lsaquo;\";\n",
       "    expanded = !expanded;\n",
       "  });\n",
       "})();\n",
       "</script>\n"
      ],
      "text/plain": [
       "GlyphRenderer(id='416b1dd1-1c94-4c96-a2da-6175fa42abf7', ...)"
      ]
     },
     "execution_count": 15,
     "metadata": {},
     "output_type": "execute_result"
    }
   ],
   "source": [
    "colormap = {False: 'blue', True: 'red'}\n",
    "colors = [colormap[x] for x in enron_data['poi']]\n",
    "\n",
    "labelmap = {False: 'Non-POI', True: 'POI'}\n",
    "labels = [labelmap[x] for x in enron_data['poi']]\n",
    "\n",
    "source = ColumnDataSource(dict(\n",
    "    x1=enron_data[\"from_poi_to_this_person\"],\n",
    "    y1=enron_data[\"from_this_person_to_poi\"],\n",
    "    x2=enron_data[\"fraction_from_poi\"],\n",
    "    y2=enron_data[\"fraction_to_poi\"],\n",
    "    color=colors,\n",
    "    label=labels\n",
    "))\n",
    "\n",
    "# Before feature engineering\n",
    "s1 = figure(plot_width=450, plot_height=400)\n",
    "s1.xaxis.axis_label = 'no. of emails from POI to this person'\n",
    "s1.yaxis.axis_label = 'no. of emails from this person to POI'\n",
    "\n",
    "s1.circle('x1', 'y1', size = 10, alpha = 0.5, \n",
    "          color='color', legend = 'label', source = source)\n",
    "\n",
    "# After feature engineering\n",
    "s2 = figure(plot_width=450, plot_height=400)\n",
    "s2.xaxis.axis_label = 'fraction of emails this person gets from POI'\n",
    "s2.yaxis.axis_label = 'fraction of emails this person sends to POI'\n",
    "\n",
    "s2.circle('x2', 'y2', size = 10, alpha = 0.5, \n",
    "          color='color', legend = 'label', source = source)"
   ]
  },
  {
   "cell_type": "code",
   "execution_count": 16,
   "metadata": {},
   "outputs": [
    {
     "data": {
      "text/html": [
       "\n",
       "<!DOCTYPE html>\n",
       "<html lang=\"en\">\n",
       "    <head>\n",
       "        <meta charset=\"utf-8\">\n",
       "        <title>Bokeh Application</title>\n",
       "        \n",
       "<link rel=\"stylesheet\" href=\"https://cdn.pydata.org/bokeh/release/bokeh-0.12.6.min.css\" type=\"text/css\" />\n",
       "        \n",
       "<script type=\"text/javascript\" src=\"https://cdn.pydata.org/bokeh/release/bokeh-0.12.6.min.js\"></script>\n",
       "<script type=\"text/javascript\">\n",
       "    Bokeh.set_log_level(\"info\");\n",
       "</script>\n",
       "        <style>\n",
       "          html {\n",
       "            width: 100%;\n",
       "            height: 100%;\n",
       "          }\n",
       "          body {\n",
       "            width: 90%;\n",
       "            height: 100%;\n",
       "            margin: auto;\n",
       "          }\n",
       "        </style>\n",
       "    </head>\n",
       "    <body>\n",
       "        \n",
       "        <div class=\"bk-root\">\n",
       "            <div class=\"bk-plotdiv\" id=\"9e9d28d0-97e2-4d54-afec-9cd03467f195\"></div>\n",
       "        </div>\n",
       "        \n",
       "        <script type=\"text/javascript\">\n",
       "            (function() {\n",
       "          var fn = function() {\n",
       "            Bokeh.safely(function() {\n",
       "              var docs_json = {\"900e196a-8adb-4221-8f45-3f59970d87cd\":{\"roots\":{\"references\":[{\"attributes\":{},\"id\":\"ee04bf27-9647-4f27-9489-2ec585c21d9c\",\"type\":\"BasicTicker\"},{\"attributes\":{\"plot\":{\"id\":\"ae19c9e1-6d35-41f6-8aeb-d41c7b847d88\",\"subtype\":\"Figure\",\"type\":\"Plot\"}},\"id\":\"6efa4009-7100-488f-a9c5-b7e40eb61e2f\",\"type\":\"ResetTool\"},{\"attributes\":{\"dimension\":1,\"plot\":{\"id\":\"ae19c9e1-6d35-41f6-8aeb-d41c7b847d88\",\"subtype\":\"Figure\",\"type\":\"Plot\"},\"ticker\":{\"id\":\"ee04bf27-9647-4f27-9489-2ec585c21d9c\",\"type\":\"BasicTicker\"}},\"id\":\"ac386439-f444-406a-9f3c-e52053dfd266\",\"type\":\"Grid\"},{\"attributes\":{\"plot\":{\"id\":\"ae19c9e1-6d35-41f6-8aeb-d41c7b847d88\",\"subtype\":\"Figure\",\"type\":\"Plot\"}},\"id\":\"de548cee-b496-4181-8f15-194d491685f8\",\"type\":\"HelpTool\"},{\"attributes\":{\"plot\":{\"id\":\"ae19c9e1-6d35-41f6-8aeb-d41c7b847d88\",\"subtype\":\"Figure\",\"type\":\"Plot\"},\"ticker\":{\"id\":\"7e5e4f12-9961-4a9e-bac6-f229b37892b8\",\"type\":\"BasicTicker\"}},\"id\":\"b8bb3833-e14e-4b14-b08a-d44936f67b2c\",\"type\":\"Grid\"},{\"attributes\":{},\"id\":\"7e5e4f12-9961-4a9e-bac6-f229b37892b8\",\"type\":\"BasicTicker\"},{\"attributes\":{\"axis_label\":\"fraction of emails this person sends to POI\",\"formatter\":{\"id\":\"2e445700-f563-4565-be12-6f5b9acfce00\",\"type\":\"BasicTickFormatter\"},\"plot\":{\"id\":\"2b4cf2bd-7e31-4dcc-acb7-41fa4c4d91a2\",\"subtype\":\"Figure\",\"type\":\"Plot\"},\"ticker\":{\"id\":\"064c0a2e-0fb0-4b57-8993-06447856d8b7\",\"type\":\"BasicTicker\"}},\"id\":\"25f0dea6-6f89-47d8-a569-7e760b18ca9d\",\"type\":\"LinearAxis\"},{\"attributes\":{\"children\":[{\"id\":\"ae19c9e1-6d35-41f6-8aeb-d41c7b847d88\",\"subtype\":\"Figure\",\"type\":\"Plot\"},{\"id\":\"2b4cf2bd-7e31-4dcc-acb7-41fa4c4d91a2\",\"subtype\":\"Figure\",\"type\":\"Plot\"}]},\"id\":\"763fc9fc-78b6-498d-80cc-d60553b83c33\",\"type\":\"Row\"},{\"attributes\":{},\"id\":\"ff04074a-2711-4f8e-8df6-bf5350411ca1\",\"type\":\"LinearScale\"},{\"attributes\":{\"callback\":null},\"id\":\"e81090df-686e-4ca5-8068-e63df994ba69\",\"type\":\"DataRange1d\"},{\"attributes\":{\"callback\":null},\"id\":\"a4633d98-81d3-4ef9-9ecc-3de6495ef37a\",\"type\":\"DataRange1d\"},{\"attributes\":{\"plot\":{\"id\":\"2b4cf2bd-7e31-4dcc-acb7-41fa4c4d91a2\",\"subtype\":\"Figure\",\"type\":\"Plot\"}},\"id\":\"efd9714d-766d-41df-9b07-c132d1b63a53\",\"type\":\"WheelZoomTool\"},{\"attributes\":{\"plot\":{\"id\":\"2b4cf2bd-7e31-4dcc-acb7-41fa4c4d91a2\",\"subtype\":\"Figure\",\"type\":\"Plot\"}},\"id\":\"03995f58-d578-4965-a133-f909737feeb0\",\"type\":\"HelpTool\"},{\"attributes\":{\"plot\":{\"id\":\"2b4cf2bd-7e31-4dcc-acb7-41fa4c4d91a2\",\"subtype\":\"Figure\",\"type\":\"Plot\"},\"ticker\":{\"id\":\"9165bafd-64e8-4b6d-bab3-e2530f73248c\",\"type\":\"BasicTicker\"}},\"id\":\"e92f1802-2206-4822-a2dd-315294cf023f\",\"type\":\"Grid\"},{\"attributes\":{\"label\":{\"field\":\"label\"},\"renderers\":[{\"id\":\"416b1dd1-1c94-4c96-a2da-6175fa42abf7\",\"type\":\"GlyphRenderer\"}]},\"id\":\"b355dd11-8a20-4bdf-80f1-689518cbd741\",\"type\":\"LegendItem\"},{\"attributes\":{\"plot\":{\"id\":\"ae19c9e1-6d35-41f6-8aeb-d41c7b847d88\",\"subtype\":\"Figure\",\"type\":\"Plot\"}},\"id\":\"5d8faf6a-43e0-4845-8d24-493a3a4acd81\",\"type\":\"SaveTool\"},{\"attributes\":{\"axis_label\":\"no. of emails from POI to this person\",\"formatter\":{\"id\":\"cdd937a6-e059-4415-a82d-4f83fa1a5f34\",\"type\":\"BasicTickFormatter\"},\"plot\":{\"id\":\"ae19c9e1-6d35-41f6-8aeb-d41c7b847d88\",\"subtype\":\"Figure\",\"type\":\"Plot\"},\"ticker\":{\"id\":\"7e5e4f12-9961-4a9e-bac6-f229b37892b8\",\"type\":\"BasicTicker\"}},\"id\":\"0e5fad06-2c54-4310-ae6b-5f22877fd61d\",\"type\":\"LinearAxis\"},{\"attributes\":{\"callback\":null},\"id\":\"68142b16-bdd8-439c-9625-3e11b02c4474\",\"type\":\"DataRange1d\"},{\"attributes\":{},\"id\":\"064c0a2e-0fb0-4b57-8993-06447856d8b7\",\"type\":\"BasicTicker\"},{\"attributes\":{\"plot\":{\"id\":\"ae19c9e1-6d35-41f6-8aeb-d41c7b847d88\",\"subtype\":\"Figure\",\"type\":\"Plot\"}},\"id\":\"31f10cbe-e337-4f30-b4e0-1c86cb6c82ce\",\"type\":\"WheelZoomTool\"},{\"attributes\":{\"plot\":{\"id\":\"2b4cf2bd-7e31-4dcc-acb7-41fa4c4d91a2\",\"subtype\":\"Figure\",\"type\":\"Plot\"}},\"id\":\"32da34d8-5e23-488e-9d16-adfb8882b717\",\"type\":\"SaveTool\"},{\"attributes\":{\"axis_label\":\"no. of emails from this person to POI\",\"formatter\":{\"id\":\"26fb0f42-488f-44c2-86d6-f1fe58ffc2f1\",\"type\":\"BasicTickFormatter\"},\"plot\":{\"id\":\"ae19c9e1-6d35-41f6-8aeb-d41c7b847d88\",\"subtype\":\"Figure\",\"type\":\"Plot\"},\"ticker\":{\"id\":\"ee04bf27-9647-4f27-9489-2ec585c21d9c\",\"type\":\"BasicTicker\"}},\"id\":\"c2def5da-b612-4060-a9cc-89f43437a989\",\"type\":\"LinearAxis\"},{\"attributes\":{\"dimension\":1,\"plot\":{\"id\":\"2b4cf2bd-7e31-4dcc-acb7-41fa4c4d91a2\",\"subtype\":\"Figure\",\"type\":\"Plot\"},\"ticker\":{\"id\":\"064c0a2e-0fb0-4b57-8993-06447856d8b7\",\"type\":\"BasicTicker\"}},\"id\":\"b9b7ec4f-fef0-478a-a8b9-19501d6adc24\",\"type\":\"Grid\"},{\"attributes\":{\"plot\":{\"id\":\"ae19c9e1-6d35-41f6-8aeb-d41c7b847d88\",\"subtype\":\"Figure\",\"type\":\"Plot\"}},\"id\":\"ee25768e-e27a-43e3-9c88-ac2023bbed59\",\"type\":\"PanTool\"},{\"attributes\":{},\"id\":\"f3b8b847-41b6-417d-a3bf-49022971390d\",\"type\":\"LinearScale\"},{\"attributes\":{\"overlay\":{\"id\":\"b6ac24d8-f121-40b5-93c3-170000d90cab\",\"type\":\"BoxAnnotation\"},\"plot\":{\"id\":\"2b4cf2bd-7e31-4dcc-acb7-41fa4c4d91a2\",\"subtype\":\"Figure\",\"type\":\"Plot\"}},\"id\":\"90c036bf-c8c4-436a-9692-257307df42c8\",\"type\":\"BoxZoomTool\"},{\"attributes\":{\"callback\":null},\"id\":\"37957f5c-d178-45ca-b0c2-bfaed6880bf9\",\"type\":\"DataRange1d\"},{\"attributes\":{\"fill_alpha\":{\"value\":0.5},\"fill_color\":{\"field\":\"color\"},\"line_alpha\":{\"value\":0.5},\"line_color\":{\"field\":\"color\"},\"size\":{\"units\":\"screen\",\"value\":10},\"x\":{\"field\":\"x2\"},\"y\":{\"field\":\"y2\"}},\"id\":\"fdfbdeaf-a4f3-4867-a786-59aba1cdad12\",\"type\":\"Circle\"},{\"attributes\":{\"label\":{\"field\":\"label\"},\"renderers\":[{\"id\":\"e4ed3883-30e7-42c0-96a1-7d9e6ce2d835\",\"type\":\"GlyphRenderer\"}]},\"id\":\"cd2b578b-5895-4fb8-87a1-e566107e43a8\",\"type\":\"LegendItem\"},{\"attributes\":{},\"id\":\"2e4fc631-371e-4d92-a323-90c668d58a0e\",\"type\":\"BasicTickFormatter\"},{\"attributes\":{\"data_source\":{\"id\":\"9d4fbf2c-6ce0-4126-a6aa-2f5bc76dc920\",\"type\":\"ColumnDataSource\"},\"glyph\":{\"id\":\"afaab063-a652-441b-a971-73bd2d34de52\",\"type\":\"Circle\"},\"hover_glyph\":null,\"muted_glyph\":null,\"nonselection_glyph\":{\"id\":\"03ba1684-8954-4452-9776-0f512fddaba9\",\"type\":\"Circle\"},\"selection_glyph\":null},\"id\":\"e4ed3883-30e7-42c0-96a1-7d9e6ce2d835\",\"type\":\"GlyphRenderer\"},{\"attributes\":{\"plot\":{\"id\":\"2b4cf2bd-7e31-4dcc-acb7-41fa4c4d91a2\",\"subtype\":\"Figure\",\"type\":\"Plot\"}},\"id\":\"0b2b1536-04ec-4350-a259-0a644faae3ec\",\"type\":\"ResetTool\"},{\"attributes\":{\"items\":[{\"id\":\"cd2b578b-5895-4fb8-87a1-e566107e43a8\",\"type\":\"LegendItem\"}],\"plot\":{\"id\":\"ae19c9e1-6d35-41f6-8aeb-d41c7b847d88\",\"subtype\":\"Figure\",\"type\":\"Plot\"}},\"id\":\"eba4ad95-cabb-4e0c-a445-656270823bea\",\"type\":\"Legend\"},{\"attributes\":{\"fill_alpha\":{\"value\":0.1},\"fill_color\":{\"value\":\"#1f77b4\"},\"line_alpha\":{\"value\":0.1},\"line_color\":{\"value\":\"#1f77b4\"},\"size\":{\"units\":\"screen\",\"value\":10},\"x\":{\"field\":\"x1\"},\"y\":{\"field\":\"y1\"}},\"id\":\"03ba1684-8954-4452-9776-0f512fddaba9\",\"type\":\"Circle\"},{\"attributes\":{},\"id\":\"2e445700-f563-4565-be12-6f5b9acfce00\",\"type\":\"BasicTickFormatter\"},{\"attributes\":{\"axis_label\":\"fraction of emails this person gets from POI\",\"formatter\":{\"id\":\"2e4fc631-371e-4d92-a323-90c668d58a0e\",\"type\":\"BasicTickFormatter\"},\"plot\":{\"id\":\"2b4cf2bd-7e31-4dcc-acb7-41fa4c4d91a2\",\"subtype\":\"Figure\",\"type\":\"Plot\"},\"ticker\":{\"id\":\"9165bafd-64e8-4b6d-bab3-e2530f73248c\",\"type\":\"BasicTicker\"}},\"id\":\"e484d7c2-3c08-4582-9b83-de57b49c0f46\",\"type\":\"LinearAxis\"},{\"attributes\":{\"plot\":null,\"text\":\"\"},\"id\":\"4be7a9d7-71c0-41d4-a703-4ba962d1066a\",\"type\":\"Title\"},{\"attributes\":{\"callback\":null,\"column_names\":[\"x2\",\"y1\",\"x1\",\"color\",\"y2\",\"label\"],\"data\":{\"color\":[\"blue\",\"blue\",\"blue\",\"blue\",\"blue\",\"blue\",\"blue\",\"red\",\"blue\",\"blue\",\"blue\",\"blue\",\"blue\",\"blue\",\"blue\",\"red\",\"blue\",\"blue\",\"blue\",\"blue\",\"red\",\"blue\",\"red\",\"blue\",\"blue\",\"blue\",\"red\",\"blue\",\"blue\",\"blue\",\"blue\",\"red\",\"blue\",\"blue\",\"blue\",\"blue\",\"blue\",\"blue\",\"blue\",\"blue\",\"blue\",\"blue\",\"blue\",\"red\",\"blue\",\"blue\",\"blue\",\"blue\",\"blue\",\"blue\",\"blue\",\"blue\",\"blue\",\"blue\",\"red\",\"blue\",\"blue\",\"blue\",\"blue\",\"red\",\"blue\",\"blue\",\"blue\",\"blue\",\"blue\",\"red\",\"blue\",\"blue\",\"blue\",\"blue\",\"blue\",\"blue\",\"blue\",\"blue\",\"blue\",\"blue\",\"red\",\"red\",\"blue\",\"red\",\"blue\",\"blue\",\"blue\",\"blue\",\"blue\",\"blue\",\"blue\",\"blue\",\"blue\",\"blue\",\"blue\",\"blue\",\"blue\",\"blue\",\"blue\",\"blue\",\"blue\",\"blue\",\"blue\",\"blue\",\"blue\",\"blue\",\"blue\",\"blue\",\"blue\",\"blue\",\"blue\",\"blue\",\"blue\",\"blue\",\"blue\",\"blue\",\"red\",\"red\",\"blue\",\"blue\",\"blue\",\"blue\",\"blue\",\"red\",\"blue\",\"blue\",\"red\",\"blue\",\"blue\",\"blue\",\"blue\",\"blue\",\"blue\",\"blue\",\"blue\",\"blue\",\"blue\",\"blue\",\"blue\",\"blue\",\"blue\",\"blue\",\"blue\",\"blue\",\"blue\",\"blue\",\"red\",\"blue\"],\"label\":[\"Non-POI\",\"Non-POI\",\"Non-POI\",\"Non-POI\",\"Non-POI\",\"Non-POI\",\"Non-POI\",\"POI\",\"Non-POI\",\"Non-POI\",\"Non-POI\",\"Non-POI\",\"Non-POI\",\"Non-POI\",\"Non-POI\",\"POI\",\"Non-POI\",\"Non-POI\",\"Non-POI\",\"Non-POI\",\"POI\",\"Non-POI\",\"POI\",\"Non-POI\",\"Non-POI\",\"Non-POI\",\"POI\",\"Non-POI\",\"Non-POI\",\"Non-POI\",\"Non-POI\",\"POI\",\"Non-POI\",\"Non-POI\",\"Non-POI\",\"Non-POI\",\"Non-POI\",\"Non-POI\",\"Non-POI\",\"Non-POI\",\"Non-POI\",\"Non-POI\",\"Non-POI\",\"POI\",\"Non-POI\",\"Non-POI\",\"Non-POI\",\"Non-POI\",\"Non-POI\",\"Non-POI\",\"Non-POI\",\"Non-POI\",\"Non-POI\",\"Non-POI\",\"POI\",\"Non-POI\",\"Non-POI\",\"Non-POI\",\"Non-POI\",\"POI\",\"Non-POI\",\"Non-POI\",\"Non-POI\",\"Non-POI\",\"Non-POI\",\"POI\",\"Non-POI\",\"Non-POI\",\"Non-POI\",\"Non-POI\",\"Non-POI\",\"Non-POI\",\"Non-POI\",\"Non-POI\",\"Non-POI\",\"Non-POI\",\"POI\",\"POI\",\"Non-POI\",\"POI\",\"Non-POI\",\"Non-POI\",\"Non-POI\",\"Non-POI\",\"Non-POI\",\"Non-POI\",\"Non-POI\",\"Non-POI\",\"Non-POI\",\"Non-POI\",\"Non-POI\",\"Non-POI\",\"Non-POI\",\"Non-POI\",\"Non-POI\",\"Non-POI\",\"Non-POI\",\"Non-POI\",\"Non-POI\",\"Non-POI\",\"Non-POI\",\"Non-POI\",\"Non-POI\",\"Non-POI\",\"Non-POI\",\"Non-POI\",\"Non-POI\",\"Non-POI\",\"Non-POI\",\"Non-POI\",\"Non-POI\",\"Non-POI\",\"POI\",\"POI\",\"Non-POI\",\"Non-POI\",\"Non-POI\",\"Non-POI\",\"Non-POI\",\"POI\",\"Non-POI\",\"Non-POI\",\"POI\",\"Non-POI\",\"Non-POI\",\"Non-POI\",\"Non-POI\",\"Non-POI\",\"Non-POI\",\"Non-POI\",\"Non-POI\",\"Non-POI\",\"Non-POI\",\"Non-POI\",\"Non-POI\",\"Non-POI\",\"Non-POI\",\"Non-POI\",\"Non-POI\",\"Non-POI\",\"Non-POI\",\"Non-POI\",\"POI\",\"Non-POI\"],\"x1\":{\"__ndarray__\":\"AAAAAACAR0AAAAAAAAAAAAAAAAAAgENAAAAAAAAAAAAAAAAAAAAAAAAAAAAAAAAAAAAAAAAAYkAAAAAAAIBsQAAAAAAAAAAAAAAAAAAAAAAAAAAAAAAQQAAAAAAAAAAAAAAAAAAAN0AAAAAAAAA5QAAAAAAAAAAAAAAAAACAYUAAAAAAAAAqQAAAAAAAAAAAAAAAAAAAAAAAAAAAAIBjQAAAAAAA4GhAAAAAAAAAPUAAAAAAAABNQAAAAAAAAAAAAAAAAAAAAAAAAAAAAAAAAAAAAAAAAG5AAAAAAAAAJEAAAAAAAAAAAAAAAAAAAAAAAAAAAADAXEAAAAAAAIBQQAAAAAAAAFBAAAAAAAAAAAAAAAAAABBzQAAAAAAAAAAAAAAAAAAAJEAAAAAAAIBnQAAAAAAAAAAAAAAAAACAWkAAAAAAAAAAAAAAAAAAAAAAAAAAAAAARUAAAAAAAAAAAAAAAAAAAPA/AAAAAAAAAAAAAAAAAAAAAAAAAAAAQG5AAAAAAAAAAAAAAAAAAAAAAAAAAAAAACRAAAAAAAAAAAAAAAAAAAAAAAAAAAAAAAAAAAAAAAAASkAAAAAAAAAAAAAAAAAAAAAAAAAAAAAAAAAAAAAAAIBmQAAAAAAAAEBAAAAAAAAAEEAAAAAAAAAwQAAAAAAAgEFAAAAAAAAAAAAAAAAAAABEQAAAAAAAAAAAAAAAAAAARkAAAAAAAIBBQAAAAAAAACRAAAAAAAAAPEAAAAAAAAA5QAAAAAAAAAAAAAAAAACAREAAAAAAAIBhQAAAAAAAAAAAAAAAAABgb0AAAAAAAIBKQAAAAAAAAAAAAAAAAACAgEAAAAAAAMBeQAAAAAAAwFBAAAAAAAAAAAAAAAAAAAAkQAAAAAAAAAAAAAAAAAAAAAAAAAAAAAAAAAAAAAAAACBAAAAAAAAAOUAAAAAAAABKQAAAAAAAAFdAAAAAAAAAS0AAAAAAAABNQAAAAAAAAAAAAAAAAAAAQ0AAAAAAAAAAAAAAAAAAAAAAAAAAAAAAAAAAAAAAAAAAAAAAAAAAAChAAAAAAAAAJkAAAAAAAAAAAAAAAAAAADRAAAAAAAAAAAAAAAAAAAAAAAAAAAAAAAAAAAAAAAAAHEAAAAAAAIBOQAAAAAAAAAAAAAAAAAAAAAAAAAAAAAAAAAAAAAAAgGlAAAAAAAAAAAAAAAAAAABFQAAAAAAAgEFAAAAAAAAAAAAAAAAAAAAAAAAAAAAAgFdAAAAAAACAUkAAAAAAAAA4QAAAAAAAACpAAAAAAACAQ0AAAAAAAAA8QAAAAAAAAFZAAAAAAAAAAAAAAAAAAAAAAAAAAAAAgEJAAAAAAAAAAAAAAAAAAAAAAAAAAAAAACRAAAAAAAAAKEAAAAAAAAAAAAAAAAAAAAAAAAAAAAAAMUAAAAAAAAAAAAAAAAAAADZAAAAAAAAAAAAAAAAAAAAAAAAAAAAAQGdAAAAAAAAAAAAAAAAAAAAAAAAAAAAAAAAAAAAAAAAAAAAAAAAAAAAAAAAAAAAAAAAA\",\"dtype\":\"float64\",\"shape\":[144]},\"x2\":{\"__ndarray__\":\"H/an2JyVkD8AAAAAAAAAAN3kOUC7o7E/AAAAAAAAAAAAAAAAAAAAAAAAAAAAAAAAQSukv3QolD/fTq65hDedPwAAAAAAAAAAAAAAAAAAAADiUny6l2OFPwAAAAAAAAAAxkVmks9PjT9bv1Kg1q+EPwAAAAAAAAAAQnFFhCBKsz9LE/hQo+qBPwAAAAAAAAAAAAAAAAAAAADWE2Ub7aumP5cbPNXim7M/uHzLt3zLtz98Ezx5IGSfPwAAAAAAAAAAAAAAAAAAAAAAAAAAAAAAAHcYFHVyecE/CIZki2jOij8AAAAAAAAAAAAAAAAAAAAAVcKdVMKdxD9d7+TqwtmVP00W2iZxDJ4/AAAAAAAAAADoPnYdklu+PwAAAAAAAAAAF1100UUXrT/Mr27K1NHLPwAAAAAAAAAAf0jg7YcEvj8AAAAAAAAAAAAAAAAAAAAAGYiBGIiBmD8AAAAAAAAAABIYgREYgVE/AAAAAAAAAAAAAAAAAAAAAI/3w/+o6rI/AAAAAAAAAAAAAAAAAAAAADyfHjdjf6g/AAAAAAAAAAAAAAAAAAAAAAAAAAAAAAAAHthHU0R/rj8AAAAAAAAAAAAAAAAAAAAAAAAAAAAAAABcj0Ou//ymP5+YjUZgW58/TeQV++aXfD8QBEEQBEGgP+OYIiosD4s/AAAAAAAAAAAIH3zwwQefPwAAAAAAAAAAnxjJYzoskz8NNaXQauyoPwAAAAAAALQ/55xzzjnnrD805ow5Y864PwAAAAAAAAAAiaa1xeY5gj8uwmMTFXuGPwAAAAAAAAAAdWQV6rbynj9OfQkcatyWPwAAAAAAAAAA3ODIQOmesj/0LVFF63mdP2+K13TUT5g/AAAAAAAAAAAWOoMVOoOFPwAAAAAAAAAAAAAAAAAAAAAAAAAAAAAAAM58NamRh3U/FcMct1fdkT+E6PFdOIieP3rNkKWXTJw//XmVxRntrj+CSAdPMziZPwAAAAAAAAAAX3XCbeobqD8AAAAAAAAAAAAAAAAAAAAAAAAAAAAAAAAAAAAAAAAAAJeWlpaWlrY/f9y6vAOOdD8AAAAAAAAAAMIU+awbTJE/AAAAAAAAAAAAAAAAAAAAAAAAAAAAAAAAoOhoSMHtfz/H2o07UDqpPwAAAAAAAAAAAAAAAAAAAAAAAAAAAAAAAIxrLufNQL8/AAAAAAAAAABLODFC5sKnP4IS3mjq/Jo/AAAAAAAAAAAAAAAAAAAAAGZb+mpG4p0/pTiIbxgCdD/Wh8b60Fh/P+py+4MMla0/+IN0NYBJsD+cbiWaO/6BP750njFD2Jg/AAAAAAAAAAAAAAAAAAAAAI9TYESLoIw/AAAAAAAAAAAAAAAAAAAAAGQhC1nIQpY/0LrBFPmsuz8AAAAAAAAAAAAAAAAAAAAALPSAkoDxmT8AAAAAAAAAAClcj8L1KKw/AAAAAAAAAAAAAAAAAAAAAGRE6LnPpJ8/AAAAAAAAAAAAAAAAAAAAAAAAAAAAAAAAAAAAAAAAAAAAAAAAAAAAAAAAAAAAAAAA\",\"dtype\":\"float64\",\"shape\":[144]},\"y1\":{\"__ndarray__\":\"AAAAAABAUEAAAAAAAAAAAAAAAAAAAAAAAAAAAAAAAAAAAAAAAAAAAAAAAAAAAAAAAAAAAAAgeEAAAAAAAABbQAAAAAAAAAAAAAAAAAAAAAAAAAAAAAAAAAAAAAAAAPA/AAAAAAAAIEAAAAAAAAAAQAAAAAAAAAAAAAAAAAAALkAAAAAAAADwPwAAAAAAAAAAAAAAAAAAAAAAAAAAAMBRQAAAAAAAADlAAAAAAAAAHEAAAAAAAAAoQAAAAAAAAAAAAAAAAAAAAAAAAAAAAAAAAAAAAAAAACZAAAAAAAAAAAAAAAAAAAAQQAAAAAAAAAAAAAAAAAAAEEAAAAAAAAiDQAAAAAAAADRAAAAAAAAAAAAAAAAAAAAsQAAAAAAAAAAAAAAAAAAACEAAAAAAAAAmQAAAAAAAAAAAAAAAAAAACEAAAAAAAAAAAAAAAAAAAAAAAAAAAACAQkAAAAAAAAAAAAAAAAAAACBAAAAAAAAAAAAAAAAAAAAAAAAAAAAAABhAAAAAAAAAAAAAAAAAAAAAAAAAAAAAADtAAAAAAAAAAAAAAAAAAAAAAAAAAAAAAAAAAAAAAAAAGEAAAAAAAAAAAAAAAAAAAAAAAAAAAAAAAAAAAAAAAIBOQAAAAAAAADVAAAAAAAAAHEAAAAAAAAAAAAAAAAAAAENAAAAAAAAAAAAAAAAAAADwPwAAAAAAAAAAAAAAAAAALkAAAAAAAAAUQAAAAAAAADFAAAAAAAAAFEAAAAAAAAAzQAAAAAAAAAAAAAAAAABgZUAAAAAAADB4QAAAAAAAAAAAAAAAAABAaEAAAAAAAAAuQAAAAAAAAAAAAAAAAACweUAAAAAAAAAwQAAAAAAAACxAAAAAAAAAAAAAAAAAAAAAAAAAAAAAAAAAAAAAAAAAAAAAAAAAAAAAAAAAAAAAAAAAAAAAAAAAAEAAAAAAAAAAAAAAAAAAQGhAAAAAAAAA8D8AAAAAAAA6QAAAAAAAAAAAAAAAAAAA8D8AAAAAAAAAAAAAAAAAAAAAAAAAAAAAAAAAAAAAAAAAAAAAAAAAAAAAAAAAAAAAAEAAAAAAAAAAAAAAAAAAAC5AAAAAAAAAAAAAAAAAAAAAAAAAAAAAAAAAAAAAAAAAAAAAAAAAAABIQAAAAAAAAPA/AAAAAAAAAAAAAAAAAAAAAAAAAAAAgEhAAAAAAAAAAAAAAAAAAAAQQAAAAAAAAEhAAAAAAAAAAAAAAAAAAAAAAAAAAAAAwFRAAAAAAABAUEAAAAAAAAAYQAAAAAAAACxAAAAAAAAAMkAAAAAAAAA3QAAAAAAAAD5AAAAAAAAAAAAAAAAAAAAAAAAAAAAAACpAAAAAAAAAAAAAAAAAAAAAAAAAAAAAACZAAAAAAAAAAAAAAAAAAAAAAAAAAAAAAAAAAAAAAAAAAAAAAAAAAAAAAAAAAAAAABxAAAAAAAAAAAAAAAAAAAAAAAAAAAAAADhAAAAAAAAAAAAAAAAAAAAAAAAAAAAAAAAAAAAAAAAAAAAAAAAAAAAAAAAAAAAAAAAA\",\"dtype\":\"float64\",\"shape\":[144]},\"y2\":{\"__ndarray__\":\"qRnMbs5Snj8AAAAAAAAAAAAAAAAAAAAAAAAAAAAAAAAAAAAAAAAAAAAAAAAAAAAAXZLbZcDAtj8zKBUm3o/MPwAAAAAAAAAAAAAAAAAAAAAAAAAAAAAAAJZ7GmG5p6E/mpmZmZmZyT+SJEmSJEnCPwAAAAAAAAAAchzHcRzH4T/6GJyPwfmYPwAAAAAAAAAAAAAAAAAAAACDaSZK20KxP47jOI7jOMY/3t3d3d3d3T/Wh8b60FjPPwAAAAAAAAAAAAAAAAAAAAAAAAAAAAAAAJqZmZmZmdE/AAAAAAAAAAAIH3zwwQe/PwAAAAAAAAAA0LrBFPmsqz9mmWWWWWbJP4lHiqm+h5Y/AAAAAAAAAAAcx3Ecx3HMPwAAAAAAAAAA27Zt27Ztyz8AAAAAAADgPwAAAAAAAAAAAAAAAAAA0D8AAAAAAAAAAAAAAAAAAAAAk18s+cWS3z8AAAAAAAAAAAAAAAAAAOA/AAAAAAAAAAAAAAAAAAAAAJIkSZIkSdI/AAAAAAAAAAAAAAAAAAAAAKOLLrroouM/AAAAAAAAAAAAAAAAAAAAAAAAAAAAAAAAAAAAAAAA2D8AAAAAAAAAAAAAAAAAAAAAAAAAAAAAAADwVIx4NhegPwAAAAAAAOU/Q3kN5TWU1z8AAAAAAAAAAMcoy/5gVqI/AAAAAAAAAABoL6G9hPaiPwAAAAAAAAAAWyJwSkihjD/T0tLS0tLCPwAAAAAAAPA/eQ3lNZTX0D9u27Zt27bVPwAAAAAAAAAAujrZQ8lfiD/EQN7MyVCtPwAAAAAAAAAA2ktoL6G9vD8uGYJ1tHnPPwAAAAAAAAAAX8XP/utZxD8cx3Ecx3HcPxzHcRzHccw/AAAAAAAAAAAAAAAAAAAAAAAAAAAAAAAAAAAAAAAAAAAAAAAAAAAAAAAAAAAAAAAAkNEwARkNgz8AAAAAAAAAADhidnLBHLI/FDuxEzuxsz9VVVVVVVXhPwAAAAAAAAAAlnsaYbmnoT8AAAAAAAAAAAAAAAAAAAAAAAAAAAAAAAAAAAAAAAAAAAAAAAAAAAAAF2zBFmzBpj8AAAAAAAAAAGIndmIndtI/AAAAAAAAAAAAAAAAAAAAAAAAAAAAAAAAAAAAAAAAAADQusEU+azLPwAAAAAAALA/AAAAAAAAAAAAAAAAAAAAAJxNYZxNYcw/AAAAAAAAAAAcx3Ecx3HMP7sStStRu+I/AAAAAAAAAAAAAAAAAAAAALOx00+cs58/s9LoERVkqz+XlpaWlpamP5dv+ZZv+dY/CtejcD0K5z8AAAAAAADQP3Icx3Ecx9E/AAAAAAAAAAAAAAAAAAAAAFFeQ3kN5dU/AAAAAAAAAAAAAAAAAAAAAGwor6G8huI/AAAAAAAAAAAAAAAAAAAAAAAAAAAAAAAAAAAAAAAAAAAAAAAAAAAAAN7d3d3d3c0/AAAAAAAAAAAAAAAAAAAAACchir/IGaY/AAAAAAAAAAAAAAAAAAAAAAAAAAAAAAAAAAAAAAAAAAAAAAAAAAAAAAAAAAAAAAAA\",\"dtype\":\"float64\",\"shape\":[144]}}},\"id\":\"9d4fbf2c-6ce0-4126-a6aa-2f5bc76dc920\",\"type\":\"ColumnDataSource\"},{\"attributes\":{},\"id\":\"8cfdbbd1-1ba9-4006-b8a7-00f0e611126e\",\"type\":\"LinearScale\"},{\"attributes\":{},\"id\":\"26fb0f42-488f-44c2-86d6-f1fe58ffc2f1\",\"type\":\"BasicTickFormatter\"},{\"attributes\":{},\"id\":\"9165bafd-64e8-4b6d-bab3-e2530f73248c\",\"type\":\"BasicTicker\"},{\"attributes\":{\"plot\":{\"id\":\"2b4cf2bd-7e31-4dcc-acb7-41fa4c4d91a2\",\"subtype\":\"Figure\",\"type\":\"Plot\"}},\"id\":\"fe5b6731-c44a-4dcb-ab63-c54d49b26222\",\"type\":\"PanTool\"},{\"attributes\":{\"data_source\":{\"id\":\"9d4fbf2c-6ce0-4126-a6aa-2f5bc76dc920\",\"type\":\"ColumnDataSource\"},\"glyph\":{\"id\":\"fdfbdeaf-a4f3-4867-a786-59aba1cdad12\",\"type\":\"Circle\"},\"hover_glyph\":null,\"muted_glyph\":null,\"nonselection_glyph\":{\"id\":\"7b6195e2-f0a9-459d-93dc-c6d3ba49ad44\",\"type\":\"Circle\"},\"selection_glyph\":null},\"id\":\"416b1dd1-1c94-4c96-a2da-6175fa42abf7\",\"type\":\"GlyphRenderer\"},{\"attributes\":{\"fill_alpha\":{\"value\":0.5},\"fill_color\":{\"field\":\"color\"},\"line_alpha\":{\"value\":0.5},\"line_color\":{\"field\":\"color\"},\"size\":{\"units\":\"screen\",\"value\":10},\"x\":{\"field\":\"x1\"},\"y\":{\"field\":\"y1\"}},\"id\":\"afaab063-a652-441b-a971-73bd2d34de52\",\"type\":\"Circle\"},{\"attributes\":{\"overlay\":{\"id\":\"07fe658d-b66e-4ce6-8224-8a883d7e13c3\",\"type\":\"BoxAnnotation\"},\"plot\":{\"id\":\"ae19c9e1-6d35-41f6-8aeb-d41c7b847d88\",\"subtype\":\"Figure\",\"type\":\"Plot\"}},\"id\":\"0681c270-af36-4582-a007-a52e00e2abcc\",\"type\":\"BoxZoomTool\"},{\"attributes\":{},\"id\":\"d5c3c7ed-17d8-4610-9624-298707645f5e\",\"type\":\"ToolEvents\"},{\"attributes\":{\"bottom_units\":\"screen\",\"fill_alpha\":{\"value\":0.5},\"fill_color\":{\"value\":\"lightgrey\"},\"left_units\":\"screen\",\"level\":\"overlay\",\"line_alpha\":{\"value\":1.0},\"line_color\":{\"value\":\"black\"},\"line_dash\":[4,4],\"line_width\":{\"value\":2},\"plot\":null,\"render_mode\":\"css\",\"right_units\":\"screen\",\"top_units\":\"screen\"},\"id\":\"07fe658d-b66e-4ce6-8224-8a883d7e13c3\",\"type\":\"BoxAnnotation\"},{\"attributes\":{},\"id\":\"b4c68ba8-de30-4252-a935-f2199b8b6009\",\"type\":\"LinearScale\"},{\"attributes\":{\"bottom_units\":\"screen\",\"fill_alpha\":{\"value\":0.5},\"fill_color\":{\"value\":\"lightgrey\"},\"left_units\":\"screen\",\"level\":\"overlay\",\"line_alpha\":{\"value\":1.0},\"line_color\":{\"value\":\"black\"},\"line_dash\":[4,4],\"line_width\":{\"value\":2},\"plot\":null,\"render_mode\":\"css\",\"right_units\":\"screen\",\"top_units\":\"screen\"},\"id\":\"b6ac24d8-f121-40b5-93c3-170000d90cab\",\"type\":\"BoxAnnotation\"},{\"attributes\":{\"active_drag\":\"auto\",\"active_inspect\":\"auto\",\"active_scroll\":\"auto\",\"active_tap\":\"auto\",\"tools\":[{\"id\":\"fe5b6731-c44a-4dcb-ab63-c54d49b26222\",\"type\":\"PanTool\"},{\"id\":\"efd9714d-766d-41df-9b07-c132d1b63a53\",\"type\":\"WheelZoomTool\"},{\"id\":\"90c036bf-c8c4-436a-9692-257307df42c8\",\"type\":\"BoxZoomTool\"},{\"id\":\"32da34d8-5e23-488e-9d16-adfb8882b717\",\"type\":\"SaveTool\"},{\"id\":\"0b2b1536-04ec-4350-a259-0a644faae3ec\",\"type\":\"ResetTool\"},{\"id\":\"03995f58-d578-4965-a133-f909737feeb0\",\"type\":\"HelpTool\"}]},\"id\":\"a8c0bf1a-6eed-424e-928f-01bbe2dd5560\",\"type\":\"Toolbar\"},{\"attributes\":{},\"id\":\"f2766588-a3b8-41a6-8118-60fa5497cd5e\",\"type\":\"ToolEvents\"},{\"attributes\":{\"plot\":null,\"text\":\"\"},\"id\":\"a790af10-de1a-430b-bb34-84b99d95c1b9\",\"type\":\"Title\"},{\"attributes\":{\"below\":[{\"id\":\"0e5fad06-2c54-4310-ae6b-5f22877fd61d\",\"type\":\"LinearAxis\"}],\"left\":[{\"id\":\"c2def5da-b612-4060-a9cc-89f43437a989\",\"type\":\"LinearAxis\"}],\"plot_height\":400,\"plot_width\":450,\"renderers\":[{\"id\":\"0e5fad06-2c54-4310-ae6b-5f22877fd61d\",\"type\":\"LinearAxis\"},{\"id\":\"b8bb3833-e14e-4b14-b08a-d44936f67b2c\",\"type\":\"Grid\"},{\"id\":\"c2def5da-b612-4060-a9cc-89f43437a989\",\"type\":\"LinearAxis\"},{\"id\":\"ac386439-f444-406a-9f3c-e52053dfd266\",\"type\":\"Grid\"},{\"id\":\"07fe658d-b66e-4ce6-8224-8a883d7e13c3\",\"type\":\"BoxAnnotation\"},{\"id\":\"eba4ad95-cabb-4e0c-a445-656270823bea\",\"type\":\"Legend\"},{\"id\":\"e4ed3883-30e7-42c0-96a1-7d9e6ce2d835\",\"type\":\"GlyphRenderer\"}],\"title\":{\"id\":\"4be7a9d7-71c0-41d4-a703-4ba962d1066a\",\"type\":\"Title\"},\"tool_events\":{\"id\":\"d5c3c7ed-17d8-4610-9624-298707645f5e\",\"type\":\"ToolEvents\"},\"toolbar\":{\"id\":\"e08e11c8-b9db-4490-aa6e-ae310f3c7153\",\"type\":\"Toolbar\"},\"x_range\":{\"id\":\"e81090df-686e-4ca5-8068-e63df994ba69\",\"type\":\"DataRange1d\"},\"x_scale\":{\"id\":\"b4c68ba8-de30-4252-a935-f2199b8b6009\",\"type\":\"LinearScale\"},\"y_range\":{\"id\":\"68142b16-bdd8-439c-9625-3e11b02c4474\",\"type\":\"DataRange1d\"},\"y_scale\":{\"id\":\"f3b8b847-41b6-417d-a3bf-49022971390d\",\"type\":\"LinearScale\"}},\"id\":\"ae19c9e1-6d35-41f6-8aeb-d41c7b847d88\",\"subtype\":\"Figure\",\"type\":\"Plot\"},{\"attributes\":{\"active_drag\":\"auto\",\"active_inspect\":\"auto\",\"active_scroll\":\"auto\",\"active_tap\":\"auto\",\"tools\":[{\"id\":\"ee25768e-e27a-43e3-9c88-ac2023bbed59\",\"type\":\"PanTool\"},{\"id\":\"31f10cbe-e337-4f30-b4e0-1c86cb6c82ce\",\"type\":\"WheelZoomTool\"},{\"id\":\"0681c270-af36-4582-a007-a52e00e2abcc\",\"type\":\"BoxZoomTool\"},{\"id\":\"5d8faf6a-43e0-4845-8d24-493a3a4acd81\",\"type\":\"SaveTool\"},{\"id\":\"6efa4009-7100-488f-a9c5-b7e40eb61e2f\",\"type\":\"ResetTool\"},{\"id\":\"de548cee-b496-4181-8f15-194d491685f8\",\"type\":\"HelpTool\"}]},\"id\":\"e08e11c8-b9db-4490-aa6e-ae310f3c7153\",\"type\":\"Toolbar\"},{\"attributes\":{\"below\":[{\"id\":\"e484d7c2-3c08-4582-9b83-de57b49c0f46\",\"type\":\"LinearAxis\"}],\"left\":[{\"id\":\"25f0dea6-6f89-47d8-a569-7e760b18ca9d\",\"type\":\"LinearAxis\"}],\"plot_height\":400,\"plot_width\":450,\"renderers\":[{\"id\":\"e484d7c2-3c08-4582-9b83-de57b49c0f46\",\"type\":\"LinearAxis\"},{\"id\":\"e92f1802-2206-4822-a2dd-315294cf023f\",\"type\":\"Grid\"},{\"id\":\"25f0dea6-6f89-47d8-a569-7e760b18ca9d\",\"type\":\"LinearAxis\"},{\"id\":\"b9b7ec4f-fef0-478a-a8b9-19501d6adc24\",\"type\":\"Grid\"},{\"id\":\"b6ac24d8-f121-40b5-93c3-170000d90cab\",\"type\":\"BoxAnnotation\"},{\"id\":\"0903cd53-32b9-4d46-ba84-8991d256e3f6\",\"type\":\"Legend\"},{\"id\":\"416b1dd1-1c94-4c96-a2da-6175fa42abf7\",\"type\":\"GlyphRenderer\"}],\"title\":{\"id\":\"a790af10-de1a-430b-bb34-84b99d95c1b9\",\"type\":\"Title\"},\"tool_events\":{\"id\":\"f2766588-a3b8-41a6-8118-60fa5497cd5e\",\"type\":\"ToolEvents\"},\"toolbar\":{\"id\":\"a8c0bf1a-6eed-424e-928f-01bbe2dd5560\",\"type\":\"Toolbar\"},\"x_range\":{\"id\":\"a4633d98-81d3-4ef9-9ecc-3de6495ef37a\",\"type\":\"DataRange1d\"},\"x_scale\":{\"id\":\"8cfdbbd1-1ba9-4006-b8a7-00f0e611126e\",\"type\":\"LinearScale\"},\"y_range\":{\"id\":\"37957f5c-d178-45ca-b0c2-bfaed6880bf9\",\"type\":\"DataRange1d\"},\"y_scale\":{\"id\":\"ff04074a-2711-4f8e-8df6-bf5350411ca1\",\"type\":\"LinearScale\"}},\"id\":\"2b4cf2bd-7e31-4dcc-acb7-41fa4c4d91a2\",\"subtype\":\"Figure\",\"type\":\"Plot\"},{\"attributes\":{\"items\":[{\"id\":\"b355dd11-8a20-4bdf-80f1-689518cbd741\",\"type\":\"LegendItem\"}],\"plot\":{\"id\":\"2b4cf2bd-7e31-4dcc-acb7-41fa4c4d91a2\",\"subtype\":\"Figure\",\"type\":\"Plot\"}},\"id\":\"0903cd53-32b9-4d46-ba84-8991d256e3f6\",\"type\":\"Legend\"},{\"attributes\":{\"fill_alpha\":{\"value\":0.1},\"fill_color\":{\"value\":\"#1f77b4\"},\"line_alpha\":{\"value\":0.1},\"line_color\":{\"value\":\"#1f77b4\"},\"size\":{\"units\":\"screen\",\"value\":10},\"x\":{\"field\":\"x2\"},\"y\":{\"field\":\"y2\"}},\"id\":\"7b6195e2-f0a9-459d-93dc-c6d3ba49ad44\",\"type\":\"Circle\"},{\"attributes\":{},\"id\":\"cdd937a6-e059-4415-a82d-4f83fa1a5f34\",\"type\":\"BasicTickFormatter\"}],\"root_ids\":[\"763fc9fc-78b6-498d-80cc-d60553b83c33\"]},\"title\":\"Bokeh Application\",\"version\":\"0.12.6\"}};\n",
       "              var render_items = [{\"docid\":\"900e196a-8adb-4221-8f45-3f59970d87cd\",\"elementid\":\"9e9d28d0-97e2-4d54-afec-9cd03467f195\",\"modelid\":\"763fc9fc-78b6-498d-80cc-d60553b83c33\"}];\n",
       "              \n",
       "              Bokeh.embed.embed_items(docs_json, render_items);\n",
       "            });\n",
       "          };\n",
       "          if (document.readyState != \"loading\") fn();\n",
       "          else document.addEventListener(\"DOMContentLoaded\", fn);\n",
       "        })();\n",
       "        \n",
       "        </script>\n",
       "    </body>\n",
       "</html>"
      ],
      "text/plain": [
       "<IPython.core.display.HTML object>"
      ]
     },
     "execution_count": 16,
     "metadata": {},
     "output_type": "execute_result"
    }
   ],
   "source": [
    "#show(row(s1, s2))\n",
    "plot1 = row(s1, s2)\n",
    "plot1_html = file_html(plot1, CDN)\n",
    "HTML(plot1_html)"
   ]
  },
  {
   "cell_type": "markdown",
   "metadata": {},
   "source": [
    "## Feature Scaling"
   ]
  },
  {
   "cell_type": "markdown",
   "metadata": {},
   "source": [
    "I have used **decision tree** as my final algorithm. Algorithms like decision tree and linear regression don't require feature scaling, whereas Support Vector Machines (SVM) and k-means clustering does.\n",
    "\n",
    "**SVM** and **k-means** clustering calculate Euclidean distance between points. If one of the features has a large range, the distance will be governed by this particular feature. These classifiers are **affine transformation variant**.\n",
    "\n",
    "In case of **linear regression**, there is a coefficient with each feature. If a feature has large ranges that do not effect the label, regression algorithm will make the corresponding coefficients small. Even in case of **tree based algorithms**, we don't have to worry about one dimension, when we are doing something with the other. These classifers are **affine transformation invariant**."
   ]
  },
  {
   "cell_type": "markdown",
   "metadata": {},
   "source": [
    "## Feature Selection"
   ]
  },
  {
   "cell_type": "code",
   "execution_count": 17,
   "metadata": {
    "collapsed": true
   },
   "outputs": [],
   "source": [
    "# Store to my_dataset for easy export below.\n",
    "# create a dictionary from the dataframe\n",
    "my_dataset = enron_data.to_dict('index')"
   ]
  },
  {
   "cell_type": "markdown",
   "metadata": {},
   "source": [
    "Features $\\neq$ Information. We want to have the minimum number of features than capture trends and patterns in our data. We want to get rid of features that don't give us any information. Machine learning algorithm is just going to be as good as the features we put into it. It is critical that the methodology deployed for feature selection must be scientific and exhaustive without room for intuition.\n",
    "\n",
    "First I manually removed features which had more than 50% of the values missing (NaN), then I performed [SelectKBest](http://scikit-learn.org/stable/modules/feature_selection.html) on remaining features and selected eight features with scores greater than 2. "
   ]
  },
  {
   "cell_type": "code",
   "execution_count": 18,
   "metadata": {},
   "outputs": [],
   "source": [
    "from sklearn.feature_selection import SelectKBest, f_classif\n",
    "\n",
    "features_list = [\"poi\", \"bonus\", \"exercised_stock_options\", \"expenses\", \"other\", \"restricted_stock\", \"salary\", \n",
    "                  \"shared_receipt_with_poi\", \"total_payments\", \"total_stock_value\", \"fraction_to_poi\",\n",
    "                 \"fraction_from_poi\"]\n",
    "\n",
    "data = featureFormat(my_dataset, features_list, sort_keys = True)\n",
    "labels, features = targetFeatureSplit(data)\n",
    "\n",
    "# Perform feature selection\n",
    "selector = SelectKBest(f_classif, k=5)\n",
    "selector.fit(features, labels)\n",
    "\n",
    "# Get the raw p-values for each feature, and transform from p-values into scores\n",
    "scores = -np.log10(selector.pvalues_)"
   ]
  },
  {
   "cell_type": "code",
   "execution_count": 19,
   "metadata": {},
   "outputs": [
    {
     "data": {
      "text/html": [
       "\n",
       "<!DOCTYPE html>\n",
       "<html lang=\"en\">\n",
       "    <head>\n",
       "        <meta charset=\"utf-8\">\n",
       "        <title>Bokeh Application</title>\n",
       "        \n",
       "<link rel=\"stylesheet\" href=\"https://cdn.pydata.org/bokeh/release/bokeh-0.12.6.min.css\" type=\"text/css\" />\n",
       "        \n",
       "<script type=\"text/javascript\" src=\"https://cdn.pydata.org/bokeh/release/bokeh-0.12.6.min.js\"></script>\n",
       "<script type=\"text/javascript\">\n",
       "    Bokeh.set_log_level(\"info\");\n",
       "</script>\n",
       "        <style>\n",
       "          html {\n",
       "            width: 100%;\n",
       "            height: 100%;\n",
       "          }\n",
       "          body {\n",
       "            width: 90%;\n",
       "            height: 100%;\n",
       "            margin: auto;\n",
       "          }\n",
       "        </style>\n",
       "    </head>\n",
       "    <body>\n",
       "        \n",
       "        <div class=\"bk-root\">\n",
       "            <div class=\"bk-plotdiv\" id=\"7837cf6e-f74e-41d3-98e2-0c9f1f20aca5\"></div>\n",
       "        </div>\n",
       "        \n",
       "        <script type=\"text/javascript\">\n",
       "            (function() {\n",
       "          var fn = function() {\n",
       "            Bokeh.safely(function() {\n",
       "              var docs_json = {\"ff7f81e2-b14d-4ce1-a838-454d8c81218d\":{\"roots\":{\"references\":[{\"attributes\":{\"plot\":{\"id\":\"a98bb5d1-b141-4b9f-ba5c-e7606026a71f\",\"subtype\":\"Chart\",\"type\":\"Plot\"}},\"id\":\"89b13081-5a07-4c05-aac0-9c513b6ee66f\",\"type\":\"PanTool\"},{\"attributes\":{\"data_source\":{\"id\":\"02a2bddb-ebf9-4a05-ae84-213937e05a1e\",\"type\":\"ColumnDataSource\"},\"glyph\":{\"id\":\"3797cd44-7044-4e9b-a2c8-c096b147293a\",\"type\":\"Rect\"},\"hover_glyph\":null,\"muted_glyph\":null},\"id\":\"039e5875-108c-41a1-a2fb-65d3fa3cc3fd\",\"type\":\"GlyphRenderer\"},{\"attributes\":{\"plot\":{\"id\":\"a98bb5d1-b141-4b9f-ba5c-e7606026a71f\",\"subtype\":\"Chart\",\"type\":\"Plot\"}},\"id\":\"f7790ff2-2b8e-401f-b3c3-c0d83ab63888\",\"type\":\"WheelZoomTool\"},{\"attributes\":{\"data_source\":{\"id\":\"22eb8393-072f-4faa-a909-eefd6f8516db\",\"type\":\"ColumnDataSource\"},\"glyph\":{\"id\":\"b3d3d91b-652b-4005-9de5-ae95887de796\",\"type\":\"Rect\"},\"hover_glyph\":null,\"muted_glyph\":null},\"id\":\"241731fe-cf6a-4002-871c-b29ddf800ebd\",\"type\":\"GlyphRenderer\"},{\"attributes\":{\"callback\":null,\"factors\":[\"bonus\",\"exercised_stock_options\",\"expenses\",\"fraction_from_poi\",\"fraction_to_poi\",\"other\",\"restricted_stock\",\"salary\",\"shared_receipt_with_poi\",\"total_payments\",\"total_stock_value\"]},\"id\":\"918b31b1-99ca-4db4-90b9-fc09ac341890\",\"type\":\"FactorRange\"},{\"attributes\":{\"below\":[{\"id\":\"e64e09f7-0950-4aee-81a6-7ecb4413f0aa\",\"type\":\"CategoricalAxis\"}],\"css_classes\":null,\"left\":[{\"id\":\"051f834c-0e62-4f77-a69b-4a8e8a3ecae8\",\"type\":\"LinearAxis\"}],\"plot_height\":450,\"plot_width\":450,\"renderers\":[{\"id\":\"e4b13068-6689-4b37-8f88-25b9d2a417c8\",\"type\":\"BoxAnnotation\"},{\"id\":\"316b99e5-3690-4d37-84e6-d4aff5f69b2f\",\"type\":\"GlyphRenderer\"},{\"id\":\"ce189ce1-a53d-40b0-9a20-6a545851bd11\",\"type\":\"GlyphRenderer\"},{\"id\":\"039e5875-108c-41a1-a2fb-65d3fa3cc3fd\",\"type\":\"GlyphRenderer\"},{\"id\":\"6ada3a15-7362-440a-951c-defa2ca82b19\",\"type\":\"GlyphRenderer\"},{\"id\":\"eaafaf4e-bb07-45de-9872-1f6e1ff8191d\",\"type\":\"GlyphRenderer\"},{\"id\":\"58588532-19b9-4d43-9fc3-5be0d61a524f\",\"type\":\"GlyphRenderer\"},{\"id\":\"b0d1d54f-6f57-4804-aaae-823d7eb815bb\",\"type\":\"GlyphRenderer\"},{\"id\":\"aef119f3-6657-43d2-b241-11fbd03429f4\",\"type\":\"GlyphRenderer\"},{\"id\":\"de51caf5-eab4-493a-92ce-e14d21cb3668\",\"type\":\"GlyphRenderer\"},{\"id\":\"241731fe-cf6a-4002-871c-b29ddf800ebd\",\"type\":\"GlyphRenderer\"},{\"id\":\"867747d5-3dd4-4b93-9591-34b002a2ed67\",\"type\":\"GlyphRenderer\"},{\"id\":\"e64e09f7-0950-4aee-81a6-7ecb4413f0aa\",\"type\":\"CategoricalAxis\"},{\"id\":\"051f834c-0e62-4f77-a69b-4a8e8a3ecae8\",\"type\":\"LinearAxis\"},{\"id\":\"776c336b-072a-4d27-beb5-703d0fd8bd10\",\"type\":\"Grid\"}],\"title\":{\"id\":\"2bca5a49-57d6-43bc-bc8e-c209694305bb\",\"type\":\"Title\"},\"tool_events\":{\"id\":\"f5aeb44c-de22-4da1-992a-b47ac212edb5\",\"type\":\"ToolEvents\"},\"toolbar\":{\"id\":\"39254400-6df0-431b-9651-070b2157bd7e\",\"type\":\"Toolbar\"},\"x_range\":{\"id\":\"918b31b1-99ca-4db4-90b9-fc09ac341890\",\"type\":\"FactorRange\"},\"x_scale\":{\"id\":\"44271130-d7cf-4541-a9bc-45f73f5c8551\",\"type\":\"CategoricalScale\"},\"y_range\":{\"id\":\"533a2b62-f07f-4177-8432-bd73741d13cd\",\"type\":\"Range1d\"},\"y_scale\":{\"id\":\"09268c2a-fa00-4f12-9ce6-59cb683911aa\",\"type\":\"LinearScale\"}},\"id\":\"a98bb5d1-b141-4b9f-ba5c-e7606026a71f\",\"subtype\":\"Chart\",\"type\":\"Plot\"},{\"attributes\":{\"callback\":null,\"column_names\":[\"line_color\",\"line_alpha\",\"color\",\"fill_alpha\",\"height\",\"width\",\"y\",\"x\",\"label\"],\"data\":{\"chart_index\":[{\"features\":\"shared_receipt_with_poi\"}],\"color\":[\"#f22c40\"],\"features\":[\"shared_receipt_with_poi\"],\"fill_alpha\":[0.8],\"height\":[2.40386464353768],\"label\":[{\"features\":\"shared_receipt_with_poi\"}],\"line_alpha\":[1.0],\"line_color\":[\"white\"],\"width\":[0.8],\"x\":[\"shared_receipt_with_poi\"],\"y\":[1.20193232176884]}},\"id\":\"7528215e-8df3-45c6-9098-9d5f89becb1b\",\"type\":\"ColumnDataSource\"},{\"attributes\":{\"fill_alpha\":{\"field\":\"fill_alpha\"},\"fill_color\":{\"field\":\"color\"},\"height\":{\"field\":\"height\",\"units\":\"data\"},\"line_color\":{\"field\":\"line_color\"},\"width\":{\"field\":\"width\",\"units\":\"data\"},\"x\":{\"field\":\"x\"},\"y\":{\"field\":\"y\"}},\"id\":\"72117762-0582-4ee3-8cb7-0d3d0f8d5357\",\"type\":\"Rect\"},{\"attributes\":{\"data_source\":{\"id\":\"b29beb86-acc2-488d-9c42-24c1e43dd9f5\",\"type\":\"ColumnDataSource\"},\"glyph\":{\"id\":\"60215ff9-fffd-4bfc-a4c5-2fbaba857f01\",\"type\":\"Rect\"},\"hover_glyph\":null,\"muted_glyph\":null},\"id\":\"58588532-19b9-4d43-9fc3-5be0d61a524f\",\"type\":\"GlyphRenderer\"},{\"attributes\":{\"data_source\":{\"id\":\"3db09be0-973f-4277-a476-8057470cb1d4\",\"type\":\"ColumnDataSource\"},\"glyph\":{\"id\":\"553475f7-fccd-4e19-b05e-5f9eca71cfad\",\"type\":\"Rect\"},\"hover_glyph\":null,\"muted_glyph\":null},\"id\":\"867747d5-3dd4-4b93-9591-34b002a2ed67\",\"type\":\"GlyphRenderer\"},{\"attributes\":{},\"id\":\"7f055679-b13a-477f-9507-1eaeda181b7a\",\"type\":\"BasicTickFormatter\"},{\"attributes\":{\"callback\":null,\"column_names\":[\"line_color\",\"line_alpha\",\"color\",\"fill_alpha\",\"height\",\"width\",\"y\",\"x\",\"label\"],\"data\":{\"chart_index\":[{\"features\":\"fraction_to_poi\"}],\"color\":[\"#f22c40\"],\"features\":[\"fraction_to_poi\"],\"fill_alpha\":[0.8],\"height\":[4.076292220311065],\"label\":[{\"features\":\"fraction_to_poi\"}],\"line_alpha\":[1.0],\"line_color\":[\"white\"],\"width\":[0.8],\"x\":[\"fraction_to_poi\"],\"y\":[2.0381461101555325]}},\"id\":\"22eb8393-072f-4faa-a909-eefd6f8516db\",\"type\":\"ColumnDataSource\"},{\"attributes\":{\"fill_alpha\":{\"field\":\"fill_alpha\"},\"fill_color\":{\"field\":\"color\"},\"height\":{\"field\":\"height\",\"units\":\"data\"},\"line_color\":{\"field\":\"line_color\"},\"width\":{\"field\":\"width\",\"units\":\"data\"},\"x\":{\"field\":\"x\"},\"y\":{\"field\":\"y\"}},\"id\":\"341b9b4a-1411-4ce4-b2df-5dd9fbd4c3a9\",\"type\":\"Rect\"},{\"attributes\":{\"plot\":null,\"text\":\"Select K Best\"},\"id\":\"2bca5a49-57d6-43bc-bc8e-c209694305bb\",\"type\":\"Title\"},{\"attributes\":{\"axis_label\":\"Sum( Scores )\",\"formatter\":{\"id\":\"7f055679-b13a-477f-9507-1eaeda181b7a\",\"type\":\"BasicTickFormatter\"},\"plot\":{\"id\":\"a98bb5d1-b141-4b9f-ba5c-e7606026a71f\",\"subtype\":\"Chart\",\"type\":\"Plot\"},\"ticker\":{\"id\":\"c599e083-369c-4172-bb9a-2648ed9b651e\",\"type\":\"BasicTicker\"}},\"id\":\"051f834c-0e62-4f77-a69b-4a8e8a3ecae8\",\"type\":\"LinearAxis\"},{\"attributes\":{\"data_source\":{\"id\":\"43a3a532-05e1-4a39-a836-c4ca65b00402\",\"type\":\"ColumnDataSource\"},\"glyph\":{\"id\":\"063cbbde-2695-4474-a934-0b9b4ba55b45\",\"type\":\"Rect\"},\"hover_glyph\":null,\"muted_glyph\":null},\"id\":\"eaafaf4e-bb07-45de-9872-1f6e1ff8191d\",\"type\":\"GlyphRenderer\"},{\"attributes\":{\"callback\":null,\"column_names\":[\"line_color\",\"line_alpha\",\"color\",\"fill_alpha\",\"height\",\"width\",\"y\",\"x\",\"label\"],\"data\":{\"chart_index\":[{\"features\":\"salary\"}],\"color\":[\"#f22c40\"],\"features\":[\"salary\"],\"fill_alpha\":[0.8],\"height\":[4.458636238488813],\"label\":[{\"features\":\"salary\"}],\"line_alpha\":[1.0],\"line_color\":[\"white\"],\"width\":[0.8],\"x\":[\"salary\"],\"y\":[2.2293181192444065]}},\"id\":\"b29beb86-acc2-488d-9c42-24c1e43dd9f5\",\"type\":\"ColumnDataSource\"},{\"attributes\":{\"data_source\":{\"id\":\"92b51f63-64a8-4755-a02b-b334eef48bca\",\"type\":\"ColumnDataSource\"},\"glyph\":{\"id\":\"341b9b4a-1411-4ce4-b2df-5dd9fbd4c3a9\",\"type\":\"Rect\"},\"hover_glyph\":null,\"muted_glyph\":null},\"id\":\"aef119f3-6657-43d2-b241-11fbd03429f4\",\"type\":\"GlyphRenderer\"},{\"attributes\":{\"fill_alpha\":{\"field\":\"fill_alpha\"},\"fill_color\":{\"field\":\"color\"},\"height\":{\"field\":\"height\",\"units\":\"data\"},\"line_color\":{\"field\":\"line_color\"},\"width\":{\"field\":\"width\",\"units\":\"data\"},\"x\":{\"field\":\"x\"},\"y\":{\"field\":\"y\"}},\"id\":\"0b51c263-45a8-491f-aea4-721134c789c7\",\"type\":\"Rect\"},{\"attributes\":{\"active_drag\":\"auto\",\"active_inspect\":\"auto\",\"active_scroll\":\"auto\",\"active_tap\":\"auto\",\"tools\":[{\"id\":\"89b13081-5a07-4c05-aac0-9c513b6ee66f\",\"type\":\"PanTool\"},{\"id\":\"f7790ff2-2b8e-401f-b3c3-c0d83ab63888\",\"type\":\"WheelZoomTool\"},{\"id\":\"e5f33da3-2805-4caf-b968-bc563f151d9e\",\"type\":\"BoxZoomTool\"},{\"id\":\"4b58d6da-2662-4268-b402-7196d16503b2\",\"type\":\"SaveTool\"},{\"id\":\"8a239d94-9861-4d3a-bafe-d12089c3dbfa\",\"type\":\"ResetTool\"},{\"id\":\"5b68a91e-68e2-4513-bb2e-a114c45cd88a\",\"type\":\"HelpTool\"}]},\"id\":\"39254400-6df0-431b-9651-070b2157bd7e\",\"type\":\"Toolbar\"},{\"attributes\":{\"plot\":{\"id\":\"a98bb5d1-b141-4b9f-ba5c-e7606026a71f\",\"subtype\":\"Chart\",\"type\":\"Plot\"}},\"id\":\"4b58d6da-2662-4268-b402-7196d16503b2\",\"type\":\"SaveTool\"},{\"attributes\":{},\"id\":\"44271130-d7cf-4541-a9bc-45f73f5c8551\",\"type\":\"CategoricalScale\"},{\"attributes\":{\"callback\":null,\"column_names\":[\"line_color\",\"line_alpha\",\"color\",\"fill_alpha\",\"height\",\"width\",\"y\",\"x\",\"label\"],\"data\":{\"chart_index\":[{\"features\":\"other\"}],\"color\":[\"#f22c40\"],\"features\":[\"other\"],\"fill_alpha\":[0.8],\"height\":[1.3707765246201635],\"label\":[{\"features\":\"other\"}],\"line_alpha\":[1.0],\"line_color\":[\"white\"],\"width\":[0.8],\"x\":[\"other\"],\"y\":[0.6853882623100818]}},\"id\":\"fab9724a-e46c-487d-bbeb-3b7c7b645559\",\"type\":\"ColumnDataSource\"},{\"attributes\":{\"fill_alpha\":{\"field\":\"fill_alpha\"},\"fill_color\":{\"field\":\"color\"},\"height\":{\"field\":\"height\",\"units\":\"data\"},\"line_color\":{\"field\":\"line_color\"},\"width\":{\"field\":\"width\",\"units\":\"data\"},\"x\":{\"field\":\"x\"},\"y\":{\"field\":\"y\"}},\"id\":\"3988c387-f1fc-402d-80bd-8e26d27511f3\",\"type\":\"Rect\"},{\"attributes\":{\"plot\":{\"id\":\"a98bb5d1-b141-4b9f-ba5c-e7606026a71f\",\"subtype\":\"Chart\",\"type\":\"Plot\"}},\"id\":\"5b68a91e-68e2-4513-bb2e-a114c45cd88a\",\"type\":\"HelpTool\"},{\"attributes\":{},\"id\":\"09268c2a-fa00-4f12-9ce6-59cb683911aa\",\"type\":\"LinearScale\"},{\"attributes\":{\"axis_label\":\"Features\",\"formatter\":{\"id\":\"73b44909-359c-44a2-aec4-84b09e14846e\",\"type\":\"CategoricalTickFormatter\"},\"major_label_orientation\":0.7853981633974483,\"plot\":{\"id\":\"a98bb5d1-b141-4b9f-ba5c-e7606026a71f\",\"subtype\":\"Chart\",\"type\":\"Plot\"},\"ticker\":{\"id\":\"04c1a5d8-7556-4827-8c1a-d091272ffde3\",\"type\":\"CategoricalTicker\"}},\"id\":\"e64e09f7-0950-4aee-81a6-7ecb4413f0aa\",\"type\":\"CategoricalAxis\"},{\"attributes\":{\"callback\":null,\"column_names\":[\"line_color\",\"line_alpha\",\"color\",\"fill_alpha\",\"height\",\"width\",\"y\",\"x\",\"label\"],\"data\":{\"chart_index\":[{\"features\":\"expenses\"}],\"color\":[\"#f22c40\"],\"features\":[\"expenses\"],\"fill_alpha\":[0.8],\"height\":[1.8309666095033812],\"label\":[{\"features\":\"expenses\"}],\"line_alpha\":[1.0],\"line_color\":[\"white\"],\"width\":[0.8],\"x\":[\"expenses\"],\"y\":[0.9154833047516906]}},\"id\":\"02a2bddb-ebf9-4a05-ae84-213937e05a1e\",\"type\":\"ColumnDataSource\"},{\"attributes\":{\"overlay\":{\"id\":\"e4b13068-6689-4b37-8f88-25b9d2a417c8\",\"type\":\"BoxAnnotation\"},\"plot\":{\"id\":\"a98bb5d1-b141-4b9f-ba5c-e7606026a71f\",\"subtype\":\"Chart\",\"type\":\"Plot\"}},\"id\":\"e5f33da3-2805-4caf-b968-bc563f151d9e\",\"type\":\"BoxZoomTool\"},{\"attributes\":{\"dimension\":1,\"plot\":{\"id\":\"a98bb5d1-b141-4b9f-ba5c-e7606026a71f\",\"subtype\":\"Chart\",\"type\":\"Plot\"},\"ticker\":{\"id\":\"c599e083-369c-4172-bb9a-2648ed9b651e\",\"type\":\"BasicTicker\"}},\"id\":\"776c336b-072a-4d27-beb5-703d0fd8bd10\",\"type\":\"Grid\"},{\"attributes\":{\"bottom_units\":\"screen\",\"fill_alpha\":{\"value\":0.5},\"fill_color\":{\"value\":\"lightgrey\"},\"left_units\":\"screen\",\"level\":\"overlay\",\"line_alpha\":{\"value\":1.0},\"line_color\":{\"value\":\"black\"},\"line_dash\":[4,4],\"line_width\":{\"value\":2},\"plot\":null,\"render_mode\":\"css\",\"right_units\":\"screen\",\"top_units\":\"screen\"},\"id\":\"e4b13068-6689-4b37-8f88-25b9d2a417c8\",\"type\":\"BoxAnnotation\"},{\"attributes\":{\"plot\":{\"id\":\"a98bb5d1-b141-4b9f-ba5c-e7606026a71f\",\"subtype\":\"Chart\",\"type\":\"Plot\"}},\"id\":\"8a239d94-9861-4d3a-bafe-d12089c3dbfa\",\"type\":\"ResetTool\"},{\"attributes\":{\"callback\":null,\"column_names\":[\"line_color\",\"line_alpha\",\"color\",\"fill_alpha\",\"height\",\"width\",\"y\",\"x\",\"label\"],\"data\":{\"chart_index\":[{\"features\":\"fraction_from_poi\"}],\"color\":[\"#f22c40\"],\"features\":[\"fraction_from_poi\"],\"fill_alpha\":[0.8],\"height\":[1.10173509818475],\"label\":[{\"features\":\"fraction_from_poi\"}],\"line_alpha\":[1.0],\"line_color\":[\"white\"],\"width\":[0.8],\"x\":[\"fraction_from_poi\"],\"y\":[0.550867549092375]}},\"id\":\"3db09be0-973f-4277-a476-8057470cb1d4\",\"type\":\"ColumnDataSource\"},{\"attributes\":{\"fill_alpha\":{\"field\":\"fill_alpha\"},\"fill_color\":{\"field\":\"color\"},\"height\":{\"field\":\"height\",\"units\":\"data\"},\"line_color\":{\"field\":\"line_color\"},\"width\":{\"field\":\"width\",\"units\":\"data\"},\"x\":{\"field\":\"x\"},\"y\":{\"field\":\"y\"}},\"id\":\"063cbbde-2695-4474-a934-0b9b4ba55b45\",\"type\":\"Rect\"},{\"attributes\":{\"fill_alpha\":{\"field\":\"fill_alpha\"},\"fill_color\":{\"field\":\"color\"},\"height\":{\"field\":\"height\",\"units\":\"data\"},\"line_color\":{\"field\":\"line_color\"},\"width\":{\"field\":\"width\",\"units\":\"data\"},\"x\":{\"field\":\"x\"},\"y\":{\"field\":\"y\"}},\"id\":\"b3d3d91b-652b-4005-9de5-ae95887de796\",\"type\":\"Rect\"},{\"attributes\":{\"data_source\":{\"id\":\"fab9724a-e46c-487d-bbeb-3b7c7b645559\",\"type\":\"ColumnDataSource\"},\"glyph\":{\"id\":\"72117762-0582-4ee3-8cb7-0d3d0f8d5357\",\"type\":\"Rect\"},\"hover_glyph\":null,\"muted_glyph\":null},\"id\":\"6ada3a15-7362-440a-951c-defa2ca82b19\",\"type\":\"GlyphRenderer\"},{\"attributes\":{\"callback\":null,\"column_names\":[\"line_color\",\"line_alpha\",\"color\",\"fill_alpha\",\"height\",\"width\",\"y\",\"x\",\"label\"],\"data\":{\"chart_index\":[{\"features\":\"restricted_stock\"}],\"color\":[\"#f22c40\"],\"features\":[\"restricted_stock\"],\"fill_alpha\":[0.8],\"height\":[2.543208542735528],\"label\":[{\"features\":\"restricted_stock\"}],\"line_alpha\":[1.0],\"line_color\":[\"white\"],\"width\":[0.8],\"x\":[\"restricted_stock\"],\"y\":[1.271604271367764]}},\"id\":\"43a3a532-05e1-4a39-a836-c4ca65b00402\",\"type\":\"ColumnDataSource\"},{\"attributes\":{\"data_source\":{\"id\":\"af495441-c269-4970-8b9d-2ce88d059298\",\"type\":\"ColumnDataSource\"},\"glyph\":{\"id\":\"0b51c263-45a8-491f-aea4-721134c789c7\",\"type\":\"Rect\"},\"hover_glyph\":null,\"muted_glyph\":null},\"id\":\"de51caf5-eab4-493a-92ce-e14d21cb3668\",\"type\":\"GlyphRenderer\"},{\"attributes\":{\"fill_alpha\":{\"field\":\"fill_alpha\"},\"fill_color\":{\"field\":\"color\"},\"height\":{\"field\":\"height\",\"units\":\"data\"},\"line_color\":{\"field\":\"line_color\"},\"width\":{\"field\":\"width\",\"units\":\"data\"},\"x\":{\"field\":\"x\"},\"y\":{\"field\":\"y\"}},\"id\":\"3797cd44-7044-4e9b-a2c8-c096b147293a\",\"type\":\"Rect\"},{\"attributes\":{},\"id\":\"73b44909-359c-44a2-aec4-84b09e14846e\",\"type\":\"CategoricalTickFormatter\"},{\"attributes\":{\"callback\":null,\"column_names\":[\"line_color\",\"line_alpha\",\"color\",\"fill_alpha\",\"height\",\"width\",\"y\",\"x\",\"label\"],\"data\":{\"chart_index\":[{\"features\":\"total_payments\"}],\"color\":[\"#f22c40\"],\"features\":[\"total_payments\"],\"fill_alpha\":[0.8],\"height\":[2.4449870742699775],\"label\":[{\"features\":\"total_payments\"}],\"line_alpha\":[1.0],\"line_color\":[\"white\"],\"width\":[0.8],\"x\":[\"total_payments\"],\"y\":[1.2224935371349888]}},\"id\":\"92b51f63-64a8-4755-a02b-b334eef48bca\",\"type\":\"ColumnDataSource\"},{\"attributes\":{\"callback\":null,\"end\":6.0273750405400115},\"id\":\"533a2b62-f07f-4177-8432-bd73741d13cd\",\"type\":\"Range1d\"},{\"attributes\":{\"fill_alpha\":{\"field\":\"fill_alpha\"},\"fill_color\":{\"field\":\"color\"},\"height\":{\"field\":\"height\",\"units\":\"data\"},\"line_color\":{\"field\":\"line_color\"},\"width\":{\"field\":\"width\",\"units\":\"data\"},\"x\":{\"field\":\"x\"},\"y\":{\"field\":\"y\"}},\"id\":\"fa857318-68c4-4791-a709-45af0a7e46a7\",\"type\":\"Rect\"},{\"attributes\":{},\"id\":\"f5aeb44c-de22-4da1-992a-b47ac212edb5\",\"type\":\"ToolEvents\"},{\"attributes\":{\"fill_alpha\":{\"field\":\"fill_alpha\"},\"fill_color\":{\"field\":\"color\"},\"height\":{\"field\":\"height\",\"units\":\"data\"},\"line_color\":{\"field\":\"line_color\"},\"width\":{\"field\":\"width\",\"units\":\"data\"},\"x\":{\"field\":\"x\"},\"y\":{\"field\":\"y\"}},\"id\":\"553475f7-fccd-4e19-b05e-5f9eca71cfad\",\"type\":\"Rect\"},{\"attributes\":{\"fill_alpha\":{\"field\":\"fill_alpha\"},\"fill_color\":{\"field\":\"color\"},\"height\":{\"field\":\"height\",\"units\":\"data\"},\"line_color\":{\"field\":\"line_color\"},\"width\":{\"field\":\"width\",\"units\":\"data\"},\"x\":{\"field\":\"x\"},\"y\":{\"field\":\"y\"}},\"id\":\"60215ff9-fffd-4bfc-a4c5-2fbaba857f01\",\"type\":\"Rect\"},{\"attributes\":{},\"id\":\"c599e083-369c-4172-bb9a-2648ed9b651e\",\"type\":\"BasicTicker\"},{\"attributes\":{\"callback\":null,\"column_names\":[\"line_color\",\"line_alpha\",\"color\",\"fill_alpha\",\"height\",\"width\",\"y\",\"x\",\"label\"],\"data\":{\"chart_index\":[{\"features\":\"total_stock_value\"}],\"color\":[\"#f22c40\"],\"features\":[\"total_stock_value\"],\"fill_alpha\":[0.8],\"height\":[5.61900858422821],\"label\":[{\"features\":\"total_stock_value\"}],\"line_alpha\":[1.0],\"line_color\":[\"white\"],\"width\":[0.8],\"x\":[\"total_stock_value\"],\"y\":[2.809504292114105]}},\"id\":\"af495441-c269-4970-8b9d-2ce88d059298\",\"type\":\"ColumnDataSource\"},{\"attributes\":{\"data_source\":{\"id\":\"492f63de-6032-419d-bb7d-322b5e2bc059\",\"type\":\"ColumnDataSource\"},\"glyph\":{\"id\":\"3988c387-f1fc-402d-80bd-8e26d27511f3\",\"type\":\"Rect\"},\"hover_glyph\":null,\"muted_glyph\":null},\"id\":\"316b99e5-3690-4d37-84e6-d4aff5f69b2f\",\"type\":\"GlyphRenderer\"},{\"attributes\":{\"fill_alpha\":{\"field\":\"fill_alpha\"},\"fill_color\":{\"field\":\"color\"},\"height\":{\"field\":\"height\",\"units\":\"data\"},\"line_color\":{\"field\":\"line_color\"},\"width\":{\"field\":\"width\",\"units\":\"data\"},\"x\":{\"field\":\"x\"},\"y\":{\"field\":\"y\"}},\"id\":\"3f8d8492-0ca5-4ff7-81bb-7a822b77761e\",\"type\":\"Rect\"},{\"attributes\":{\"data_source\":{\"id\":\"7528215e-8df3-45c6-9098-9d5f89becb1b\",\"type\":\"ColumnDataSource\"},\"glyph\":{\"id\":\"3f8d8492-0ca5-4ff7-81bb-7a822b77761e\",\"type\":\"Rect\"},\"hover_glyph\":null,\"muted_glyph\":null},\"id\":\"b0d1d54f-6f57-4804-aaae-823d7eb815bb\",\"type\":\"GlyphRenderer\"},{\"attributes\":{},\"id\":\"04c1a5d8-7556-4827-8c1a-d091272ffde3\",\"type\":\"CategoricalTicker\"},{\"attributes\":{\"callback\":null,\"column_names\":[\"line_color\",\"line_alpha\",\"color\",\"fill_alpha\",\"height\",\"width\",\"y\",\"x\",\"label\"],\"data\":{\"chart_index\":[{\"features\":\"bonus\"}],\"color\":[\"#f22c40\"],\"features\":[\"bonus\"],\"fill_alpha\":[0.8],\"height\":[4.958094860652936],\"label\":[{\"features\":\"bonus\"}],\"line_alpha\":[1.0],\"line_color\":[\"white\"],\"width\":[0.8],\"x\":[\"bonus\"],\"y\":[2.479047430326468]}},\"id\":\"492f63de-6032-419d-bb7d-322b5e2bc059\",\"type\":\"ColumnDataSource\"},{\"attributes\":{\"data_source\":{\"id\":\"aca21858-2b70-40d6-a753-549a3de0c023\",\"type\":\"ColumnDataSource\"},\"glyph\":{\"id\":\"fa857318-68c4-4791-a709-45af0a7e46a7\",\"type\":\"Rect\"},\"hover_glyph\":null,\"muted_glyph\":null},\"id\":\"ce189ce1-a53d-40b0-9a20-6a545851bd11\",\"type\":\"GlyphRenderer\"},{\"attributes\":{\"callback\":null,\"column_names\":[\"line_color\",\"line_alpha\",\"color\",\"fill_alpha\",\"height\",\"width\",\"y\",\"x\",\"label\"],\"data\":{\"chart_index\":[{\"features\":\"exercised_stock_options\"}],\"color\":[\"#f22c40\"],\"features\":[\"exercised_stock_options\"],\"fill_alpha\":[0.8],\"height\":[5.740357181466678],\"label\":[{\"features\":\"exercised_stock_options\"}],\"line_alpha\":[1.0],\"line_color\":[\"white\"],\"width\":[0.8],\"x\":[\"exercised_stock_options\"],\"y\":[2.870178590733339]}},\"id\":\"aca21858-2b70-40d6-a753-549a3de0c023\",\"type\":\"ColumnDataSource\"}],\"root_ids\":[\"a98bb5d1-b141-4b9f-ba5c-e7606026a71f\"]},\"title\":\"Bokeh Application\",\"version\":\"0.12.6\"}};\n",
       "              var render_items = [{\"docid\":\"ff7f81e2-b14d-4ce1-a838-454d8c81218d\",\"elementid\":\"7837cf6e-f74e-41d3-98e2-0c9f1f20aca5\",\"modelid\":\"a98bb5d1-b141-4b9f-ba5c-e7606026a71f\"}];\n",
       "              \n",
       "              Bokeh.embed.embed_items(docs_json, render_items);\n",
       "            });\n",
       "          };\n",
       "          if (document.readyState != \"loading\") fn();\n",
       "          else document.addEventListener(\"DOMContentLoaded\", fn);\n",
       "        })();\n",
       "        \n",
       "        </script>\n",
       "    </body>\n",
       "</html>"
      ],
      "text/plain": [
       "<IPython.core.display.HTML object>"
      ]
     },
     "execution_count": 19,
     "metadata": {},
     "output_type": "execute_result"
    }
   ],
   "source": [
    "# Bokeh Barplots\n",
    "from bkcharts import Bar, show\n",
    "\n",
    "data = {'scores':scores, 'features':features_list[1:]}\n",
    "bar1 = Bar(data, label='features', values='scores', title=\"Select K Best\", \n",
    "          legend = None, plot_width = 450, plot_height = 450)\n",
    "\n",
    "#show(bar1)\n",
    "bar1_html = file_html(bar1, CDN)\n",
    "HTML(bar1_html)"
   ]
  },
  {
   "cell_type": "markdown",
   "metadata": {},
   "source": [
    "Finally, I used ['feature_importances'](http://scikit-learn.org/stable/modules/generated/sklearn.tree.DecisionTreeClassifier.html) attribute of my Decision Tree classifier to select  four features (bonus, exercised_stock_options, fraction_to_poi and shared_receipt_with_poi) that maximized my F1 score. Implementing my final algorithm without the newly engineered feature fraction_to_poi, dropped my F1-score by 74% (from 0.47547 to 0.12157). This also shows the effect of this feature on the final algorithm performance."
   ]
  },
  {
   "cell_type": "code",
   "execution_count": 20,
   "metadata": {
    "collapsed": true
   },
   "outputs": [],
   "source": [
    "features_list = [\"poi\", \"bonus\", \"exercised_stock_options\", \n",
    "                 \"fraction_to_poi\", \"shared_receipt_with_poi\"]\n",
    "data = featureFormat(my_dataset, features_list, sort_keys = True)\n",
    "labels, features = targetFeatureSplit(data)"
   ]
  },
  {
   "cell_type": "code",
   "execution_count": 21,
   "metadata": {},
   "outputs": [
    {
     "data": {
      "text/html": [
       "\n",
       "<!DOCTYPE html>\n",
       "<html lang=\"en\">\n",
       "    <head>\n",
       "        <meta charset=\"utf-8\">\n",
       "        <title>Bokeh Application</title>\n",
       "        \n",
       "<link rel=\"stylesheet\" href=\"https://cdn.pydata.org/bokeh/release/bokeh-0.12.6.min.css\" type=\"text/css\" />\n",
       "        \n",
       "<script type=\"text/javascript\" src=\"https://cdn.pydata.org/bokeh/release/bokeh-0.12.6.min.js\"></script>\n",
       "<script type=\"text/javascript\">\n",
       "    Bokeh.set_log_level(\"info\");\n",
       "</script>\n",
       "        <style>\n",
       "          html {\n",
       "            width: 100%;\n",
       "            height: 100%;\n",
       "          }\n",
       "          body {\n",
       "            width: 90%;\n",
       "            height: 100%;\n",
       "            margin: auto;\n",
       "          }\n",
       "        </style>\n",
       "    </head>\n",
       "    <body>\n",
       "        \n",
       "        <div class=\"bk-root\">\n",
       "            <div class=\"bk-plotdiv\" id=\"6757c21d-3c63-4fff-908e-aab546ca7e40\"></div>\n",
       "        </div>\n",
       "        \n",
       "        <script type=\"text/javascript\">\n",
       "            (function() {\n",
       "          var fn = function() {\n",
       "            Bokeh.safely(function() {\n",
       "              var docs_json = {\"482666ad-e751-4e49-880e-350056bdd9ad\":{\"roots\":{\"references\":[{\"attributes\":{\"fill_alpha\":{\"field\":\"fill_alpha\"},\"fill_color\":{\"field\":\"color\"},\"height\":{\"field\":\"height\",\"units\":\"data\"},\"line_color\":{\"field\":\"line_color\"},\"width\":{\"field\":\"width\",\"units\":\"data\"},\"x\":{\"field\":\"x\"},\"y\":{\"field\":\"y\"}},\"id\":\"b214c29a-4e85-491c-9dc2-d26ba2ff8399\",\"type\":\"Rect\"},{\"attributes\":{\"data_source\":{\"id\":\"f34b3feb-43f3-4fad-8fbd-10dfe3ad649c\",\"type\":\"ColumnDataSource\"},\"glyph\":{\"id\":\"4e80fc1e-20db-402f-952b-d8a73a132ca7\",\"type\":\"Rect\"},\"hover_glyph\":null,\"muted_glyph\":null},\"id\":\"9a932520-e70d-4bfa-b0dc-3e9bc33cbc11\",\"type\":\"GlyphRenderer\"},{\"attributes\":{\"plot\":{\"id\":\"991b6911-9221-4f42-b313-baae6f71f876\",\"subtype\":\"Chart\",\"type\":\"Plot\"}},\"id\":\"58edabe3-e992-4549-b4a5-d6c9f4095fe5\",\"type\":\"WheelZoomTool\"},{\"attributes\":{},\"id\":\"dc581dbd-3df2-490b-a595-ae89f4392371\",\"type\":\"CategoricalScale\"},{\"attributes\":{},\"id\":\"367dac8e-7049-4ecc-9afc-fd708d95d94f\",\"type\":\"ToolEvents\"},{\"attributes\":{\"bottom_units\":\"screen\",\"fill_alpha\":{\"value\":0.5},\"fill_color\":{\"value\":\"lightgrey\"},\"left_units\":\"screen\",\"level\":\"overlay\",\"line_alpha\":{\"value\":1.0},\"line_color\":{\"value\":\"black\"},\"line_dash\":[4,4],\"line_width\":{\"value\":2},\"plot\":null,\"render_mode\":\"css\",\"right_units\":\"screen\",\"top_units\":\"screen\"},\"id\":\"5284e650-1a81-42a0-bdf0-f2e244562f83\",\"type\":\"BoxAnnotation\"},{\"attributes\":{\"fill_alpha\":{\"field\":\"fill_alpha\"},\"fill_color\":{\"field\":\"color\"},\"height\":{\"field\":\"height\",\"units\":\"data\"},\"line_color\":{\"field\":\"line_color\"},\"width\":{\"field\":\"width\",\"units\":\"data\"},\"x\":{\"field\":\"x\"},\"y\":{\"field\":\"y\"}},\"id\":\"a1afa144-4818-448b-ad50-35dccb40e935\",\"type\":\"Rect\"},{\"attributes\":{\"axis_label\":\"Sum( Importance )\",\"formatter\":{\"id\":\"2bb1c060-e65f-4558-8c31-2e4bff7bd024\",\"type\":\"BasicTickFormatter\"},\"plot\":{\"id\":\"991b6911-9221-4f42-b313-baae6f71f876\",\"subtype\":\"Chart\",\"type\":\"Plot\"},\"ticker\":{\"id\":\"eb1790ba-420a-4eb4-bf94-2d89ea98a1a1\",\"type\":\"BasicTicker\"}},\"id\":\"32ca9ded-0653-440b-b6ad-bfce3d452065\",\"type\":\"LinearAxis\"},{\"attributes\":{\"callback\":null,\"column_names\":[\"line_color\",\"line_alpha\",\"color\",\"fill_alpha\",\"height\",\"width\",\"y\",\"x\",\"label\"],\"data\":{\"chart_index\":[{\"features\":\"fraction_to_poi\"}],\"color\":[\"#f22c40\"],\"features\":[\"fraction_to_poi\"],\"fill_alpha\":[0.8],\"height\":[0.48651064],\"label\":[{\"features\":\"fraction_to_poi\"}],\"line_alpha\":[1.0],\"line_color\":[\"white\"],\"width\":[0.8],\"x\":[\"fraction_to_poi\"],\"y\":[0.24325532]}},\"id\":\"bdf8637a-265c-4be1-98fa-9b3c10977dc6\",\"type\":\"ColumnDataSource\"},{\"attributes\":{\"active_drag\":\"auto\",\"active_inspect\":\"auto\",\"active_scroll\":\"auto\",\"active_tap\":\"auto\",\"tools\":[{\"id\":\"d6b1595d-0d88-410b-bc09-bc425192cafd\",\"type\":\"PanTool\"},{\"id\":\"58edabe3-e992-4549-b4a5-d6c9f4095fe5\",\"type\":\"WheelZoomTool\"},{\"id\":\"c0941d0a-3684-4c78-9111-abccfb329fb6\",\"type\":\"BoxZoomTool\"},{\"id\":\"e94a724e-abca-4dbf-bfbe-f8a3448af929\",\"type\":\"SaveTool\"},{\"id\":\"ee650d64-a49a-49f3-b4df-e8ce2e99b4bb\",\"type\":\"ResetTool\"},{\"id\":\"eb869c45-b9a1-4cfe-a37e-bfb8186086c7\",\"type\":\"HelpTool\"}]},\"id\":\"93506c64-1b27-4727-82e2-1f718d3264bb\",\"type\":\"Toolbar\"},{\"attributes\":{\"plot\":{\"id\":\"991b6911-9221-4f42-b313-baae6f71f876\",\"subtype\":\"Chart\",\"type\":\"Plot\"}},\"id\":\"ee650d64-a49a-49f3-b4df-e8ce2e99b4bb\",\"type\":\"ResetTool\"},{\"attributes\":{\"overlay\":{\"id\":\"5284e650-1a81-42a0-bdf0-f2e244562f83\",\"type\":\"BoxAnnotation\"},\"plot\":{\"id\":\"991b6911-9221-4f42-b313-baae6f71f876\",\"subtype\":\"Chart\",\"type\":\"Plot\"}},\"id\":\"c0941d0a-3684-4c78-9111-abccfb329fb6\",\"type\":\"BoxZoomTool\"},{\"attributes\":{\"data_source\":{\"id\":\"bdf8637a-265c-4be1-98fa-9b3c10977dc6\",\"type\":\"ColumnDataSource\"},\"glyph\":{\"id\":\"5e5a392e-7813-404b-ae02-2c56bdaced8f\",\"type\":\"Rect\"},\"hover_glyph\":null,\"muted_glyph\":null},\"id\":\"fa7b3866-e569-4055-b9b1-55bd218cc38e\",\"type\":\"GlyphRenderer\"},{\"attributes\":{\"callback\":null,\"factors\":[\"bonus\",\"exercised_stock_options\",\"fraction_to_poi\",\"shared_receipt_with_poi\"]},\"id\":\"d3ca34d9-4759-4850-95d6-ee75804baf6d\",\"type\":\"FactorRange\"},{\"attributes\":{\"callback\":null,\"column_names\":[\"line_color\",\"line_alpha\",\"color\",\"fill_alpha\",\"height\",\"width\",\"y\",\"x\",\"label\"],\"data\":{\"chart_index\":[{\"features\":\"exercised_stock_options\"}],\"color\":[\"#f22c40\"],\"features\":[\"exercised_stock_options\"],\"fill_alpha\":[0.8],\"height\":[0.0433088],\"label\":[{\"features\":\"exercised_stock_options\"}],\"line_alpha\":[1.0],\"line_color\":[\"white\"],\"width\":[0.8],\"x\":[\"exercised_stock_options\"],\"y\":[0.0216544]}},\"id\":\"70eb67cf-62ed-4806-8a5f-f67b4d6d41e6\",\"type\":\"ColumnDataSource\"},{\"attributes\":{\"callback\":null,\"column_names\":[\"line_color\",\"line_alpha\",\"color\",\"fill_alpha\",\"height\",\"width\",\"y\",\"x\",\"label\"],\"data\":{\"chart_index\":[{\"features\":\"bonus\"}],\"color\":[\"#f22c40\"],\"features\":[\"bonus\"],\"fill_alpha\":[0.8],\"height\":[0.13442256],\"label\":[{\"features\":\"bonus\"}],\"line_alpha\":[1.0],\"line_color\":[\"white\"],\"width\":[0.8],\"x\":[\"bonus\"],\"y\":[0.06721128]}},\"id\":\"82a07efe-b44a-4df7-ad6c-cc530f70786d\",\"type\":\"ColumnDataSource\"},{\"attributes\":{\"dimension\":1,\"plot\":{\"id\":\"991b6911-9221-4f42-b313-baae6f71f876\",\"subtype\":\"Chart\",\"type\":\"Plot\"},\"ticker\":{\"id\":\"eb1790ba-420a-4eb4-bf94-2d89ea98a1a1\",\"type\":\"BasicTicker\"}},\"id\":\"323ea35a-8cf3-4a68-927e-98d8457358f0\",\"type\":\"Grid\"},{\"attributes\":{\"axis_label\":\"Features\",\"formatter\":{\"id\":\"e6b97be1-35f7-4e62-991a-6edaf3e59027\",\"type\":\"CategoricalTickFormatter\"},\"major_label_orientation\":0.7853981633974483,\"plot\":{\"id\":\"991b6911-9221-4f42-b313-baae6f71f876\",\"subtype\":\"Chart\",\"type\":\"Plot\"},\"ticker\":{\"id\":\"f3b47166-d7e2-435c-a92b-cbb0f438901b\",\"type\":\"CategoricalTicker\"}},\"id\":\"1e39e816-1f47-4be5-8b48-45f9b62bd898\",\"type\":\"CategoricalAxis\"},{\"attributes\":{},\"id\":\"f3b47166-d7e2-435c-a92b-cbb0f438901b\",\"type\":\"CategoricalTicker\"},{\"attributes\":{\"plot\":{\"id\":\"991b6911-9221-4f42-b313-baae6f71f876\",\"subtype\":\"Chart\",\"type\":\"Plot\"}},\"id\":\"eb869c45-b9a1-4cfe-a37e-bfb8186086c7\",\"type\":\"HelpTool\"},{\"attributes\":{\"callback\":null,\"column_names\":[\"line_color\",\"line_alpha\",\"color\",\"fill_alpha\",\"height\",\"width\",\"y\",\"x\",\"label\"],\"data\":{\"chart_index\":[{\"features\":\"shared_receipt_with_poi\"}],\"color\":[\"#f22c40\"],\"features\":[\"shared_receipt_with_poi\"],\"fill_alpha\":[0.8],\"height\":[0.335758],\"label\":[{\"features\":\"shared_receipt_with_poi\"}],\"line_alpha\":[1.0],\"line_color\":[\"white\"],\"width\":[0.8],\"x\":[\"shared_receipt_with_poi\"],\"y\":[0.167879]}},\"id\":\"f34b3feb-43f3-4fad-8fbd-10dfe3ad649c\",\"type\":\"ColumnDataSource\"},{\"attributes\":{},\"id\":\"2bb1c060-e65f-4558-8c31-2e4bff7bd024\",\"type\":\"BasicTickFormatter\"},{\"attributes\":{\"fill_alpha\":{\"field\":\"fill_alpha\"},\"fill_color\":{\"field\":\"color\"},\"height\":{\"field\":\"height\",\"units\":\"data\"},\"line_color\":{\"field\":\"line_color\"},\"width\":{\"field\":\"width\",\"units\":\"data\"},\"x\":{\"field\":\"x\"},\"y\":{\"field\":\"y\"}},\"id\":\"5e5a392e-7813-404b-ae02-2c56bdaced8f\",\"type\":\"Rect\"},{\"attributes\":{\"data_source\":{\"id\":\"70eb67cf-62ed-4806-8a5f-f67b4d6d41e6\",\"type\":\"ColumnDataSource\"},\"glyph\":{\"id\":\"a1afa144-4818-448b-ad50-35dccb40e935\",\"type\":\"Rect\"},\"hover_glyph\":null,\"muted_glyph\":null},\"id\":\"651a7509-4d59-4db8-8dcb-8e71a22a5886\",\"type\":\"GlyphRenderer\"},{\"attributes\":{},\"id\":\"eb1790ba-420a-4eb4-bf94-2d89ea98a1a1\",\"type\":\"BasicTicker\"},{\"attributes\":{\"plot\":{\"id\":\"991b6911-9221-4f42-b313-baae6f71f876\",\"subtype\":\"Chart\",\"type\":\"Plot\"}},\"id\":\"e94a724e-abca-4dbf-bfbe-f8a3448af929\",\"type\":\"SaveTool\"},{\"attributes\":{\"below\":[{\"id\":\"1e39e816-1f47-4be5-8b48-45f9b62bd898\",\"type\":\"CategoricalAxis\"}],\"css_classes\":null,\"left\":[{\"id\":\"32ca9ded-0653-440b-b6ad-bfce3d452065\",\"type\":\"LinearAxis\"}],\"plot_height\":400,\"plot_width\":400,\"renderers\":[{\"id\":\"5284e650-1a81-42a0-bdf0-f2e244562f83\",\"type\":\"BoxAnnotation\"},{\"id\":\"7eeb645c-4490-4120-a571-31ecee516eff\",\"type\":\"GlyphRenderer\"},{\"id\":\"651a7509-4d59-4db8-8dcb-8e71a22a5886\",\"type\":\"GlyphRenderer\"},{\"id\":\"fa7b3866-e569-4055-b9b1-55bd218cc38e\",\"type\":\"GlyphRenderer\"},{\"id\":\"9a932520-e70d-4bfa-b0dc-3e9bc33cbc11\",\"type\":\"GlyphRenderer\"},{\"id\":\"1e39e816-1f47-4be5-8b48-45f9b62bd898\",\"type\":\"CategoricalAxis\"},{\"id\":\"32ca9ded-0653-440b-b6ad-bfce3d452065\",\"type\":\"LinearAxis\"},{\"id\":\"323ea35a-8cf3-4a68-927e-98d8457358f0\",\"type\":\"Grid\"}],\"title\":{\"id\":\"04ecea0e-30e5-49f6-8cd1-86a671766b09\",\"type\":\"Title\"},\"tool_events\":{\"id\":\"367dac8e-7049-4ecc-9afc-fd708d95d94f\",\"type\":\"ToolEvents\"},\"toolbar\":{\"id\":\"93506c64-1b27-4727-82e2-1f718d3264bb\",\"type\":\"Toolbar\"},\"x_range\":{\"id\":\"d3ca34d9-4759-4850-95d6-ee75804baf6d\",\"type\":\"FactorRange\"},\"x_scale\":{\"id\":\"dc581dbd-3df2-490b-a595-ae89f4392371\",\"type\":\"CategoricalScale\"},\"y_range\":{\"id\":\"37ef4e54-f8b7-4762-87d6-69eb8b38e6fa\",\"type\":\"Range1d\"},\"y_scale\":{\"id\":\"71dffb91-d439-4e45-b59f-c038acad0e04\",\"type\":\"LinearScale\"}},\"id\":\"991b6911-9221-4f42-b313-baae6f71f876\",\"subtype\":\"Chart\",\"type\":\"Plot\"},{\"attributes\":{\"callback\":null,\"end\":0.510836172},\"id\":\"37ef4e54-f8b7-4762-87d6-69eb8b38e6fa\",\"type\":\"Range1d\"},{\"attributes\":{\"plot\":null,\"text\":\"Feature importances from fitted Decision Tree\"},\"id\":\"04ecea0e-30e5-49f6-8cd1-86a671766b09\",\"type\":\"Title\"},{\"attributes\":{\"plot\":{\"id\":\"991b6911-9221-4f42-b313-baae6f71f876\",\"subtype\":\"Chart\",\"type\":\"Plot\"}},\"id\":\"d6b1595d-0d88-410b-bc09-bc425192cafd\",\"type\":\"PanTool\"},{\"attributes\":{\"data_source\":{\"id\":\"82a07efe-b44a-4df7-ad6c-cc530f70786d\",\"type\":\"ColumnDataSource\"},\"glyph\":{\"id\":\"b214c29a-4e85-491c-9dc2-d26ba2ff8399\",\"type\":\"Rect\"},\"hover_glyph\":null,\"muted_glyph\":null},\"id\":\"7eeb645c-4490-4120-a571-31ecee516eff\",\"type\":\"GlyphRenderer\"},{\"attributes\":{},\"id\":\"71dffb91-d439-4e45-b59f-c038acad0e04\",\"type\":\"LinearScale\"},{\"attributes\":{\"fill_alpha\":{\"field\":\"fill_alpha\"},\"fill_color\":{\"field\":\"color\"},\"height\":{\"field\":\"height\",\"units\":\"data\"},\"line_color\":{\"field\":\"line_color\"},\"width\":{\"field\":\"width\",\"units\":\"data\"},\"x\":{\"field\":\"x\"},\"y\":{\"field\":\"y\"}},\"id\":\"4e80fc1e-20db-402f-952b-d8a73a132ca7\",\"type\":\"Rect\"},{\"attributes\":{},\"id\":\"e6b97be1-35f7-4e62-991a-6edaf3e59027\",\"type\":\"CategoricalTickFormatter\"}],\"root_ids\":[\"991b6911-9221-4f42-b313-baae6f71f876\"]},\"title\":\"Bokeh Application\",\"version\":\"0.12.6\"}};\n",
       "              var render_items = [{\"docid\":\"482666ad-e751-4e49-880e-350056bdd9ad\",\"elementid\":\"6757c21d-3c63-4fff-908e-aab546ca7e40\",\"modelid\":\"991b6911-9221-4f42-b313-baae6f71f876\"}];\n",
       "              \n",
       "              Bokeh.embed.embed_items(docs_json, render_items);\n",
       "            });\n",
       "          };\n",
       "          if (document.readyState != \"loading\") fn();\n",
       "          else document.addEventListener(\"DOMContentLoaded\", fn);\n",
       "        })();\n",
       "        \n",
       "        </script>\n",
       "    </body>\n",
       "</html>"
      ],
      "text/plain": [
       "<IPython.core.display.HTML object>"
      ]
     },
     "execution_count": 21,
     "metadata": {},
     "output_type": "execute_result"
    }
   ],
   "source": [
    "# These are feature importance I obtained from running my final classiifer and testing it with tester.py.\n",
    "# Check Algorithm Performance section below.\n",
    "feature_importances = [0.13442256, 0.0433088, 0.48651064, 0.335758]\n",
    "from bkcharts import Bar, show\n",
    "\n",
    "data = {'importance':feature_importances, 'features':features_list[1:]}\n",
    "bar2 = Bar(data, label='features', values='importance', title=\"Feature importances from fitted Decision Tree\", \n",
    "          legend = None, plot_width = 400, plot_height = 400)\n",
    "\n",
    "#show(bar2)\n",
    "bar2_html = file_html(bar2, CDN)\n",
    "HTML(bar2_html)"
   ]
  },
  {
   "cell_type": "markdown",
   "metadata": {},
   "source": [
    "# Pick and Tune an Algorithm"
   ]
  },
  {
   "cell_type": "markdown",
   "metadata": {},
   "source": [
    "> What algorithm did you end up using? What other one(s) did you try? How did model performance differ between algorithms?"
   ]
  },
  {
   "cell_type": "markdown",
   "metadata": {},
   "source": [
    "## Pick an algorithm"
   ]
  },
  {
   "cell_type": "markdown",
   "metadata": {},
   "source": [
    "Different algorithms were attempted using the four best features:- bonus, exercised_stock_options, fraction_to_poi and shared_receipt_with_poi."
   ]
  },
  {
   "cell_type": "code",
   "execution_count": 22,
   "metadata": {},
   "outputs": [
    {
     "data": {
      "text/html": [
       "<div>\n",
       "<style>\n",
       "    .dataframe thead tr:only-child th {\n",
       "        text-align: right;\n",
       "    }\n",
       "\n",
       "    .dataframe thead th {\n",
       "        text-align: left;\n",
       "    }\n",
       "\n",
       "    .dataframe tbody tr th {\n",
       "        vertical-align: top;\n",
       "    }\n",
       "</style>\n",
       "<table border=\"1\" class=\"dataframe\">\n",
       "  <thead>\n",
       "    <tr style=\"text-align: right;\">\n",
       "      <th></th>\n",
       "      <th>Algorithms</th>\n",
       "      <th>Parameters</th>\n",
       "      <th>Accuracy</th>\n",
       "      <th>Precision</th>\n",
       "      <th>Recall</th>\n",
       "      <th>F1</th>\n",
       "      <th>F2</th>\n",
       "    </tr>\n",
       "  </thead>\n",
       "  <tbody>\n",
       "    <tr>\n",
       "      <th>0</th>\n",
       "      <td>DecisionTreeClassifier</td>\n",
       "      <td>criterion='entropy', max_depth =2, min_samples_split=2, min_samples_leaf=6</td>\n",
       "      <td>0.83962</td>\n",
       "      <td>0.47848</td>\n",
       "      <td>0.4725</td>\n",
       "      <td>0.47547</td>\n",
       "      <td>0.47368</td>\n",
       "    </tr>\n",
       "    <tr>\n",
       "      <th>1</th>\n",
       "      <td>RandomForestClassifier</td>\n",
       "      <td>n_estimators=150, min_samples_split=5</td>\n",
       "      <td>0.85031</td>\n",
       "      <td>0.52246</td>\n",
       "      <td>0.3140</td>\n",
       "      <td>0.39225</td>\n",
       "      <td>0.34123</td>\n",
       "    </tr>\n",
       "    <tr>\n",
       "      <th>2</th>\n",
       "      <td>AdaBoostClassifier</td>\n",
       "      <td>n_estimators=150</td>\n",
       "      <td>0.81823</td>\n",
       "      <td>0.40066</td>\n",
       "      <td>0.3660</td>\n",
       "      <td>0.38255</td>\n",
       "      <td>0.37244</td>\n",
       "    </tr>\n",
       "    <tr>\n",
       "      <th>3</th>\n",
       "      <td>GaussianNB</td>\n",
       "      <td>Default</td>\n",
       "      <td>0.82769</td>\n",
       "      <td>0.41215</td>\n",
       "      <td>0.2815</td>\n",
       "      <td>0.33452</td>\n",
       "      <td>0.30056</td>\n",
       "    </tr>\n",
       "  </tbody>\n",
       "</table>\n",
       "</div>"
      ],
      "text/plain": [
       "               Algorithms  \\\n",
       "0  DecisionTreeClassifier   \n",
       "1  RandomForestClassifier   \n",
       "2  AdaBoostClassifier       \n",
       "3  GaussianNB               \n",
       "\n",
       "                                                                   Parameters  \\\n",
       "0  criterion='entropy', max_depth =2, min_samples_split=2, min_samples_leaf=6   \n",
       "1  n_estimators=150, min_samples_split=5                                        \n",
       "2  n_estimators=150                                                             \n",
       "3  Default                                                                      \n",
       "\n",
       "   Accuracy  Precision  Recall       F1       F2  \n",
       "0  0.83962   0.47848    0.4725  0.47547  0.47368  \n",
       "1  0.85031   0.52246    0.3140  0.39225  0.34123  \n",
       "2  0.81823   0.40066    0.3660  0.38255  0.37244  \n",
       "3  0.82769   0.41215    0.2815  0.33452  0.30056  "
      ]
     },
     "execution_count": 22,
     "metadata": {},
     "output_type": "execute_result"
    }
   ],
   "source": [
    "# Not restricting the maximum width in characters of a column\n",
    "pd.options.display.max_colwidth = 0\n",
    "data = {\"Algorithms\":[\"DecisionTreeClassifier\", \n",
    "                      \"RandomForestClassifier\",\n",
    "                      \"AdaBoostClassifier\",\n",
    "                      \"GaussianNB\"],\n",
    "        \"Parameters\":[\"criterion='entropy', max_depth =2, min_samples_split=2, min_samples_leaf=6\", \n",
    "                      \"n_estimators=150, min_samples_split=5\", \n",
    "                      \"n_estimators=150\",\n",
    "                      \"Default\"],\n",
    "        \"Accuracy\":[0.83962,0.85031,0.81823,0.82769], \n",
    "        \"Precision\":[ 0.47848,0.52246,0.40066,0.41215], \n",
    "        \"Recall\":[0.47250,0.31400,0.36600,0.28150], \n",
    "        \"F1\":[0.47547,0.39225,0.38255,0.33452], \n",
    "        \"F2\":[0.47368,0.34123,0.37244,0.30056]}\n",
    "algorithms = pd.DataFrame(data, columns = [\"Algorithms\", \"Parameters\", \"Accuracy\", \"Precision\", \"Recall\", \"F1\", \"F2\"])\n",
    "algorithms"
   ]
  },
  {
   "cell_type": "markdown",
   "metadata": {},
   "source": [
    "> What does it mean to tune the parameters of an algorithm, and what can happen if you don’t do this well?  How did you tune the parameters of your particular algorithm?"
   ]
  },
  {
   "cell_type": "markdown",
   "metadata": {},
   "source": [
    "## Hyperparameter optimization"
   ]
  },
  {
   "cell_type": "markdown",
   "metadata": {},
   "source": [
    "Parameter tuning for an algorithm means selecting the good and robust parameter or set of parameters for an algorithm to optimize its performance. Default parameters may not be customized very well for the particular dataset features and might result in poor performance. Scikit learn provides two methods for algorithm parameter tuning/Hyperparameter optimization- GridSearchCV and RandomizedSearchCV. \n",
    "\n",
    "I used GridSearchCV to do exhaustive search over different parameters and find the best parameters. \n",
    "\n",
    "1. I used the ['f1'](https://www.quora.com/What-is-an-intuitive-explanation-of-F-score) as my \"scoring\" parameter to guide the parameter search process to minimize False positives and False negatives.\n",
    "\n",
    "2. In the \"cv\" parameter, I passed a cross validation object ([StratifiedShuffleSplit](http://scikit-learn.org/stable/modules/cross_validation.html)) to validate my search results that best adapt to my dataset characteristics.\n",
    "\n",
    "3. For my final DecisionTreeClassiifer I tweaked the parameters as shown below :- \n",
    "\n",
    "```\n",
    "# Specify parameters of the algorithm\n",
    "clf_params= {'criterion': ['gini', 'entropy'],\n",
    "             'max_depth': [None, 1, 2, 5, 10],\n",
    "             'min_samples_split': [2, 3, 4, 5],\n",
    "             'min_samples_leaf': [1, 2, 3, 4, 5, 6, 7, 8]\n",
    "            }\n",
    "\n",
    "# Specify algorithm\n",
    "dt = DecisionTreeClassifier()\n",
    "\n",
    "# GridSearchCV\n",
    "cv = StratifiedShuffleSplit(labels, n_iter = 1000,random_state = 42)\n",
    "clf = GridSearchCV(dt, param_grid = clf_params,cv = cv, scoring = 'f1')\n",
    "clf.fit(features,labels)\n",
    "\n",
    "# pick a winner\n",
    "best_clf = clf.best_estimator_\n",
    "print best_clf\n",
    "```\n",
    "\n",
    "[**max_depth**](http://scikit-learn.org/stable/modules/generated/sklearn.tree.DecisionTreeClassifier.html) determines when the splitting of decision tree node stops. [**min_samples_split**](http://scikitlearn.org/stable/modules/generated/sklearn.tree.DecisionTreeClassifier.html) monitors the amount of observations in an internal node; if a certain threshold is not reached (e.g min 5 people) no further splitting can be done. Very deep trees fit to quirks in data and perform well on training data, but will perform worse on test (unseen) data. We want our model to generalize better.\n",
    "\n",
    "An example of how my F1-score varied while changing the 'max_depth' parameter of my final DecisionTreeClassifier, while keeping 'min_sample_split' constant at 5. F1-score was obtained using [tester.py](https://github.com/arjan-hada/Udacity-Data-Analyst/blob/master/P5-Identify-Enron-Fraud/final_project/tester.py) module."
   ]
  },
  {
   "cell_type": "code",
   "execution_count": 23,
   "metadata": {},
   "outputs": [
    {
     "data": {
      "text/html": [
       "\n",
       "<!DOCTYPE html>\n",
       "<html lang=\"en\">\n",
       "    <head>\n",
       "        <meta charset=\"utf-8\">\n",
       "        <title>Bokeh Application</title>\n",
       "        \n",
       "<link rel=\"stylesheet\" href=\"https://cdn.pydata.org/bokeh/release/bokeh-0.12.6.min.css\" type=\"text/css\" />\n",
       "        \n",
       "<script type=\"text/javascript\" src=\"https://cdn.pydata.org/bokeh/release/bokeh-0.12.6.min.js\"></script>\n",
       "<script type=\"text/javascript\">\n",
       "    Bokeh.set_log_level(\"info\");\n",
       "</script>\n",
       "        <style>\n",
       "          html {\n",
       "            width: 100%;\n",
       "            height: 100%;\n",
       "          }\n",
       "          body {\n",
       "            width: 90%;\n",
       "            height: 100%;\n",
       "            margin: auto;\n",
       "          }\n",
       "        </style>\n",
       "    </head>\n",
       "    <body>\n",
       "        \n",
       "        <div class=\"bk-root\">\n",
       "            <div class=\"bk-plotdiv\" id=\"86f8c32f-499b-4109-bb58-f16fdb7e9e52\"></div>\n",
       "        </div>\n",
       "        \n",
       "        <script type=\"text/javascript\">\n",
       "            (function() {\n",
       "          var fn = function() {\n",
       "            Bokeh.safely(function() {\n",
       "              var docs_json = {\"ab3aaae1-38a3-4860-bd08-97d09fe96a13\":{\"roots\":{\"references\":[{\"attributes\":{\"plot\":{\"id\":\"a7cf5914-b533-4e79-a0f5-2b1980bd1791\",\"subtype\":\"Chart\",\"type\":\"Plot\"}},\"id\":\"4fae415a-5d4f-4a58-aace-8af0dac63232\",\"type\":\"PanTool\"},{\"attributes\":{},\"id\":\"8856ea5e-36ec-4ca6-846a-072bfd6fd980\",\"type\":\"BasicTicker\"},{\"attributes\":{\"dimension\":1,\"plot\":{\"id\":\"a7cf5914-b533-4e79-a0f5-2b1980bd1791\",\"subtype\":\"Chart\",\"type\":\"Plot\"},\"ticker\":{\"id\":\"f27b260c-98f2-4a7b-a42d-3c73dcad4223\",\"type\":\"BasicTicker\"}},\"id\":\"2c3d41e7-2b91-42d1-aa45-3ad3d8451aee\",\"type\":\"Grid\"},{\"attributes\":{\"plot\":{\"id\":\"a7cf5914-b533-4e79-a0f5-2b1980bd1791\",\"subtype\":\"Chart\",\"type\":\"Plot\"}},\"id\":\"a3871866-4bbd-4e18-b5d7-eb6943106b80\",\"type\":\"WheelZoomTool\"},{\"attributes\":{\"fill_alpha\":{\"value\":0.7},\"fill_color\":{\"value\":\"#f22c40\"},\"line_color\":{\"value\":\"#f22c40\"},\"size\":{\"units\":\"screen\",\"value\":8},\"x\":{\"field\":\"x_values\"},\"y\":{\"field\":\"y_values\"}},\"id\":\"235b2fea-e022-48af-a85d-32d32f72fb0d\",\"type\":\"Circle\"},{\"attributes\":{},\"id\":\"d9ce5700-a168-426c-937c-6b0aa69ae456\",\"type\":\"LinearScale\"},{\"attributes\":{\"bottom_units\":\"screen\",\"fill_alpha\":{\"value\":0.5},\"fill_color\":{\"value\":\"lightgrey\"},\"left_units\":\"screen\",\"level\":\"overlay\",\"line_alpha\":{\"value\":1.0},\"line_color\":{\"value\":\"black\"},\"line_dash\":[4,4],\"line_width\":{\"value\":2},\"plot\":null,\"render_mode\":\"css\",\"right_units\":\"screen\",\"top_units\":\"screen\"},\"id\":\"327df630-4bb2-44fc-8293-68f502ba0454\",\"type\":\"BoxAnnotation\"},{\"attributes\":{\"data_source\":{\"id\":\"36e2d4d8-44f2-49bf-bcd0-fad2e62c82c0\",\"type\":\"ColumnDataSource\"},\"glyph\":{\"id\":\"235b2fea-e022-48af-a85d-32d32f72fb0d\",\"type\":\"Circle\"},\"hover_glyph\":null,\"muted_glyph\":null},\"id\":\"451c8935-6276-4647-a5c3-270d06c40435\",\"type\":\"GlyphRenderer\"},{\"attributes\":{\"plot\":{\"id\":\"a7cf5914-b533-4e79-a0f5-2b1980bd1791\",\"subtype\":\"Chart\",\"type\":\"Plot\"}},\"id\":\"3f693bbf-3437-4be3-9253-1d9c0a1e72e1\",\"type\":\"SaveTool\"},{\"attributes\":{\"plot\":null,\"text\":\"DecisionTreeClassifier(max_depth = x, min_samples_split=5)\"},\"id\":\"ac6fe720-a514-4c16-b9d4-a2881a985270\",\"type\":\"Title\"},{\"attributes\":{},\"id\":\"6197a81a-55be-467c-ad1c-8cc2c98f2cc9\",\"type\":\"BasicTickFormatter\"},{\"attributes\":{\"plot\":{\"id\":\"a7cf5914-b533-4e79-a0f5-2b1980bd1791\",\"subtype\":\"Chart\",\"type\":\"Plot\"},\"ticker\":{\"id\":\"8856ea5e-36ec-4ca6-846a-072bfd6fd980\",\"type\":\"BasicTicker\"}},\"id\":\"5b32f5ff-e5eb-4648-ac23-048313409a08\",\"type\":\"Grid\"},{\"attributes\":{\"active_drag\":\"auto\",\"active_inspect\":\"auto\",\"active_scroll\":\"auto\",\"active_tap\":\"auto\",\"tools\":[{\"id\":\"4fae415a-5d4f-4a58-aace-8af0dac63232\",\"type\":\"PanTool\"},{\"id\":\"a3871866-4bbd-4e18-b5d7-eb6943106b80\",\"type\":\"WheelZoomTool\"},{\"id\":\"6942c07f-6b70-4121-b04f-3138eca12993\",\"type\":\"BoxZoomTool\"},{\"id\":\"3f693bbf-3437-4be3-9253-1d9c0a1e72e1\",\"type\":\"SaveTool\"},{\"id\":\"a1b9ed9f-e541-40f6-a29e-294f1a32f2d6\",\"type\":\"ResetTool\"},{\"id\":\"80a93987-3f91-44b9-834a-6e9570b92579\",\"type\":\"HelpTool\"}]},\"id\":\"ad9789aa-fda6-4390-8346-649568c3fd2b\",\"type\":\"Toolbar\"},{\"attributes\":{\"callback\":null,\"end\":0.456194,\"start\":0.025345999999999994},\"id\":\"656d87d4-b8fd-4087-9f66-f79da0b74068\",\"type\":\"Range1d\"},{\"attributes\":{\"callback\":null,\"end\":21.9,\"start\":-0.9000000000000001},\"id\":\"76b30cdb-1048-4e68-8e54-3a1172adcdcd\",\"type\":\"Range1d\"},{\"attributes\":{},\"id\":\"f27b260c-98f2-4a7b-a42d-3c73dcad4223\",\"type\":\"BasicTicker\"},{\"attributes\":{\"axis_label\":\"F1-score\",\"formatter\":{\"id\":\"eab572f0-bc82-476f-b083-3bf965fab736\",\"type\":\"BasicTickFormatter\"},\"plot\":{\"id\":\"a7cf5914-b533-4e79-a0f5-2b1980bd1791\",\"subtype\":\"Chart\",\"type\":\"Plot\"},\"ticker\":{\"id\":\"f27b260c-98f2-4a7b-a42d-3c73dcad4223\",\"type\":\"BasicTicker\"}},\"id\":\"c9ff26f8-9920-4e18-a90d-344e867a91d3\",\"type\":\"LinearAxis\"},{\"attributes\":{},\"id\":\"a3355aaa-35e2-4204-9ad9-477c7b3d4408\",\"type\":\"ToolEvents\"},{\"attributes\":{\"overlay\":{\"id\":\"327df630-4bb2-44fc-8293-68f502ba0454\",\"type\":\"BoxAnnotation\"},\"plot\":{\"id\":\"a7cf5914-b533-4e79-a0f5-2b1980bd1791\",\"subtype\":\"Chart\",\"type\":\"Plot\"}},\"id\":\"6942c07f-6b70-4121-b04f-3138eca12993\",\"type\":\"BoxZoomTool\"},{\"attributes\":{\"axis_label\":\"max_depth\",\"formatter\":{\"id\":\"6197a81a-55be-467c-ad1c-8cc2c98f2cc9\",\"type\":\"BasicTickFormatter\"},\"plot\":{\"id\":\"a7cf5914-b533-4e79-a0f5-2b1980bd1791\",\"subtype\":\"Chart\",\"type\":\"Plot\"},\"ticker\":{\"id\":\"8856ea5e-36ec-4ca6-846a-072bfd6fd980\",\"type\":\"BasicTicker\"}},\"id\":\"fa703dba-028d-4ecc-a352-de2ed12e9608\",\"type\":\"LinearAxis\"},{\"attributes\":{},\"id\":\"3d1e21e7-9f10-4b1f-92e6-d2a38c545ec0\",\"type\":\"LinearScale\"},{\"attributes\":{\"below\":[{\"id\":\"fa703dba-028d-4ecc-a352-de2ed12e9608\",\"type\":\"LinearAxis\"}],\"css_classes\":null,\"left\":[{\"id\":\"c9ff26f8-9920-4e18-a90d-344e867a91d3\",\"type\":\"LinearAxis\"}],\"plot_height\":400,\"plot_width\":500,\"renderers\":[{\"id\":\"327df630-4bb2-44fc-8293-68f502ba0454\",\"type\":\"BoxAnnotation\"},{\"id\":\"451c8935-6276-4647-a5c3-270d06c40435\",\"type\":\"GlyphRenderer\"},{\"id\":\"a3a9edda-c73c-4235-84ce-a05d39e3bdce\",\"type\":\"Legend\"},{\"id\":\"fa703dba-028d-4ecc-a352-de2ed12e9608\",\"type\":\"LinearAxis\"},{\"id\":\"c9ff26f8-9920-4e18-a90d-344e867a91d3\",\"type\":\"LinearAxis\"},{\"id\":\"5b32f5ff-e5eb-4648-ac23-048313409a08\",\"type\":\"Grid\"},{\"id\":\"2c3d41e7-2b91-42d1-aa45-3ad3d8451aee\",\"type\":\"Grid\"}],\"title\":{\"id\":\"ac6fe720-a514-4c16-b9d4-a2881a985270\",\"type\":\"Title\"},\"tool_events\":{\"id\":\"a3355aaa-35e2-4204-9ad9-477c7b3d4408\",\"type\":\"ToolEvents\"},\"toolbar\":{\"id\":\"ad9789aa-fda6-4390-8346-649568c3fd2b\",\"type\":\"Toolbar\"},\"x_range\":{\"id\":\"76b30cdb-1048-4e68-8e54-3a1172adcdcd\",\"type\":\"Range1d\"},\"x_scale\":{\"id\":\"3d1e21e7-9f10-4b1f-92e6-d2a38c545ec0\",\"type\":\"LinearScale\"},\"y_range\":{\"id\":\"656d87d4-b8fd-4087-9f66-f79da0b74068\",\"type\":\"Range1d\"},\"y_scale\":{\"id\":\"d9ce5700-a168-426c-937c-6b0aa69ae456\",\"type\":\"LinearScale\"}},\"id\":\"a7cf5914-b533-4e79-a0f5-2b1980bd1791\",\"subtype\":\"Chart\",\"type\":\"Plot\"},{\"attributes\":{\"callback\":null,\"column_names\":[\"x_values\",\"y_values\"],\"data\":{\"chart_index\":[null,null,null,null,null,null],\"x_values\":[1,2,5,10,15,20],\"y_values\":{\"__ndarray__\":\"XI/C9Shcrz8v3SQGgZXLP2Svd3+8V9k/z/dT46Wb2j/sTKHzGrvaP2d+NQcI5to/\",\"dtype\":\"float64\",\"shape\":[6]}}},\"id\":\"36e2d4d8-44f2-49bf-bcd0-fad2e62c82c0\",\"type\":\"ColumnDataSource\"},{\"attributes\":{},\"id\":\"eab572f0-bc82-476f-b083-3bf965fab736\",\"type\":\"BasicTickFormatter\"},{\"attributes\":{\"location\":\"top_left\",\"plot\":{\"id\":\"a7cf5914-b533-4e79-a0f5-2b1980bd1791\",\"subtype\":\"Chart\",\"type\":\"Plot\"}},\"id\":\"a3a9edda-c73c-4235-84ce-a05d39e3bdce\",\"type\":\"Legend\"},{\"attributes\":{\"plot\":{\"id\":\"a7cf5914-b533-4e79-a0f5-2b1980bd1791\",\"subtype\":\"Chart\",\"type\":\"Plot\"}},\"id\":\"80a93987-3f91-44b9-834a-6e9570b92579\",\"type\":\"HelpTool\"},{\"attributes\":{\"plot\":{\"id\":\"a7cf5914-b533-4e79-a0f5-2b1980bd1791\",\"subtype\":\"Chart\",\"type\":\"Plot\"}},\"id\":\"a1b9ed9f-e541-40f6-a29e-294f1a32f2d6\",\"type\":\"ResetTool\"}],\"root_ids\":[\"a7cf5914-b533-4e79-a0f5-2b1980bd1791\"]},\"title\":\"Bokeh Application\",\"version\":\"0.12.6\"}};\n",
       "              var render_items = [{\"docid\":\"ab3aaae1-38a3-4860-bd08-97d09fe96a13\",\"elementid\":\"86f8c32f-499b-4109-bb58-f16fdb7e9e52\",\"modelid\":\"a7cf5914-b533-4e79-a0f5-2b1980bd1791\"}];\n",
       "              \n",
       "              Bokeh.embed.embed_items(docs_json, render_items);\n",
       "            });\n",
       "          };\n",
       "          if (document.readyState != \"loading\") fn();\n",
       "          else document.addEventListener(\"DOMContentLoaded\", fn);\n",
       "        })();\n",
       "        \n",
       "        </script>\n",
       "    </body>\n",
       "</html>"
      ],
      "text/plain": [
       "<IPython.core.display.HTML object>"
      ]
     },
     "execution_count": 23,
     "metadata": {},
     "output_type": "execute_result"
    }
   ],
   "source": [
    "from bkcharts import Scatter, show\n",
    "\n",
    "max_depth = [1,2,5,10,15,20]\n",
    "F1_score = [0.06125, 0.21550, 0.39598, 0.41575, 0.41767, 0.42029]\n",
    "\n",
    "data = {'max_depth':max_depth, 'F1-score':F1_score}\n",
    "\n",
    "p = Scatter(data, x='max_depth', y='F1-score', \n",
    "            title=\"DecisionTreeClassifier(max_depth = x, min_samples_split=5)\",\n",
    "            xlabel=\"max_depth\", ylabel=\"F1-score\", \n",
    "            plot_width = 500, plot_height = 400)\n",
    "#show(p)\n",
    "p_html = file_html(p, CDN)\n",
    "HTML(p_html)"
   ]
  },
  {
   "cell_type": "markdown",
   "metadata": {},
   "source": [
    "# Validate and Evaluate"
   ]
  },
  {
   "cell_type": "markdown",
   "metadata": {},
   "source": [
    "> What is validation, and what’s a classic mistake you can make if you do it wrong? How did you validate your analysis? "
   ]
  },
  {
   "cell_type": "markdown",
   "metadata": {},
   "source": [
    "**Validation** is the strategy to evaluate the performance of the model on unseen data. A classic mistake is to evaluate the performance of an algorithm on the same dataset it was trained on. It will make our algorithm perform better than it actually does. This is called **overfitting**. However, we will have no idea how our algorithm performs on unseen data. We want an algorithm that generalizes well to new data.\n",
    "\n",
    "We can avoid overfitting by randomly splitting our data into training and testing set. This is called crossvalidation. However, with a small dataset like ours, we run into the dilemma of maximizing the training set vs test set. So, I ended up using [**StratifiedShuffleSplit**](http://scikit-learn.org/stable/modules/cross_validation.html). StratifiedShuffleSplit will make randomly chosen training and test sets multiple times and average the results over all the tests. Data is first shuffled and then split into a pair of training and test sets. Stratification ensures training and test splits have class distribution (POI:Non-POI) that represents the overall data. Stratification is well suited in our case because of class imbalance (18 POI vs 128 Non-POI)."
   ]
  },
  {
   "cell_type": "markdown",
   "metadata": {},
   "source": [
    "> Give at least 2 evaluation metrics and your average performance for each of them.  Explain an interpretation of your metrics that says something human-understandable about your algorithm’s performance."
   ]
  },
  {
   "cell_type": "markdown",
   "metadata": {},
   "source": [
    "There are a number of evaluation metrics for classification challenges. In **balanced classes**, where all the labels are equally represented, we look at the classification accuracy of the model.\n",
    "\n",
    "$$Accuracy = \\frac{Number\\ of\\ labels\\ predicted\\ correctly}{Total\\ number\\ of\\ predicitions} = \\frac{True\\ Positives +True\\ Negatives}{Total\\ Predictions}$$\n",
    "\n",
    "However, accuracy is not ideal for skewed classes. In our case, number of POI are small compared to non-POI (18 vs 128). We can have high accuracy by classifying many non-POI correctly and still not have a POI classiifed correctly.\n",
    "For imbalanced classes like we have, **Precision** and **Recall** are common measures of model performance.\n",
    "\n",
    "$$Precision = \\frac{True\\ Positive}{True\\ Positive + False\\ Positive}\\ \\ \\ \\ \\ Recall = \\frac{True\\ Positive}{True\\ Positive + False\\ Negative}$$\n",
    "\n",
    "A **good precision** means that whenever a POI gets flagged in my test set, I know with a lot of confidence that it's very likely to be a real POI and not a false alarm. A low precision indicates a large number of False Positives, where non-POI gets flagged as POI.\n",
    "\n",
    "A **good recall** means nearly I am able to identify a POI everytime it shows up in test cases. A low recall indicates many False Negatives, where POIs don't get flagged correctly.\n",
    "\n",
    "F1 score conveys a balance between precision and recall. It is the harmonic mean of precision and recall.\n",
    "\n",
    "$$F1\\ score = \\frac{2*(precision*recall)}{precision + recall}$$\n",
    "\n",
    "A **good F1 score** means both my false positives and false negatives are low, I can identify my POI's reliably and accurately. If my classifier flags a POI then the person is almost certainly a POI, and if the classifier does not flag someone, then they are almost certainly not a POI.\n",
    "\n",
    "The **F2-Score** is a weighted average of precision and recall: \n",
    "\n",
    "$$F2\\ score = \\frac{5*(precision*recall)}{4*precision + recall}$$"
   ]
  },
  {
   "cell_type": "markdown",
   "metadata": {},
   "source": [
    "# Algorithm Performance"
   ]
  },
  {
   "cell_type": "code",
   "execution_count": 24,
   "metadata": {
    "collapsed": true
   },
   "outputs": [],
   "source": [
    "from sklearn.tree import DecisionTreeClassifier\n",
    "\n",
    "clf = DecisionTreeClassifier(criterion='entropy', max_depth =2, min_samples_split=2, min_samples_leaf=6)"
   ]
  },
  {
   "cell_type": "code",
   "execution_count": 25,
   "metadata": {
    "collapsed": true
   },
   "outputs": [],
   "source": [
    "dump_classifier_and_data(clf, my_dataset, features_list)"
   ]
  },
  {
   "cell_type": "code",
   "execution_count": 26,
   "metadata": {},
   "outputs": [
    {
     "name": "stdout",
     "output_type": "stream",
     "text": [
      "DecisionTreeClassifier(class_weight=None, criterion='entropy', max_depth=2,\n",
      "            max_features=None, max_leaf_nodes=None,\n",
      "            min_impurity_split=1e-07, min_samples_leaf=6,\n",
      "            min_samples_split=2, min_weight_fraction_leaf=0.0,\n",
      "            presort=False, random_state=None, splitter='best')\n",
      "Feature importances [ 0.13457839  0.04337189  0.48678268  0.33526705]\n",
      "Accuracy: 0.83931\tPrecision: 0.47751\tRecall: 0.47250\tF1: 0.47499\tF2: 0.47349\n",
      "Total predictions: 13000\tTrue positives:  945\tFalse positives: 1034\tFalse negatives: 1055\tTrue negatives: 9966\n",
      "\n"
     ]
    },
    {
     "data": {
      "image/png": "[encoded data removed]",
      "text/plain": [
       "<matplotlib.figure.Figure at 0x112993c50>"
      ]
     },
     "metadata": {},
     "output_type": "display_data"
    }
   ],
   "source": [
    "# Get confusion matrix (cm)\n",
    "from tester_plus import test_classifier\n",
    "cm = test_classifier(clf, my_dataset, features_list)\n",
    "\n",
    "# Seaborn and matplotlib library\n",
    "import seaborn as sns\n",
    "import matplotlib.pyplot as plt\n",
    "%matplotlib inline\n",
    "\n",
    "# View confusion matrix with a heatmap\n",
    "sns.heatmap(cm, annot=True, fmt = 'd', cmap='Reds', xticklabels=['no', 'yes'], yticklabels=['no', 'yes'])\n",
    "plt.ylabel('True label')\n",
    "plt.xlabel('Predicted label')\n",
    "plt.title('Confusion matrix for:\\n{}'.format(clf.__class__.__name__));"
   ]
  },
  {
   "cell_type": "markdown",
   "metadata": {},
   "source": [
    "# Reference"
   ]
  },
  {
   "cell_type": "markdown",
   "metadata": {},
   "source": [
    "1) [Udacity's Intro to Machine Learning](https://www.udacity.com/course/intro-to-machine-learning--ud120)     \n",
    "2) [Enron wiki](https://en.wikipedia.org/wiki/Enron)     \n",
    "3) [scikit-learn](http://scikit-learn.org/stable/)    \n",
    "4) [Plotly Scatterplot](https://plot.ly/pandas/line-and-scatter/)     \n",
    "5) [Bokeh Scatterplot](http://bokeh.pydata.org/en/latest/docs/user_guide/annotations.html#legends)     \n",
    "6) [Bokeh Barchart](http://bokeh.pydata.org/en/latest/docs/user_guide/charts.html#bar-charts)      \n",
    "7) [Optional code visibility](http://chris-said.io/2016/02/13/how-to-make-polished-jupyter-presentations-with-optional-code-visibility/)"
   ]
  },
  {
   "cell_type": "raw",
   "metadata": {},
   "source": [
    "<script>\n",
    "  $(document).ready(function(){\n",
    "    $('div.prompt').hide();\n",
    "    $('div.back-to-top').hide();\n",
    "    $('nav#menubar').hide();\n",
    "    $('.breadcrumb').hide();\n",
    "    $('.hidden-print').hide();\n",
    "  });\n",
    "</script>\n",
    "\n",
    "<footer id=\"attribution\" style=\"float:right; color:#999; background:#fff;\">\n",
    "<p>Created with Jupyter, delivered by Fastly, rendered by Rackspace.</p>\n",
    "<p>November 26, 2016</p> \n",
    "<p>Contact author: <a href=\"mailto:hadaarjan@gmail.com\">\n",
    "  hadaarjan@gmail.com</a></p>  \n",
    "</footer>"
   ]
  }
 ],
 "metadata": {
  "anaconda-cloud": {},
  "kernelspec": {
   "display_name": "Python 2",
   "language": "python",
   "name": "python2"
  },
  "language_info": {
   "codemirror_mode": {
    "name": "ipython",
    "version": 2
   },
   "file_extension": ".py",
   "mimetype": "text/x-python",
   "name": "python",
   "nbconvert_exporter": "python",
   "pygments_lexer": "ipython2",
   "version": "2.7.13"
  }
 },
 "nbformat": 4,
 "nbformat_minor": 1
}
