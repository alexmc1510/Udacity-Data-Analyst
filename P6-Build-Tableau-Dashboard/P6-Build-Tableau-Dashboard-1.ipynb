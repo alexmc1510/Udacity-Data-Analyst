{
 "cells": [
  {
   "cell_type": "markdown",
   "metadata": {},
   "source": [
    "<script>\n",
    "  jQuery(document).ready(function($) {  \n",
    "  \n",
    "  $(window).load(function(){\n",
    "    $('#preloader').fadeOut('slow',function(){$(this).remove();});\n",
    "  });\n",
    "  \n",
    "  });\n",
    "</script>\n",
    "\n",
    "<style type=\"text/css\">\n",
    "  div#preloader { position: fixed; \n",
    "      left: 0; \n",
    "      top: 0; \n",
    "      z-index: 999; \n",
    "      width: 100%; \n",
    "      height: 100%; \n",
    "      overflow: visible; \n",
    "      background: #fff url('http://preloaders.net/preloaders/720/Moving%20line.gif') no-repeat center center; \n",
    "  }\n",
    "\n",
    "</style>\n",
    "\n",
    "<div id=\"preloader\">\n",
    "\n",
    "</div>"
   ]
  },
  {
   "cell_type": "markdown",
   "metadata": {},
   "source": [
    "<script>\n",
    "  function code_toggle() {\n",
    "    if (code_shown){\n",
    "      $('div.input').hide('500');\n",
    "      $('#toggleButton').val('Show Code')\n",
    "    } else {\n",
    "      $('div.input').show('500');\n",
    "      $('#toggleButton').val('Hide Code')\n",
    "    }\n",
    "    code_shown = !code_shown\n",
    "  }\n",
    "\n",
    "  $( document ).ready(function(){\n",
    "    code_shown=false;\n",
    "    $('div.input').hide()\n",
    "  });\n",
    "</script>\n",
    "<form action=\"javascript:code_toggle()\"><input type=\"submit\" id=\"toggleButton\" value=\"Show Code\"></form>"
   ]
  },
  {
   "cell_type": "markdown",
   "metadata": {},
   "source": [
    "## Project Details\n",
    "\n",
    "You are a business analyst consultant and your client is a new movie production company looking to make a new movie. The client wants to make sure it’s successful to help make a name for the new company. They are relying on you to help understand movie trends to help inform their decision making. They’ve given you guidance to look into three specific areas:\n",
    "Question 1: How have movies based on novels performed relative to movies not based on novels? \n",
    "Question 2: How do the attributes differ between Universal Pictures and Paramount Pictures? \n",
    "Question 3: How have movie genres changed over time?"
   ]
  },
  {
   "cell_type": "markdown",
   "metadata": {},
   "source": [
    "## Final visualizations"
   ]
  },
  {
   "cell_type": "markdown",
   "metadata": {},
   "source": [
    "**[Q1: How have movies based on novels performed relative to movies not based on novels?](https://public.tableau.com/views/Howhavemoviesbasedonnovelsperformedrelativetomoviesnotbasedonnovels_0/movies_novel_story?:embed=y&:display_count=yes&publish=yes)**"
   ]
  },
  {
   "cell_type": "code",
   "execution_count": 4,
   "metadata": {},
   "outputs": [
    {
     "data": {
      "text/html": [
       "\n",
       "<div class='tableauPlaceholder' id='viz1500676074915' style='position: relative'><noscript><a href='#'><img alt='How have movies based on novels performed relative to movies not based on novels?  ' src='https:&#47;&#47;public.tableau.com&#47;static&#47;images&#47;Ho&#47;Howhavemoviesbasedonnovelsperformedrelativetomoviesnotbasedonnovels_0&#47;movies_novel_story&#47;1_rss.png' style='border: none' /></a></noscript><object class='tableauViz'  style='display:none;'><param name='host_url' value='https%3A%2F%2Fpublic.tableau.com%2F' /> <param name='site_root' value='' /><param name='name' value='Howhavemoviesbasedonnovelsperformedrelativetomoviesnotbasedonnovels_0&#47;movies_novel_story' /><param name='tabs' value='no' /><param name='toolbar' value='yes' /><param name='static_image' value='https:&#47;&#47;public.tableau.com&#47;static&#47;images&#47;Ho&#47;Howhavemoviesbasedonnovelsperformedrelativetomoviesnotbasedonnovels_0&#47;movies_novel_story&#47;1.png' /> <param name='animate_transition' value='yes' /><param name='display_static_image' value='yes' /><param name='display_spinner' value='yes' /><param name='display_overlay' value='yes' /><param name='display_count' value='yes' /></object></div>                <script type='text/javascript'>                    var divElement = document.getElementById('viz1500676074915');                    var vizElement = divElement.getElementsByTagName('object')[0];                    vizElement.style.width='100%';vizElement.style.height=(divElement.offsetWidth*0.75)+'px';                    var scriptElement = document.createElement('script');                    scriptElement.src = 'https://public.tableau.com/javascripts/api/viz_v1.js';                    vizElement.parentNode.insertBefore(scriptElement, vizElement);                </script>"
      ],
      "text/plain": [
       "<IPython.core.display.HTML object>"
      ]
     },
     "metadata": {},
     "output_type": "display_data"
    }
   ],
   "source": [
    "%%HTML\n",
    "\n",
    "<div class='tableauPlaceholder' id='viz1500676074915' style='position: relative'><noscript><a href='#'><img alt='How have movies based on novels performed relative to movies not based on novels?  ' src='https:&#47;&#47;public.tableau.com&#47;static&#47;images&#47;Ho&#47;Howhavemoviesbasedonnovelsperformedrelativetomoviesnotbasedonnovels_0&#47;movies_novel_story&#47;1_rss.png' style='border: none' /></a></noscript><object class='tableauViz'  style='display:none;'><param name='host_url' value='https%3A%2F%2Fpublic.tableau.com%2F' /> <param name='site_root' value='' /><param name='name' value='Howhavemoviesbasedonnovelsperformedrelativetomoviesnotbasedonnovels_0&#47;movies_novel_story' /><param name='tabs' value='no' /><param name='toolbar' value='yes' /><param name='static_image' value='https:&#47;&#47;public.tableau.com&#47;static&#47;images&#47;Ho&#47;Howhavemoviesbasedonnovelsperformedrelativetomoviesnotbasedonnovels_0&#47;movies_novel_story&#47;1.png' /> <param name='animate_transition' value='yes' /><param name='display_static_image' value='yes' /><param name='display_spinner' value='yes' /><param name='display_overlay' value='yes' /><param name='display_count' value='yes' /></object></div>                <script type='text/javascript'>                    var divElement = document.getElementById('viz1500676074915');                    var vizElement = divElement.getElementsByTagName('object')[0];                    vizElement.style.width='100%';vizElement.style.height=(divElement.offsetWidth*0.75)+'px';                    var scriptElement = document.createElement('script');                    scriptElement.src = 'https://public.tableau.com/javascripts/api/viz_v1.js';                    vizElement.parentNode.insertBefore(scriptElement, vizElement);                </script>"
   ]
  },
  {
   "cell_type": "markdown",
   "metadata": {},
   "source": [
    "**[Q2: How do the attributes differ between Universal Pictures and Paramount Pictures?](https://public.tableau.com/views/HowdotheattributesdifferbetweenUniversalandParamountPictures/UniversalvsParamount?:embed=y&:display_count=yes&publish=yes)**"
   ]
  },
  {
   "cell_type": "code",
   "execution_count": 2,
   "metadata": {},
   "outputs": [
    {
     "data": {
      "text/html": [
       "<div class='tableauPlaceholder' id='viz1500765522300' style='position: relative'><noscript><a href='#'><img alt='How do the attributes differ between Universal and Paramount Pictures? ' src='https:&#47;&#47;public.tableau.com&#47;static&#47;images&#47;Ho&#47;HowdotheattributesdifferbetweenUniversalandParamountPictures&#47;UniversalvsParamount&#47;1_rss.png' style='border: none' /></a></noscript><object class='tableauViz'  style='display:none;'><param name='host_url' value='https%3A%2F%2Fpublic.tableau.com%2F' /> <param name='site_root' value='' /><param name='name' value='HowdotheattributesdifferbetweenUniversalandParamountPictures&#47;UniversalvsParamount' /><param name='tabs' value='no' /><param name='toolbar' value='yes' /><param name='static_image' value='https:&#47;&#47;public.tableau.com&#47;static&#47;images&#47;Ho&#47;HowdotheattributesdifferbetweenUniversalandParamountPictures&#47;UniversalvsParamount&#47;1.png' /> <param name='animate_transition' value='yes' /><param name='display_static_image' value='yes' /><param name='display_spinner' value='yes' /><param name='display_overlay' value='yes' /><param name='display_count' value='yes' /><param name='filter' value='publish=yes' /></object></div>                <script type='text/javascript'>                    var divElement = document.getElementById('viz1500765522300');                    var vizElement = divElement.getElementsByTagName('object')[0];                    vizElement.style.width='100%';vizElement.style.height=(divElement.offsetWidth*0.75)+'px';                    var scriptElement = document.createElement('script');                    scriptElement.src = 'https://public.tableau.com/javascripts/api/viz_v1.js';                    vizElement.parentNode.insertBefore(scriptElement, vizElement);                </script>"
      ],
      "text/plain": [
       "<IPython.core.display.HTML object>"
      ]
     },
     "metadata": {},
     "output_type": "display_data"
    }
   ],
   "source": [
    "%%HTML\n",
    "<div class='tableauPlaceholder' id='viz1500765522300' style='position: relative'><noscript><a href='#'><img alt='How do the attributes differ between Universal and Paramount Pictures? ' src='https:&#47;&#47;public.tableau.com&#47;static&#47;images&#47;Ho&#47;HowdotheattributesdifferbetweenUniversalandParamountPictures&#47;UniversalvsParamount&#47;1_rss.png' style='border: none' /></a></noscript><object class='tableauViz'  style='display:none;'><param name='host_url' value='https%3A%2F%2Fpublic.tableau.com%2F' /> <param name='site_root' value='' /><param name='name' value='HowdotheattributesdifferbetweenUniversalandParamountPictures&#47;UniversalvsParamount' /><param name='tabs' value='no' /><param name='toolbar' value='yes' /><param name='static_image' value='https:&#47;&#47;public.tableau.com&#47;static&#47;images&#47;Ho&#47;HowdotheattributesdifferbetweenUniversalandParamountPictures&#47;UniversalvsParamount&#47;1.png' /> <param name='animate_transition' value='yes' /><param name='display_static_image' value='yes' /><param name='display_spinner' value='yes' /><param name='display_overlay' value='yes' /><param name='display_count' value='yes' /><param name='filter' value='publish=yes' /></object></div>                <script type='text/javascript'>                    var divElement = document.getElementById('viz1500765522300');                    var vizElement = divElement.getElementsByTagName('object')[0];                    vizElement.style.width='100%';vizElement.style.height=(divElement.offsetWidth*0.75)+'px';                    var scriptElement = document.createElement('script');                    scriptElement.src = 'https://public.tableau.com/javascripts/api/viz_v1.js';                    vizElement.parentNode.insertBefore(scriptElement, vizElement);                </script>"
   ]
  },
  {
   "cell_type": "markdown",
   "metadata": {},
   "source": [
    "**[Q3: Question 3: How have movie genres changed over time?](https://public.tableau.com/views/Howhavemoviegenreschangedovertime_1/Howhavemoviegenreschangedovertime?:embed=y&:display_count=yes&publish=yes)**"
   ]
  },
  {
   "cell_type": "code",
   "execution_count": 4,
   "metadata": {},
   "outputs": [
    {
     "data": {
      "text/html": [
       "<div class='tableauPlaceholder' id='viz1500821146454' style='position: relative'><noscript><a href='#'><img alt='How have movie genres changed over time? ' src='https:&#47;&#47;public.tableau.com&#47;static&#47;images&#47;Ho&#47;Howhavemoviegenreschangedovertime_1&#47;Howhavemoviegenreschangedovertime&#47;1_rss.png' style='border: none' /></a></noscript><object class='tableauViz'  style='display:none;'><param name='host_url' value='https%3A%2F%2Fpublic.tableau.com%2F' /> <param name='site_root' value='' /><param name='name' value='Howhavemoviegenreschangedovertime_1&#47;Howhavemoviegenreschangedovertime' /><param name='tabs' value='no' /><param name='toolbar' value='yes' /><param name='static_image' value='https:&#47;&#47;public.tableau.com&#47;static&#47;images&#47;Ho&#47;Howhavemoviegenreschangedovertime_1&#47;Howhavemoviegenreschangedovertime&#47;1.png' /> <param name='animate_transition' value='yes' /><param name='display_static_image' value='yes' /><param name='display_spinner' value='yes' /><param name='display_overlay' value='yes' /><param name='display_count' value='yes' /><param name='filter' value='publish=yes' /></object></div>                <script type='text/javascript'>                    var divElement = document.getElementById('viz1500821146454');                    var vizElement = divElement.getElementsByTagName('object')[0];                    vizElement.style.width='100%';vizElement.style.height=(divElement.offsetWidth*0.75)+'px';                    var scriptElement = document.createElement('script');                    scriptElement.src = 'https://public.tableau.com/javascripts/api/viz_v1.js';                    vizElement.parentNode.insertBefore(scriptElement, vizElement);                </script>"
      ],
      "text/plain": [
       "<IPython.core.display.HTML object>"
      ]
     },
     "metadata": {},
     "output_type": "display_data"
    }
   ],
   "source": [
    "%%HTML\n",
    "<div class='tableauPlaceholder' id='viz1500821146454' style='position: relative'><noscript><a href='#'><img alt='How have movie genres changed over time? ' src='https:&#47;&#47;public.tableau.com&#47;static&#47;images&#47;Ho&#47;Howhavemoviegenreschangedovertime_1&#47;Howhavemoviegenreschangedovertime&#47;1_rss.png' style='border: none' /></a></noscript><object class='tableauViz'  style='display:none;'><param name='host_url' value='https%3A%2F%2Fpublic.tableau.com%2F' /> <param name='site_root' value='' /><param name='name' value='Howhavemoviegenreschangedovertime_1&#47;Howhavemoviegenreschangedovertime' /><param name='tabs' value='no' /><param name='toolbar' value='yes' /><param name='static_image' value='https:&#47;&#47;public.tableau.com&#47;static&#47;images&#47;Ho&#47;Howhavemoviegenreschangedovertime_1&#47;Howhavemoviegenreschangedovertime&#47;1.png' /> <param name='animate_transition' value='yes' /><param name='display_static_image' value='yes' /><param name='display_spinner' value='yes' /><param name='display_overlay' value='yes' /><param name='display_count' value='yes' /><param name='filter' value='publish=yes' /></object></div>                <script type='text/javascript'>                    var divElement = document.getElementById('viz1500821146454');                    var vizElement = divElement.getElementsByTagName('object')[0];                    vizElement.style.width='100%';vizElement.style.height=(divElement.offsetWidth*0.75)+'px';                    var scriptElement = document.createElement('script');                    scriptElement.src = 'https://public.tableau.com/javascripts/api/viz_v1.js';                    vizElement.parentNode.insertBefore(scriptElement, vizElement);                </script>"
   ]
  },
  {
   "cell_type": "markdown",
   "metadata": {},
   "source": [
    "**[Q4: Dashboard to visualize movie based on ratings, budjet, revenue, profit](https://public.tableau.com/shared/3CTGG26H6?:display_count=yes)**"
   ]
  },
  {
   "cell_type": "code",
   "execution_count": 2,
   "metadata": {},
   "outputs": [
    {
     "data": {
      "text/html": [
       "<div class='tableauPlaceholder' id='viz1500678096446' style='position: relative'><noscript><a href='#'><img alt='OMDB Movies Dashboard ' src='https:&#47;&#47;public.tableau.com&#47;static&#47;images&#47;3C&#47;3CTGG26H6&#47;1_rss.png' style='border: none' /></a></noscript><object class='tableauViz'  style='display:none;'><param name='host_url' value='https%3A%2F%2Fpublic.tableau.com%2F' /> <param name='path' value='shared&#47;3CTGG26H6' /> <param name='toolbar' value='yes' /><param name='static_image' value='https:&#47;&#47;public.tableau.com&#47;static&#47;images&#47;3C&#47;3CTGG26H6&#47;1.png' /> <param name='animate_transition' value='yes' /><param name='display_static_image' value='yes' /><param name='display_spinner' value='yes' /><param name='display_overlay' value='yes' /><param name='display_count' value='yes' /><param name='filter' value='publish=yes' /></object></div>                <script type='text/javascript'>                    var divElement = document.getElementById('viz1500678096446');                    var vizElement = divElement.getElementsByTagName('object')[0];                    vizElement.style.width='100%';vizElement.style.height=(divElement.offsetWidth*0.75)+'px';                    var scriptElement = document.createElement('script');                    scriptElement.src = 'https://public.tableau.com/javascripts/api/viz_v1.js';                    vizElement.parentNode.insertBefore(scriptElement, vizElement);                </script>"
      ],
      "text/plain": [
       "<IPython.core.display.HTML object>"
      ]
     },
     "metadata": {},
     "output_type": "display_data"
    }
   ],
   "source": [
    "%%HTML\n",
    "<div class='tableauPlaceholder' id='viz1500678096446' style='position: relative'><noscript><a href='#'><img alt='OMDB Movies Dashboard ' src='https:&#47;&#47;public.tableau.com&#47;static&#47;images&#47;3C&#47;3CTGG26H6&#47;1_rss.png' style='border: none' /></a></noscript><object class='tableauViz'  style='display:none;'><param name='host_url' value='https%3A%2F%2Fpublic.tableau.com%2F' /> <param name='path' value='shared&#47;3CTGG26H6' /> <param name='toolbar' value='yes' /><param name='static_image' value='https:&#47;&#47;public.tableau.com&#47;static&#47;images&#47;3C&#47;3CTGG26H6&#47;1.png' /> <param name='animate_transition' value='yes' /><param name='display_static_image' value='yes' /><param name='display_spinner' value='yes' /><param name='display_overlay' value='yes' /><param name='display_count' value='yes' /><param name='filter' value='publish=yes' /></object></div>                <script type='text/javascript'>                    var divElement = document.getElementById('viz1500678096446');                    var vizElement = divElement.getElementsByTagName('object')[0];                    vizElement.style.width='100%';vizElement.style.height=(divElement.offsetWidth*0.75)+'px';                    var scriptElement = document.createElement('script');                    scriptElement.src = 'https://public.tableau.com/javascripts/api/viz_v1.js';                    vizElement.parentNode.insertBefore(scriptElement, vizElement);                </script>"
   ]
  },
  {
   "cell_type": "markdown",
   "metadata": {},
   "source": [
    "## Initial visualizations and Feedback"
   ]
  },
  {
   "cell_type": "markdown",
   "metadata": {},
   "source": [
    "**[Q1: How have movies based on novels performed relative to movies not based on novels?](https://public.tableau.com/views/Howhavemoviesbasedonnovelsperformedrelativetomoviesnotbasedonnovelsp0/ratings_vs_profit?:embed=y&:display_count=yes)**"
   ]
  },
  {
   "cell_type": "code",
   "execution_count": 5,
   "metadata": {},
   "outputs": [
    {
     "data": {
      "text/html": [
       "\n",
       "<div class='tableauPlaceholder' id='viz1500676650735' style='position: relative'><noscript><a href='#'><img alt='How have movies based on novel performed relative to movies not based on novel ? ' src='https:&#47;&#47;public.tableau.com&#47;static&#47;images&#47;Ho&#47;Howhavemoviesbasedonnovelsperformedrelativetomoviesnotbasedonnovelsp0&#47;ratings_vs_profit&#47;1_rss.png' style='border: none' /></a></noscript><object class='tableauViz'  style='display:none;'><param name='host_url' value='https%3A%2F%2Fpublic.tableau.com%2F' /> <param name='site_root' value='' /><param name='name' value='Howhavemoviesbasedonnovelsperformedrelativetomoviesnotbasedonnovelsp0&#47;ratings_vs_profit' /><param name='tabs' value='no' /><param name='toolbar' value='yes' /><param name='static_image' value='https:&#47;&#47;public.tableau.com&#47;static&#47;images&#47;Ho&#47;Howhavemoviesbasedonnovelsperformedrelativetomoviesnotbasedonnovelsp0&#47;ratings_vs_profit&#47;1.png' /> <param name='animate_transition' value='yes' /><param name='display_static_image' value='yes' /><param name='display_spinner' value='yes' /><param name='display_overlay' value='yes' /><param name='display_count' value='yes' /><param name='filter' value='publish=yes' /></object></div>                <script type='text/javascript'>                    var divElement = document.getElementById('viz1500676650735');                    var vizElement = divElement.getElementsByTagName('object')[0];                    vizElement.style.width='100%';vizElement.style.height=(divElement.offsetWidth*0.75)+'px';                    var scriptElement = document.createElement('script');                    scriptElement.src = 'https://public.tableau.com/javascripts/api/viz_v1.js';                    vizElement.parentNode.insertBefore(scriptElement, vizElement);                </script>"
      ],
      "text/plain": [
       "<IPython.core.display.HTML object>"
      ]
     },
     "metadata": {},
     "output_type": "display_data"
    }
   ],
   "source": [
    "%%HTML\n",
    "\n",
    "<div class='tableauPlaceholder' id='viz1500676650735' style='position: relative'><noscript><a href='#'><img alt='How have movies based on novel performed relative to movies not based on novel ? ' src='https:&#47;&#47;public.tableau.com&#47;static&#47;images&#47;Ho&#47;Howhavemoviesbasedonnovelsperformedrelativetomoviesnotbasedonnovelsp0&#47;ratings_vs_profit&#47;1_rss.png' style='border: none' /></a></noscript><object class='tableauViz'  style='display:none;'><param name='host_url' value='https%3A%2F%2Fpublic.tableau.com%2F' /> <param name='site_root' value='' /><param name='name' value='Howhavemoviesbasedonnovelsperformedrelativetomoviesnotbasedonnovelsp0&#47;ratings_vs_profit' /><param name='tabs' value='no' /><param name='toolbar' value='yes' /><param name='static_image' value='https:&#47;&#47;public.tableau.com&#47;static&#47;images&#47;Ho&#47;Howhavemoviesbasedonnovelsperformedrelativetomoviesnotbasedonnovelsp0&#47;ratings_vs_profit&#47;1.png' /> <param name='animate_transition' value='yes' /><param name='display_static_image' value='yes' /><param name='display_spinner' value='yes' /><param name='display_overlay' value='yes' /><param name='display_count' value='yes' /><param name='filter' value='publish=yes' /></object></div>                <script type='text/javascript'>                    var divElement = document.getElementById('viz1500676650735');                    var vizElement = divElement.getElementsByTagName('object')[0];                    vizElement.style.width='100%';vizElement.style.height=(divElement.offsetWidth*0.75)+'px';                    var scriptElement = document.createElement('script');                    scriptElement.src = 'https://public.tableau.com/javascripts/api/viz_v1.js';                    vizElement.parentNode.insertBefore(scriptElement, vizElement);                </script>"
   ]
  },
  {
   "cell_type": "markdown",
   "metadata": {},
   "source": [
    "1) \"According to your scatterplot, it seems the main difference between novel and non-novel based movies are along the profit dimension, therefore, I think it makes sense for you to do univariate plot for profit between the two categories.\"- George Liu\n",
    "<br>\n",
    "2) \"Would you be able to expand the viz to the right as well? You should try different shapes, maybe a little bit smaller as well.\"- Lénaïc Riédinger\n",
    "\n",
    "**Design Choices**\n",
    "The plot by itself is very difficult to interpret. So, I decided to gradually build up the story.\n",
    "<br>\n",
    "First I will use a barplot to show the number of movies based on novel are relatively small fraction of movies not based on novel. Then I will do a comparision of movies based on novel and not based on novel using Profit Adj. and Ratings on two separate charts.  "
   ]
  },
  {
   "cell_type": "markdown",
   "metadata": {},
   "source": [
    "**[Q2: How do the attributes differ between Universal Pictures and Paramount Pictures?](https://public.tableau.com/views/HowdotheattributesdifferbetweenUniversalandParamountPicturesv0/UniversalvsParamountv0?:embed=y&:display_count=yes&publish=yes)**"
   ]
  },
  {
   "cell_type": "code",
   "execution_count": 1,
   "metadata": {},
   "outputs": [
    {
     "data": {
      "text/html": [
       "<div class='tableauPlaceholder' id='viz1500765352777' style='position: relative'><noscript><a href='#'><img alt='How do the attributes differ between Universal Pictures and Paramount Pictures? ' src='https:&#47;&#47;public.tableau.com&#47;static&#47;images&#47;Ho&#47;HowdotheattributesdifferbetweenUniversalandParamountPicturesv0&#47;UniversalvsParamountv0&#47;1_rss.png' style='border: none' /></a></noscript><object class='tableauViz'  style='display:none;'><param name='host_url' value='https%3A%2F%2Fpublic.tableau.com%2F' /> <param name='site_root' value='' /><param name='name' value='HowdotheattributesdifferbetweenUniversalandParamountPicturesv0&#47;UniversalvsParamountv0' /><param name='tabs' value='no' /><param name='toolbar' value='yes' /><param name='static_image' value='https:&#47;&#47;public.tableau.com&#47;static&#47;images&#47;Ho&#47;HowdotheattributesdifferbetweenUniversalandParamountPicturesv0&#47;UniversalvsParamountv0&#47;1.png' /> <param name='animate_transition' value='yes' /><param name='display_static_image' value='yes' /><param name='display_spinner' value='yes' /><param name='display_overlay' value='yes' /><param name='display_count' value='yes' /><param name='filter' value='publish=yes' /></object></div>                <script type='text/javascript'>                    var divElement = document.getElementById('viz1500765352777');                    var vizElement = divElement.getElementsByTagName('object')[0];                    vizElement.style.width='1004px';vizElement.style.height='869px';                    var scriptElement = document.createElement('script');                    scriptElement.src = 'https://public.tableau.com/javascripts/api/viz_v1.js';                    vizElement.parentNode.insertBefore(scriptElement, vizElement);                </script>"
      ],
      "text/plain": [
       "<IPython.core.display.HTML object>"
      ]
     },
     "metadata": {},
     "output_type": "display_data"
    }
   ],
   "source": [
    "%%HTML\n",
    "<div class='tableauPlaceholder' id='viz1500765352777' style='position: relative'><noscript><a href='#'><img alt='How do the attributes differ between Universal Pictures and Paramount Pictures? ' src='https:&#47;&#47;public.tableau.com&#47;static&#47;images&#47;Ho&#47;HowdotheattributesdifferbetweenUniversalandParamountPicturesv0&#47;UniversalvsParamountv0&#47;1_rss.png' style='border: none' /></a></noscript><object class='tableauViz'  style='display:none;'><param name='host_url' value='https%3A%2F%2Fpublic.tableau.com%2F' /> <param name='site_root' value='' /><param name='name' value='HowdotheattributesdifferbetweenUniversalandParamountPicturesv0&#47;UniversalvsParamountv0' /><param name='tabs' value='no' /><param name='toolbar' value='yes' /><param name='static_image' value='https:&#47;&#47;public.tableau.com&#47;static&#47;images&#47;Ho&#47;HowdotheattributesdifferbetweenUniversalandParamountPicturesv0&#47;UniversalvsParamountv0&#47;1.png' /> <param name='animate_transition' value='yes' /><param name='display_static_image' value='yes' /><param name='display_spinner' value='yes' /><param name='display_overlay' value='yes' /><param name='display_count' value='yes' /><param name='filter' value='publish=yes' /></object></div>                <script type='text/javascript'>                    var divElement = document.getElementById('viz1500765352777');                    var vizElement = divElement.getElementsByTagName('object')[0];                    vizElement.style.width='1004px';vizElement.style.height='869px';                    var scriptElement = document.createElement('script');                    scriptElement.src = 'https://public.tableau.com/javascripts/api/viz_v1.js';                    vizElement.parentNode.insertBefore(scriptElement, vizElement);                </script>"
   ]
  },
  {
   "cell_type": "markdown",
   "metadata": {},
   "source": [
    "**Comments from Matthew David**\n",
    "<br>\n",
    "It is hard to establish a better studio in the two scatter plots where you are showing all the moview but in the final graph it looks like Universal has had more greater profit years. This could also be visualized as side by side bar graph with some measure of overall profit differential. Also this graph should have Profit in the title. In the scatterplots it is difficult for me to make any conclusion about one differing from the other, if this is the intent then it works fine but if you wish to show more differences a bar chart with categories for the two studios, and then revenue on the y axis and year on the x axis it might be more clear which one has outperformed the other.\n",
    "\n",
    "**How do we apply measure names across worksheets?**\n",
    "The measure Names filter cannot be applied across worksheets.  For one it is not a data row level filter, it is a Field/Column filter.   You can still achieve what you need by way of a parameter.  Create a parameter pick list of all the measures you want to display, call it [Select Measure].  then create a case statement off that as below:\n",
    "\n",
    "[SelectED Measure] =\n",
    " \n",
    "case [Select Measure]\n",
    "<br>\n",
    "when 'Profit Adj'  then [Profit Adj]\n",
    "<br>\n",
    "when 'Budget Adj'  then [Budget Adj]\n",
    "<br>\n",
    "END\n",
    " \n",
    "Put above [SelectED Measure] calc on your column shelf replacing the measure names pill.  Use the parameter to change all the charts in your dashboard.\n",
    "\n",
    "**Answered by John Sobczak**"
   ]
  },
  {
   "cell_type": "markdown",
   "metadata": {},
   "source": [
    "**[Q3: Question 3: How have movie genres changed over time?](https://public.tableau.com/views/Howhavemoviegenreschangedovertimev0/Howhavemoviegenreschangedovertimev0?:embed=y&:display_count=yes&publish=yes)**"
   ]
  },
  {
   "cell_type": "code",
   "execution_count": 3,
   "metadata": {},
   "outputs": [
    {
     "data": {
      "text/html": [
       "<div class='tableauPlaceholder' id='viz1500820809094' style='position: relative'><noscript><a href='#'><img alt='How have movie genres changed over time? ' src='https:&#47;&#47;public.tableau.com&#47;static&#47;images&#47;Ho&#47;Howhavemoviegenreschangedovertimev0&#47;Howhavemoviegenreschangedovertimev0&#47;1_rss.png' style='border: none' /></a></noscript><object class='tableauViz'  style='display:none;'><param name='host_url' value='https%3A%2F%2Fpublic.tableau.com%2F' /> <param name='site_root' value='' /><param name='name' value='Howhavemoviegenreschangedovertimev0&#47;Howhavemoviegenreschangedovertimev0' /><param name='tabs' value='no' /><param name='toolbar' value='yes' /><param name='static_image' value='https:&#47;&#47;public.tableau.com&#47;static&#47;images&#47;Ho&#47;Howhavemoviegenreschangedovertimev0&#47;Howhavemoviegenreschangedovertimev0&#47;1.png' /> <param name='animate_transition' value='yes' /><param name='display_static_image' value='yes' /><param name='display_spinner' value='yes' /><param name='display_overlay' value='yes' /><param name='display_count' value='yes' /><param name='filter' value='publish=yes' /></object></div>                <script type='text/javascript'>                    var divElement = document.getElementById('viz1500820809094');                    var vizElement = divElement.getElementsByTagName('object')[0];                    vizElement.style.width='100%';vizElement.style.height=(divElement.offsetWidth*0.75)+'px';                    var scriptElement = document.createElement('script');                    scriptElement.src = 'https://public.tableau.com/javascripts/api/viz_v1.js';                    vizElement.parentNode.insertBefore(scriptElement, vizElement);                </script>"
      ],
      "text/plain": [
       "<IPython.core.display.HTML object>"
      ]
     },
     "metadata": {},
     "output_type": "display_data"
    }
   ],
   "source": [
    "%%HTML\n",
    "<div class='tableauPlaceholder' id='viz1500820809094' style='position: relative'><noscript><a href='#'><img alt='How have movie genres changed over time? ' src='https:&#47;&#47;public.tableau.com&#47;static&#47;images&#47;Ho&#47;Howhavemoviegenreschangedovertimev0&#47;Howhavemoviegenreschangedovertimev0&#47;1_rss.png' style='border: none' /></a></noscript><object class='tableauViz'  style='display:none;'><param name='host_url' value='https%3A%2F%2Fpublic.tableau.com%2F' /> <param name='site_root' value='' /><param name='name' value='Howhavemoviegenreschangedovertimev0&#47;Howhavemoviegenreschangedovertimev0' /><param name='tabs' value='no' /><param name='toolbar' value='yes' /><param name='static_image' value='https:&#47;&#47;public.tableau.com&#47;static&#47;images&#47;Ho&#47;Howhavemoviegenreschangedovertimev0&#47;Howhavemoviegenreschangedovertimev0&#47;1.png' /> <param name='animate_transition' value='yes' /><param name='display_static_image' value='yes' /><param name='display_spinner' value='yes' /><param name='display_overlay' value='yes' /><param name='display_count' value='yes' /><param name='filter' value='publish=yes' /></object></div>                <script type='text/javascript'>                    var divElement = document.getElementById('viz1500820809094');                    var vizElement = divElement.getElementsByTagName('object')[0];                    vizElement.style.width='100%';vizElement.style.height=(divElement.offsetWidth*0.75)+'px';                    var scriptElement = document.createElement('script');                    scriptElement.src = 'https://public.tableau.com/javascripts/api/viz_v1.js';                    vizElement.parentNode.insertBefore(scriptElement, vizElement);                </script>"
   ]
  },
  {
   "cell_type": "markdown",
   "metadata": {},
   "source": [
    "I really like this visualization, showing the number and total profit is an interesting way to explore if profitability impacts the quantity of films produced in that genre. It might be interesting to also show what percentage or number of films made >50% of the profit. The reason I say this is because of the documentary genre where the profit is very spikey, My guess is that there was one break out hit but it looks like due to that the number of documentaries has been growing significantly so that might be an interesting data point to have to give it more context."
   ]
  },
  {
   "cell_type": "markdown",
   "metadata": {},
   "source": [
    "**[Q4: Dashboard to visualize movie based on ratings, budjet, revenue, profit](https://public.tableau.com/views/OMDBMoviesDashboardv0/OMDBMoviesDashboardv0?:embed=y&:display_count=yes&publish=yes)**"
   ]
  },
  {
   "cell_type": "code",
   "execution_count": 3,
   "metadata": {},
   "outputs": [
    {
     "data": {
      "text/html": [
       "<div class='tableauPlaceholder' id='viz1500678250424' style='position: relative'><noscript><a href='#'><img alt='OMDB Movies Dashboard v0 ' src='https:&#47;&#47;public.tableau.com&#47;static&#47;images&#47;OM&#47;OMDBMoviesDashboardv0&#47;OMDBMoviesDashboardv0&#47;1_rss.png' style='border: none' /></a></noscript><object class='tableauViz'  style='display:none;'><param name='host_url' value='https%3A%2F%2Fpublic.tableau.com%2F' /> <param name='site_root' value='' /><param name='name' value='OMDBMoviesDashboardv0&#47;OMDBMoviesDashboardv0' /><param name='tabs' value='no' /><param name='toolbar' value='yes' /><param name='static_image' value='https:&#47;&#47;public.tableau.com&#47;static&#47;images&#47;OM&#47;OMDBMoviesDashboardv0&#47;OMDBMoviesDashboardv0&#47;1.png' /> <param name='animate_transition' value='yes' /><param name='display_static_image' value='yes' /><param name='display_spinner' value='yes' /><param name='display_overlay' value='yes' /><param name='display_count' value='yes' /><param name='filter' value='publish=yes' /></object></div>                <script type='text/javascript'>                    var divElement = document.getElementById('viz1500678250424');                    var vizElement = divElement.getElementsByTagName('object')[0];                    vizElement.style.width='100%';vizElement.style.height=(divElement.offsetWidth*0.75)+'px';                    var scriptElement = document.createElement('script');                    scriptElement.src = 'https://public.tableau.com/javascripts/api/viz_v1.js';                    vizElement.parentNode.insertBefore(scriptElement, vizElement);                </script>"
      ],
      "text/plain": [
       "<IPython.core.display.HTML object>"
      ]
     },
     "metadata": {},
     "output_type": "display_data"
    }
   ],
   "source": [
    "%%HTML\n",
    "<div class='tableauPlaceholder' id='viz1500678250424' style='position: relative'><noscript><a href='#'><img alt='OMDB Movies Dashboard v0 ' src='https:&#47;&#47;public.tableau.com&#47;static&#47;images&#47;OM&#47;OMDBMoviesDashboardv0&#47;OMDBMoviesDashboardv0&#47;1_rss.png' style='border: none' /></a></noscript><object class='tableauViz'  style='display:none;'><param name='host_url' value='https%3A%2F%2Fpublic.tableau.com%2F' /> <param name='site_root' value='' /><param name='name' value='OMDBMoviesDashboardv0&#47;OMDBMoviesDashboardv0' /><param name='tabs' value='no' /><param name='toolbar' value='yes' /><param name='static_image' value='https:&#47;&#47;public.tableau.com&#47;static&#47;images&#47;OM&#47;OMDBMoviesDashboardv0&#47;OMDBMoviesDashboardv0&#47;1.png' /> <param name='animate_transition' value='yes' /><param name='display_static_image' value='yes' /><param name='display_spinner' value='yes' /><param name='display_overlay' value='yes' /><param name='display_count' value='yes' /><param name='filter' value='publish=yes' /></object></div>                <script type='text/javascript'>                    var divElement = document.getElementById('viz1500678250424');                    var vizElement = divElement.getElementsByTagName('object')[0];                    vizElement.style.width='100%';vizElement.style.height=(divElement.offsetWidth*0.75)+'px';                    var scriptElement = document.createElement('script');                    scriptElement.src = 'https://public.tableau.com/javascripts/api/viz_v1.js';                    vizElement.parentNode.insertBefore(scriptElement, vizElement);                </script>"
   ]
  },
  {
   "cell_type": "markdown",
   "metadata": {},
   "source": [
    "**Comments from Matthew David**\n",
    "<br>\n",
    "I like the customization options in this visualization. It is interesting how the top movie of the year makes it really hard to see the data for most of the movies in this graph.\n",
    "<br>\n",
    "It makes more sense to order the bar graph columns as Budget, Revenue, Profit so I can get an idea about the money flow for the movie. Also since each bar graph has different ranges I can't really assess the size of each bar to each other. I can only evaluate them against other values in the column, this may be intentional if that is the main vector of comparison you want ppl to compare against but you might want to consider making them all the same range if you want people to more holistically compare movies."
   ]
  },
  {
   "cell_type": "markdown",
   "metadata": {},
   "source": [
    "## Resources\n",
    "1) [Data Visualization in Tableau](https://www.udacity.com/course/data-visualization-in-tableau--ud1006)\n",
    "<br>\n",
    "2) [Tableau training videos](https://www.tableau.com/learn/training)\n",
    "<br>\n",
    "3) [Sparklines](http://www.vizwiz.com/2015/07/sparklines.html)\n",
    "<br>\n",
    "4) [Slopegraphs](http://www.vizwiz.com/2016/07/tableau-tip-tuesday-how-to-add-vertical.html)\n",
    "<br>\n",
    "5) [Quadrant chart](http://www.vizwiz.com/2017/07/quadrant-chart.html)\n",
    "<br>\n",
    "6) [KPIs and Sparklines](http://www.vizwiz.com/2014/11/kpi-and-sparkline.html)"
   ]
  }
 ],
 "metadata": {
  "kernelspec": {
   "display_name": "Python 3",
   "language": "python",
   "name": "python3"
  },
  "language_info": {
   "codemirror_mode": {
    "name": "ipython",
    "version": 3
   },
   "file_extension": ".py",
   "mimetype": "text/x-python",
   "name": "python",
   "nbconvert_exporter": "python",
   "pygments_lexer": "ipython3",
   "version": "3.6.1"
  }
 },
 "nbformat": 4,
 "nbformat_minor": 2
}
