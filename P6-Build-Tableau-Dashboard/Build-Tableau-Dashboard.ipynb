{
 "cells": [
  {
   "cell_type": "markdown",
   "metadata": {},
   "source": [
    "## References\n",
    "1) [Data Visualization in Tableau](https://www.udacity.com/course/data-visualization-in-tableau--ud1006)\n",
    "<br>\n",
    "2) [Tableau training videos](https://www.tableau.com/learn/training)\n",
    "<br>\n",
    "3) [Sparklines](http://www.vizwiz.com/2015/07/sparklines.html)\n",
    "<br>\n",
    "4) [Slopegraphs](http://www.vizwiz.com/2016/07/tableau-tip-tuesday-how-to-add-vertical.html)\n",
    "<br>\n",
    "5) [Quadrant chart](http://www.vizwiz.com/2017/07/quadrant-chart.html)\n",
    "<br>\n",
    "6) [KPIs and Sparklines](http://www.vizwiz.com/2014/11/kpi-and-sparkline.html)"
   ]
  },
  {
   "cell_type": "code",
   "execution_count": null,
   "metadata": {
    "collapsed": true
   },
   "outputs": [],
   "source": []
  }
 ],
 "metadata": {
  "kernelspec": {
   "display_name": "Python 3",
   "language": "python",
   "name": "python3"
  },
  "language_info": {
   "codemirror_mode": {
    "name": "ipython",
    "version": 3
   },
   "file_extension": ".py",
   "mimetype": "text/x-python",
   "name": "python",
   "nbconvert_exporter": "python",
   "pygments_lexer": "ipython3",
   "version": "3.6.1"
  }
 },
 "nbformat": 4,
 "nbformat_minor": 2
}
