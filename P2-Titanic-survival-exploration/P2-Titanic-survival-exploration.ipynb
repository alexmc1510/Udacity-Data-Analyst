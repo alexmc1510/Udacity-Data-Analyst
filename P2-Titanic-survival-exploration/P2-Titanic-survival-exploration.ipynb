{
 "cells": [
  {
   "cell_type": "markdown",
   "metadata": {},
   "source": [
    "In 1912, the largest ship afloat at the time- RMS titanic sank after colliding with an iceberg. Of the 2224 passengers and crew abroad 1502 died. Some individuals were more likely to survive than others.\n",
    "\n",
    "In this project, we will explore the training dataset (train) from [kaggle](https://www.kaggle.com/c/titanic/data). I will do exploratory analysis on the features which might logically affect the outcome of survival. To make the analysis vivid, I will use interactive plotting library - [plotly](https://plot.ly/python/). Finally, I will build a classification algorithm to predict survival.\n",
    "\n",
    "In the dataframe, each row represents a passenger on the Titanic, and each column represents some information about them. Let's take a look at what the columns represents:\n",
    "\n",
    "- **Survived**: Outcome of survival (0 = No; 1 = Yes)\n",
    "- **Pclass**: Socio-economic class (1 = Upper class; 2 = Middle class; 3 = Lower class)\n",
    "- **Name**: Name of passenger\n",
    "- **Sex**: Sex of the passenger\n",
    "- **Age**: Age of the passenger (Some entries contain `NaN`)\n",
    "- **SibSp**: Number of siblings and spouses of the passenger aboard\n",
    "- **Parch**: Number of parents and children of the passenger aboard\n",
    "- **Ticket**: Ticket number of the passenger\n",
    "- **Fare**: Fare paid by the passenger\n",
    "- **Cabin** Cabin number of the passenger (Some entries contain `NaN`)\n",
    "- **Embarked**: Port of embarkation of the passenger (C = Cherbourg; Q = Queenstown; S = Southampton)"
   ]
  },
  {
   "cell_type": "markdown",
   "metadata": {},
   "source": [
    "## Getting started"
   ]
  },
  {
   "cell_type": "code",
   "execution_count": 1,
   "metadata": {
    "collapsed": true
   },
   "outputs": [],
   "source": [
    "# Import pandas and numpy\n",
    "import pandas as pd\n",
    "import numpy as np"
   ]
  },
  {
   "cell_type": "code",
   "execution_count": 2,
   "metadata": {
    "collapsed": false
   },
   "outputs": [],
   "source": [
    "# Import plotly\n",
    "import plotly.plotly as py\n",
    "import plotly.graph_objs as go\n",
    "from plotly.tools import FigureFactory as FF"
   ]
  },
  {
   "cell_type": "code",
   "execution_count": 3,
   "metadata": {
    "collapsed": true
   },
   "outputs": [],
   "source": [
    "# Load the titanic train dataset to create dataFrame\n",
    "train_data = \"train.csv\"\n",
    "train = pd.read_csv(train_data)"
   ]
  },
  {
   "cell_type": "code",
   "execution_count": 4,
   "metadata": {
    "collapsed": false
   },
   "outputs": [
    {
     "data": {
      "text/html": [
       "<div>\n",
       "<table border=\"1\" class=\"dataframe\">\n",
       "  <thead>\n",
       "    <tr style=\"text-align: right;\">\n",
       "      <th></th>\n",
       "      <th>PassengerId</th>\n",
       "      <th>Survived</th>\n",
       "      <th>Pclass</th>\n",
       "      <th>Name</th>\n",
       "      <th>Sex</th>\n",
       "      <th>Age</th>\n",
       "      <th>SibSp</th>\n",
       "      <th>Parch</th>\n",
       "      <th>Ticket</th>\n",
       "      <th>Fare</th>\n",
       "      <th>Cabin</th>\n",
       "      <th>Embarked</th>\n",
       "    </tr>\n",
       "  </thead>\n",
       "  <tbody>\n",
       "    <tr>\n",
       "      <th>0</th>\n",
       "      <td>1</td>\n",
       "      <td>0</td>\n",
       "      <td>3</td>\n",
       "      <td>Braund, Mr. Owen Harris</td>\n",
       "      <td>male</td>\n",
       "      <td>22.0</td>\n",
       "      <td>1</td>\n",
       "      <td>0</td>\n",
       "      <td>A/5 21171</td>\n",
       "      <td>7.2500</td>\n",
       "      <td>NaN</td>\n",
       "      <td>S</td>\n",
       "    </tr>\n",
       "    <tr>\n",
       "      <th>1</th>\n",
       "      <td>2</td>\n",
       "      <td>1</td>\n",
       "      <td>1</td>\n",
       "      <td>Cumings, Mrs. John Bradley (Florence Briggs Th...</td>\n",
       "      <td>female</td>\n",
       "      <td>38.0</td>\n",
       "      <td>1</td>\n",
       "      <td>0</td>\n",
       "      <td>PC 17599</td>\n",
       "      <td>71.2833</td>\n",
       "      <td>C85</td>\n",
       "      <td>C</td>\n",
       "    </tr>\n",
       "    <tr>\n",
       "      <th>2</th>\n",
       "      <td>3</td>\n",
       "      <td>1</td>\n",
       "      <td>3</td>\n",
       "      <td>Heikkinen, Miss. Laina</td>\n",
       "      <td>female</td>\n",
       "      <td>26.0</td>\n",
       "      <td>0</td>\n",
       "      <td>0</td>\n",
       "      <td>STON/O2. 3101282</td>\n",
       "      <td>7.9250</td>\n",
       "      <td>NaN</td>\n",
       "      <td>S</td>\n",
       "    </tr>\n",
       "    <tr>\n",
       "      <th>3</th>\n",
       "      <td>4</td>\n",
       "      <td>1</td>\n",
       "      <td>1</td>\n",
       "      <td>Futrelle, Mrs. Jacques Heath (Lily May Peel)</td>\n",
       "      <td>female</td>\n",
       "      <td>35.0</td>\n",
       "      <td>1</td>\n",
       "      <td>0</td>\n",
       "      <td>113803</td>\n",
       "      <td>53.1000</td>\n",
       "      <td>C123</td>\n",
       "      <td>S</td>\n",
       "    </tr>\n",
       "    <tr>\n",
       "      <th>4</th>\n",
       "      <td>5</td>\n",
       "      <td>0</td>\n",
       "      <td>3</td>\n",
       "      <td>Allen, Mr. William Henry</td>\n",
       "      <td>male</td>\n",
       "      <td>35.0</td>\n",
       "      <td>0</td>\n",
       "      <td>0</td>\n",
       "      <td>373450</td>\n",
       "      <td>8.0500</td>\n",
       "      <td>NaN</td>\n",
       "      <td>S</td>\n",
       "    </tr>\n",
       "  </tbody>\n",
       "</table>\n",
       "</div>"
      ],
      "text/plain": [
       "   PassengerId  Survived  Pclass  \\\n",
       "0            1         0       3   \n",
       "1            2         1       1   \n",
       "2            3         1       3   \n",
       "3            4         1       1   \n",
       "4            5         0       3   \n",
       "\n",
       "                                                Name     Sex   Age  SibSp  \\\n",
       "0                            Braund, Mr. Owen Harris    male  22.0      1   \n",
       "1  Cumings, Mrs. John Bradley (Florence Briggs Th...  female  38.0      1   \n",
       "2                             Heikkinen, Miss. Laina  female  26.0      0   \n",
       "3       Futrelle, Mrs. Jacques Heath (Lily May Peel)  female  35.0      1   \n",
       "4                           Allen, Mr. William Henry    male  35.0      0   \n",
       "\n",
       "   Parch            Ticket     Fare Cabin Embarked  \n",
       "0      0         A/5 21171   7.2500   NaN        S  \n",
       "1      0          PC 17599  71.2833   C85        C  \n",
       "2      0  STON/O2. 3101282   7.9250   NaN        S  \n",
       "3      0            113803  53.1000  C123        S  \n",
       "4      0            373450   8.0500   NaN        S  "
      ]
     },
     "execution_count": 4,
     "metadata": {},
     "output_type": "execute_result"
    }
   ],
   "source": [
    "#Print the `head` of the dataframe\n",
    "train.head()"
   ]
  },
  {
   "cell_type": "markdown",
   "metadata": {},
   "source": [
    "## Understanding the data"
   ]
  },
  {
   "cell_type": "markdown",
   "metadata": {},
   "source": [
    "Before we move on with the actual analysis, we will use pandas .shape and .describe() method to understand our data better. We will also examine how well individual features- like Sex, Age, Pclass, Fare, Port of embarkation predict survival."
   ]
  },
  {
   "cell_type": "code",
   "execution_count": 5,
   "metadata": {
    "collapsed": false
   },
   "outputs": [
    {
     "name": "stdout",
     "output_type": "stream",
     "text": [
      "(891, 12)\n"
     ]
    }
   ],
   "source": [
    "print train.shape"
   ]
  },
  {
   "cell_type": "code",
   "execution_count": 6,
   "metadata": {
    "collapsed": false
   },
   "outputs": [
    {
     "data": {
      "text/html": [
       "<div>\n",
       "<table border=\"1\" class=\"dataframe\">\n",
       "  <thead>\n",
       "    <tr style=\"text-align: right;\">\n",
       "      <th></th>\n",
       "      <th>PassengerId</th>\n",
       "      <th>Survived</th>\n",
       "      <th>Pclass</th>\n",
       "      <th>Age</th>\n",
       "      <th>SibSp</th>\n",
       "      <th>Parch</th>\n",
       "      <th>Fare</th>\n",
       "    </tr>\n",
       "  </thead>\n",
       "  <tbody>\n",
       "    <tr>\n",
       "      <th>count</th>\n",
       "      <td>891.000000</td>\n",
       "      <td>891.000000</td>\n",
       "      <td>891.000000</td>\n",
       "      <td>714.000000</td>\n",
       "      <td>891.000000</td>\n",
       "      <td>891.000000</td>\n",
       "      <td>891.000000</td>\n",
       "    </tr>\n",
       "    <tr>\n",
       "      <th>mean</th>\n",
       "      <td>446.000000</td>\n",
       "      <td>0.383838</td>\n",
       "      <td>2.308642</td>\n",
       "      <td>29.699118</td>\n",
       "      <td>0.523008</td>\n",
       "      <td>0.381594</td>\n",
       "      <td>32.204208</td>\n",
       "    </tr>\n",
       "    <tr>\n",
       "      <th>std</th>\n",
       "      <td>257.353842</td>\n",
       "      <td>0.486592</td>\n",
       "      <td>0.836071</td>\n",
       "      <td>14.526497</td>\n",
       "      <td>1.102743</td>\n",
       "      <td>0.806057</td>\n",
       "      <td>49.693429</td>\n",
       "    </tr>\n",
       "    <tr>\n",
       "      <th>min</th>\n",
       "      <td>1.000000</td>\n",
       "      <td>0.000000</td>\n",
       "      <td>1.000000</td>\n",
       "      <td>0.420000</td>\n",
       "      <td>0.000000</td>\n",
       "      <td>0.000000</td>\n",
       "      <td>0.000000</td>\n",
       "    </tr>\n",
       "    <tr>\n",
       "      <th>25%</th>\n",
       "      <td>223.500000</td>\n",
       "      <td>0.000000</td>\n",
       "      <td>2.000000</td>\n",
       "      <td>20.125000</td>\n",
       "      <td>0.000000</td>\n",
       "      <td>0.000000</td>\n",
       "      <td>7.910400</td>\n",
       "    </tr>\n",
       "    <tr>\n",
       "      <th>50%</th>\n",
       "      <td>446.000000</td>\n",
       "      <td>0.000000</td>\n",
       "      <td>3.000000</td>\n",
       "      <td>28.000000</td>\n",
       "      <td>0.000000</td>\n",
       "      <td>0.000000</td>\n",
       "      <td>14.454200</td>\n",
       "    </tr>\n",
       "    <tr>\n",
       "      <th>75%</th>\n",
       "      <td>668.500000</td>\n",
       "      <td>1.000000</td>\n",
       "      <td>3.000000</td>\n",
       "      <td>38.000000</td>\n",
       "      <td>1.000000</td>\n",
       "      <td>0.000000</td>\n",
       "      <td>31.000000</td>\n",
       "    </tr>\n",
       "    <tr>\n",
       "      <th>max</th>\n",
       "      <td>891.000000</td>\n",
       "      <td>1.000000</td>\n",
       "      <td>3.000000</td>\n",
       "      <td>80.000000</td>\n",
       "      <td>8.000000</td>\n",
       "      <td>6.000000</td>\n",
       "      <td>512.329200</td>\n",
       "    </tr>\n",
       "  </tbody>\n",
       "</table>\n",
       "</div>"
      ],
      "text/plain": [
       "       PassengerId    Survived      Pclass         Age       SibSp  \\\n",
       "count   891.000000  891.000000  891.000000  714.000000  891.000000   \n",
       "mean    446.000000    0.383838    2.308642   29.699118    0.523008   \n",
       "std     257.353842    0.486592    0.836071   14.526497    1.102743   \n",
       "min       1.000000    0.000000    1.000000    0.420000    0.000000   \n",
       "25%     223.500000    0.000000    2.000000   20.125000    0.000000   \n",
       "50%     446.000000    0.000000    3.000000   28.000000    0.000000   \n",
       "75%     668.500000    1.000000    3.000000   38.000000    1.000000   \n",
       "max     891.000000    1.000000    3.000000   80.000000    8.000000   \n",
       "\n",
       "            Parch        Fare  \n",
       "count  891.000000  891.000000  \n",
       "mean     0.381594   32.204208  \n",
       "std      0.806057   49.693429  \n",
       "min      0.000000    0.000000  \n",
       "25%      0.000000    7.910400  \n",
       "50%      0.000000   14.454200  \n",
       "75%      0.000000   31.000000  \n",
       "max      6.000000  512.329200  "
      ]
     },
     "execution_count": 6,
     "metadata": {},
     "output_type": "execute_result"
    }
   ],
   "source": [
    "train.describe()"
   ]
  },
  {
   "cell_type": "code",
   "execution_count": 7,
   "metadata": {
    "collapsed": false
   },
   "outputs": [
    {
     "data": {
      "text/html": [
       "<iframe id=\"igraph\" scrolling=\"no\" style=\"border:none;\" seamless=\"seamless\" src=\"https://plot.ly/~hadaarjan/178.embed\" height=\"400px\" width=\"400px\"></iframe>"
      ],
      "text/plain": [
       "<plotly.tools.PlotlyDisplay object>"
      ]
     },
     "execution_count": 7,
     "metadata": {},
     "output_type": "execute_result"
    }
   ],
   "source": [
    "# Passengers that survived vs passengers that passed away\n",
    "data0 = [\n",
    "    go.Histogram(x=train['Survived'],\n",
    "                histnorm = 'probability'\n",
    "                )\n",
    "]\n",
    "layout = go.Layout(autosize = False, width = 400, height = 400, bargap = 0.5,\n",
    "                  yaxis = dict(title = 'Normalized Counts'),\n",
    "                  title = 'Distribution of Survival, (1 = Survived)')\n",
    "fig = go.Figure(data=data0, layout = layout)\n",
    "py.iplot(fig)"
   ]
  },
  {
   "cell_type": "markdown",
   "metadata": {},
   "source": [
    "The majority of passengers (61.6%) didn't survive the ship sinking."
   ]
  },
  {
   "cell_type": "markdown",
   "metadata": {},
   "source": [
    "### Female vs Male"
   ]
  },
  {
   "cell_type": "code",
   "execution_count": 8,
   "metadata": {
    "collapsed": false
   },
   "outputs": [
    {
     "data": {
      "text/html": [
       "<iframe id=\"igraph\" scrolling=\"no\" style=\"border:none;\" seamless=\"seamless\" src=\"https://plot.ly/~hadaarjan/180.embed\" height=\"300px\" width=\"300px\"></iframe>"
      ],
      "text/plain": [
       "<plotly.tools.PlotlyDisplay object>"
      ]
     },
     "execution_count": 8,
     "metadata": {},
     "output_type": "execute_result"
    }
   ],
   "source": [
    "# Normalized male survival\n",
    "male_survival = train[\"Survived\"][train[\"Sex\"] == 'male'].value_counts(normalize = True)\n",
    "# Normalized female survival\n",
    "female_survival = train[\"Survived\"][train[\"Sex\"] == 'female'].value_counts(normalize = True)\n",
    "\n",
    "# Survival by Sex\n",
    "data1 = [go.Bar(\n",
    "            x=['male', 'female'],\n",
    "            y=[male_survival[1], female_survival[1]]\n",
    "    )]\n",
    "\n",
    "layout = go.Layout(autosize = False, width = 300, height = 300,\n",
    "                  yaxis = dict(title = 'Survival Rates'),\n",
    "                  title = 'Survival by Sex')\n",
    "fig = go.Figure(data = data1, layout = layout)\n",
    "py.iplot(fig)"
   ]
  },
  {
   "cell_type": "markdown",
   "metadata": {},
   "source": [
    "Examining the survival statistics, 74.2% of all females from the dataset survived the ship sinking, whereas only 18.9% of males survived the ship sinking."
   ]
  },
  {
   "cell_type": "markdown",
   "metadata": {},
   "source": [
    "### Does age play a role?"
   ]
  },
  {
   "cell_type": "markdown",
   "metadata": {},
   "source": [
    "It's logical to think that children were saved first. Age could be another variable to predict survival."
   ]
  },
  {
   "cell_type": "code",
   "execution_count": 9,
   "metadata": {
    "collapsed": false
   },
   "outputs": [
    {
     "data": {
      "text/html": [
       "<iframe id=\"igraph\" scrolling=\"no\" style=\"border:none;\" seamless=\"seamless\" src=\"https://plot.ly/~hadaarjan/182.embed\" height=\"525px\" width=\"100%\"></iframe>"
      ],
      "text/plain": [
       "<plotly.tools.PlotlyDisplay object>"
      ]
     },
     "execution_count": 9,
     "metadata": {},
     "output_type": "execute_result"
    }
   ],
   "source": [
    "#Age distribution of those who passed away\n",
    "ages_deceased = train[\"Age\"][train[\"Survived\"] == 0]\n",
    "\n",
    "#Age distribution of survivors\n",
    "ages_survived = train[\"Age\"][train[\"Survived\"] == 1]\n",
    "\n",
    "#Boxplot to show age distribution of deceased vs survived\n",
    "trace_deceased = go.Box(x = ages_deceased, name = \"deceased\")\n",
    "trace_survived = go.Box(x = ages_survived, name = \"survived\")\n",
    "survival_by_age = [trace_deceased, trace_survived]\n",
    "layout = go.Layout(xaxis = dict(title = 'Age'),title = \"Survival by Age\")\n",
    "fig = go.Figure(data=survival_by_age, layout=layout)\n",
    "py.iplot(fig)"
   ]
  },
  {
   "cell_type": "markdown",
   "metadata": {},
   "source": [
    "The age distribution for those who survived is shifted more towards the left. Age does certainly seem to play a role. We will further test this assumption by creating a \"child\" column."
   ]
  },
  {
   "cell_type": "markdown",
   "metadata": {},
   "source": [
    "### Does Pclass play a role?"
   ]
  },
  {
   "cell_type": "markdown",
   "metadata": {},
   "source": [
    "It's also logical to think that passenger class might affect the outcome, as first class cabins were closer to the deck of the ship."
   ]
  },
  {
   "cell_type": "code",
   "execution_count": 10,
   "metadata": {
    "collapsed": false
   },
   "outputs": [
    {
     "data": {
      "text/html": [
       "<iframe id=\"igraph\" scrolling=\"no\" style=\"border:none;\" seamless=\"seamless\" src=\"https://plot.ly/~hadaarjan/184.embed\" height=\"400px\" width=\"400px\"></iframe>"
      ],
      "text/plain": [
       "<plotly.tools.PlotlyDisplay object>"
      ]
     },
     "execution_count": 10,
     "metadata": {},
     "output_type": "execute_result"
    }
   ],
   "source": [
    "# Normalized Pclass survival\n",
    "Pclass1 = train[\"Survived\"][train[\"Pclass\"] == 1].value_counts(normalize = True)\n",
    "Pclass2 = train[\"Survived\"][train[\"Pclass\"] == 2].value_counts(normalize = True)\n",
    "Pclass3 = train[\"Survived\"][train[\"Pclass\"] == 3].value_counts(normalize = True)\n",
    "\n",
    "# Survival by Pclass\n",
    "data3 = [go.Bar(\n",
    "            x=['Pclass 1', 'Pclass 2', 'Pclass 3'],\n",
    "            y=[Pclass1[1], Pclass2[1], Pclass3[1]]\n",
    "    )]\n",
    "\n",
    "layout = go.Layout(autosize = False, width = 400, height = 400,\n",
    "                  yaxis = dict(title = 'Survival Rates'),\n",
    "                  title = 'Survival by Pclass')\n",
    "fig = go.Figure(data = data3, layout = layout)\n",
    "py.iplot(fig)"
   ]
  },
  {
   "cell_type": "markdown",
   "metadata": {},
   "source": [
    "Pclass does certainly seem to play with survival rates for Pclass1 > Pclass2 > Pclass3. 63%, 47.3% and 24.2% of Pclass1, Pclass2 and Pclass3 survived respectively."
   ]
  },
  {
   "cell_type": "markdown",
   "metadata": {},
   "source": [
    "### Does Fare play a role?"
   ]
  },
  {
   "cell_type": "markdown",
   "metadata": {},
   "source": [
    "Fare is highly correlated with Pclass. It could be another variable to influence survival."
   ]
  },
  {
   "cell_type": "code",
   "execution_count": 11,
   "metadata": {
    "collapsed": false
   },
   "outputs": [
    {
     "data": {
      "text/html": [
       "<iframe id=\"igraph\" scrolling=\"no\" style=\"border:none;\" seamless=\"seamless\" src=\"https://plot.ly/~hadaarjan/186.embed\" height=\"525px\" width=\"100%\"></iframe>"
      ],
      "text/plain": [
       "<plotly.tools.PlotlyDisplay object>"
      ]
     },
     "execution_count": 11,
     "metadata": {},
     "output_type": "execute_result"
    }
   ],
   "source": [
    "#Fare paid by those who passed away\n",
    "fares_deceased = train[\"Fare\"][train[\"Survived\"] == 0]\n",
    "\n",
    "#Fare paid by survivors\n",
    "fares_survived = train[\"Fare\"][train[\"Survived\"] == 1]\n",
    "\n",
    "#Survival by fare\n",
    "trace2 = go.Box(x = fares_deceased, name = \"deceased\")\n",
    "trace3 = go.Box(x = fares_survived, name = \"survived\")\n",
    "data4 = [trace2, trace3]\n",
    "layout = go.Layout(xaxis = dict(title = 'Fare'),title = \"Survival by Fare\")\n",
    "fig = go.Figure(data=data4, layout=layout)\n",
    "py.iplot(fig)"
   ]
  },
  {
   "cell_type": "markdown",
   "metadata": {},
   "source": [
    "The fare distribution for those who survived is shifted more towards the right. Those who payed more had higher chances of survival. "
   ]
  },
  {
   "cell_type": "markdown",
   "metadata": {},
   "source": [
    "### Does Port of embarkation play a role?"
   ]
  },
  {
   "cell_type": "code",
   "execution_count": 12,
   "metadata": {
    "collapsed": false
   },
   "outputs": [
    {
     "data": {
      "text/html": [
       "<iframe id=\"igraph\" scrolling=\"no\" style=\"border:none;\" seamless=\"seamless\" src=\"https://plot.ly/~hadaarjan/188.embed\" height=\"400px\" width=\"400px\"></iframe>"
      ],
      "text/plain": [
       "<plotly.tools.PlotlyDisplay object>"
      ]
     },
     "execution_count": 12,
     "metadata": {},
     "output_type": "execute_result"
    }
   ],
   "source": [
    "# Normalized Pclass survival\n",
    "S = train[\"Survived\"][train[\"Embarked\"] == \"S\"].value_counts(normalize = True)\n",
    "C = train[\"Survived\"][train[\"Embarked\"] == \"C\"].value_counts(normalize = True)\n",
    "Q = train[\"Survived\"][train[\"Embarked\"] == \"Q\"].value_counts(normalize = True)\n",
    "\n",
    "# Plot survival by Embarked\n",
    "data5 = [go.Bar(\n",
    "            x=['S', 'C', 'Q'],\n",
    "            y=[S[1], C[1], Q[1]]\n",
    "    )]\n",
    "\n",
    "layout = go.Layout(autosize = False, width = 400, height = 400,\n",
    "                  yaxis = dict(title = 'Survival Rates'),\n",
    "                  title = 'Survival by Embarked')\n",
    "fig = go.Figure(data = data5, layout = layout)\n",
    "py.iplot(fig)"
   ]
  },
  {
   "cell_type": "markdown",
   "metadata": {},
   "source": [
    "## Multiple variable (2d) explorations"
   ]
  },
  {
   "cell_type": "markdown",
   "metadata": {},
   "source": [
    "We will now explore multiple combination of variables to see how well they predict survival."
   ]
  },
  {
   "cell_type": "markdown",
   "metadata": {},
   "source": [
    "### Class and Gender Survival Rates"
   ]
  },
  {
   "cell_type": "code",
   "execution_count": 13,
   "metadata": {
    "collapsed": false
   },
   "outputs": [
    {
     "data": {
      "text/html": [
       "<iframe id=\"igraph\" scrolling=\"no\" style=\"border:none;\" seamless=\"seamless\" src=\"https://plot.ly/~hadaarjan/190.embed\" height=\"400px\" width=\"500px\"></iframe>"
      ],
      "text/plain": [
       "<plotly.tools.PlotlyDisplay object>"
      ]
     },
     "execution_count": 13,
     "metadata": {},
     "output_type": "execute_result"
    }
   ],
   "source": [
    "# Normalized Pclass survival by gender\n",
    "Pclass1_male = train[\"Survived\"][(train[\"Pclass\"] == 1) & (train[\"Sex\"] == \"male\")].value_counts(normalize = True)\n",
    "Pclass2_male = train[\"Survived\"][(train[\"Pclass\"] == 2) & (train[\"Sex\"] == \"male\")].value_counts(normalize = True)\n",
    "Pclass3_male = train[\"Survived\"][(train[\"Pclass\"] == 3) & (train[\"Sex\"] == \"male\")].value_counts(normalize = True)\n",
    "\n",
    "Pclass1_female = train[\"Survived\"][(train[\"Pclass\"] == 1) & (train[\"Sex\"] == \"female\")].value_counts(normalize = True)\n",
    "Pclass2_female = train[\"Survived\"][(train[\"Pclass\"] == 2) & (train[\"Sex\"] == \"female\")].value_counts(normalize = True)\n",
    "Pclass3_female = train[\"Survived\"][(train[\"Pclass\"] == 3) & (train[\"Sex\"] == \"female\")].value_counts(normalize = True)\n",
    "\n",
    "# Survival by Class and Gender\n",
    "trace4 = go.Bar(\n",
    "    x=['Pclass 1', 'Pclass 2', 'Pclass 3'],\n",
    "    y=[Pclass1_male[1], Pclass2_male[1], Pclass3_male[1]],\n",
    "    name='male'\n",
    ")\n",
    "trace5 = go.Bar(\n",
    "    x=['Pclass 1', 'Pclass 2', 'Pclass 3'],\n",
    "    y=[Pclass1_female[1], Pclass2_female[1], Pclass3_female[1]],\n",
    "    name='female'\n",
    ")\n",
    "\n",
    "data6 = [trace4, trace5]\n",
    "layout = go.Layout(autosize = False, width = 500, height = 400,\n",
    "    barmode='group',yaxis = dict(title = 'Survival Rates'),title = 'Survival by Class and Gender')\n",
    "\n",
    "fig = go.Figure(data=data6, layout=layout)\n",
    "py.iplot(fig)"
   ]
  },
  {
   "cell_type": "markdown",
   "metadata": {},
   "source": [
    "People in higher fare class tickets had higher survival rates and that females tended to survive over their male counterparts."
   ]
  },
  {
   "cell_type": "markdown",
   "metadata": {},
   "source": [
    "## Women and Child first ?"
   ]
  },
  {
   "cell_type": "markdown",
   "metadata": {},
   "source": [
    "We saw that age influenced survival. It is logical to think that children were saved first. We created a new column with a categorical variable Child. Child will take a value 1 for ages < 10 and a value of 0 for ages >= 10."
   ]
  },
  {
   "cell_type": "code",
   "execution_count": 14,
   "metadata": {
    "collapsed": true
   },
   "outputs": [],
   "source": [
    "# Create the column Child and assign 1 to passengers under 10, 0 to those 10 or older and NaN if age is NaN\n",
    "def is_child(age):\n",
    "    \"\"\"Defines what age is considered a child\"\"\"\n",
    "    if age < 10:\n",
    "        return float(1)\n",
    "    elif age >= 10:\n",
    "        return float(0)\n",
    "    else:\n",
    "        return float('NaN')\n",
    "# apply the function to 'Age' column of the dataframe\n",
    "train['Child'] = train['Age'].apply(is_child)"
   ]
  },
  {
   "cell_type": "code",
   "execution_count": 15,
   "metadata": {
    "collapsed": false
   },
   "outputs": [
    {
     "data": {
      "text/html": [
       "<iframe id=\"igraph\" scrolling=\"no\" style=\"border:none;\" seamless=\"seamless\" src=\"https://plot.ly/~hadaarjan/78.embed\" height=\"300px\" width=\"300px\"></iframe>"
      ],
      "text/plain": [
       "<plotly.tools.PlotlyDisplay object>"
      ]
     },
     "execution_count": 15,
     "metadata": {},
     "output_type": "execute_result"
    }
   ],
   "source": [
    "# Print normalized Survival Rates for passengers under 10\n",
    "children = train['Survived'][train['Child'] == 1].value_counts(normalize = True)\n",
    "\n",
    "# Print normalized Survival Rates for passengers 10 or older\n",
    "adult = train['Survived'][train['Child'] == 0].value_counts(normalize = True)\n",
    "\n",
    "# Plot survival of children vs adults\n",
    "data7 = [go.Bar(\n",
    "            x=['children', 'adult'],\n",
    "            y=[children[1], adult[1]]\n",
    "    )]\n",
    "\n",
    "layout = go.Layout(autosize = False, width = 300, height = 300,\n",
    "                  yaxis = dict(title = 'Survival Rates'),\n",
    "                  title = 'Children vs Adults')\n",
    "fig = go.Figure(data = data7, layout = layout)\n",
    "py.iplot(fig, filename='children-vs-adult')"
   ]
  },
  {
   "cell_type": "code",
   "execution_count": 16,
   "metadata": {
    "collapsed": false
   },
   "outputs": [
    {
     "data": {
      "text/html": [
       "<iframe id=\"igraph\" scrolling=\"no\" style=\"border:none;\" seamless=\"seamless\" src=\"https://plot.ly/~hadaarjan/192.embed\" height=\"400px\" width=\"500px\"></iframe>"
      ],
      "text/plain": [
       "<plotly.tools.PlotlyDisplay object>"
      ]
     },
     "execution_count": 16,
     "metadata": {},
     "output_type": "execute_result"
    }
   ],
   "source": [
    "# Normalised survival by sex and age\n",
    "male_child = train[\"Survived\"][(train[\"Sex\"] == 'male') & (train[\"Child\"] == 1)].value_counts(normalize = True)\n",
    "male_adult = train[\"Survived\"][(train[\"Sex\"] == 'male') & (train[\"Child\"] == 0)].value_counts(normalize = True)\n",
    "\n",
    "female_child = train[\"Survived\"][(train[\"Sex\"] == 'female') & (train[\"Child\"] == 1)].value_counts(normalize = True)\n",
    "female_adult = train[\"Survived\"][(train[\"Sex\"] == 'female') & (train[\"Child\"] == 0)].value_counts(normalize = True)\n",
    "\n",
    "trace6 = go.Bar(\n",
    "    x=['male', 'female'],\n",
    "    y=[male_child[1], female_child[1]],\n",
    "    name='child (<10)'\n",
    ")\n",
    "trace7 = go.Bar(\n",
    "    x=['male', 'female'],\n",
    "    y=[male_adult[1], female_adult[1]],\n",
    "    name='adult'\n",
    ")\n",
    "\n",
    "data8 = [trace6, trace7]\n",
    "layout = go.Layout(autosize = False, width = 500, height = 400,\n",
    "    barmode='group',yaxis = dict(title = 'Survival Rates'),title = 'Women and Children First')\n",
    "\n",
    "fig = go.Figure(data=data8, layout=layout)\n",
    "py.iplot(fig)"
   ]
  },
  {
   "cell_type": "markdown",
   "metadata": {},
   "source": [
    "There was chivalry at work - women and children first."
   ]
  },
  {
   "cell_type": "markdown",
   "metadata": {},
   "source": [
    "## Clean and format the train data"
   ]
  },
  {
   "cell_type": "markdown",
   "metadata": {},
   "source": [
    "Until now, we have been examining, the effect of one or two variable on survival. Machine learning algorithms automate this task by using multiple features to output a classification model or classifier. The use of classifier will be more exhaustive and more precise than our manual exploration above. Before we move on to use classification algorithms, we will have to clean the data so as to take maximum advantage of all the relevant features.\n",
    "\n",
    "The data isn't perfectly clean as we saw with train.describe() earlier. There are some missing values. Also not all columns were shown with .describe(). Only numeric columns were shown.\n",
    "\n",
    "We don't want to remove rows with **missing data**, as more data help us train our algorithm better. We also don't want to get rid of **non-numeric** columns. Non-numeric like 'Sex', as we saw were very important in predicting survival."
   ]
  },
  {
   "cell_type": "markdown",
   "metadata": {},
   "source": [
    "### Missing data - Age"
   ]
  },
  {
   "cell_type": "markdown",
   "metadata": {},
   "source": [
    "The Age column has missing values NaN. The count for the column is 714, whereas other columns have a count of 891.\n",
    "We will impute the missing values in Age column with median of the column."
   ]
  },
  {
   "cell_type": "code",
   "execution_count": 17,
   "metadata": {
    "collapsed": false
   },
   "outputs": [
    {
     "data": {
      "text/html": [
       "<iframe id=\"igraph\" scrolling=\"no\" style=\"border:none;\" seamless=\"seamless\" src=\"https://plot.ly/~hadaarjan/194.embed\" height=\"525px\" width=\"100%\"></iframe>"
      ],
      "text/plain": [
       "<plotly.tools.PlotlyDisplay object>"
      ]
     },
     "execution_count": 17,
     "metadata": {},
     "output_type": "execute_result"
    }
   ],
   "source": [
    "age_bf_imputation = train['Age'].dropna()\n",
    "\n",
    "# Impute the missing value with the median\n",
    "train['Age'] = train['Age'].fillna(train['Age'].median())\n",
    "\n",
    "hist_data = [age_bf_imputation, train['Age']]\n",
    "\n",
    "group_labels = ['Before imputation', 'After imputation']\n",
    "colors = ['#333F44', '#37AA9C']\n",
    "\n",
    "# Create distplot\n",
    "fig = FF.create_distplot(hist_data, group_labels, show_hist=False, colors=colors)\n",
    "\n",
    "#Add title\n",
    "fig['layout'].update(title='Age distribution')\n",
    "\n",
    "# Plot\n",
    "py.iplot(fig, validate=False)"
   ]
  },
  {
   "cell_type": "code",
   "execution_count": 18,
   "metadata": {
    "collapsed": false
   },
   "outputs": [
    {
     "data": {
      "text/plain": [
       "False"
      ]
     },
     "execution_count": 18,
     "metadata": {},
     "output_type": "execute_result"
    }
   ],
   "source": [
    "# Confirm missing values have been taken care of\n",
    "train['Age'].isnull().values.any()"
   ]
  },
  {
   "cell_type": "markdown",
   "metadata": {},
   "source": [
    "### Missing data - Embarked"
   ]
  },
  {
   "cell_type": "code",
   "execution_count": 19,
   "metadata": {
    "collapsed": false
   },
   "outputs": [
    {
     "name": "stdout",
     "output_type": "stream",
     "text": [
      "['S' 'C' 'Q' nan]\n"
     ]
    }
   ],
   "source": [
    "print(train['Embarked'].unique())"
   ]
  },
  {
   "cell_type": "markdown",
   "metadata": {},
   "source": [
    "The embarked column also has missing values - nan. We impute the missing values with most common port of embargation Southampton(S)."
   ]
  },
  {
   "cell_type": "code",
   "execution_count": 20,
   "metadata": {
    "collapsed": false
   },
   "outputs": [
    {
     "data": {
      "text/html": [
       "<iframe id=\"igraph\" scrolling=\"no\" style=\"border:none;\" seamless=\"seamless\" src=\"https://plot.ly/~hadaarjan/196.embed\" height=\"400px\" width=\"500px\"></iframe>"
      ],
      "text/plain": [
       "<plotly.tools.PlotlyDisplay object>"
      ]
     },
     "execution_count": 20,
     "metadata": {},
     "output_type": "execute_result"
    }
   ],
   "source": [
    "embarked_bf_imputation = go.Histogram(\n",
    "    x=train['Embarked'].dropna(),\n",
    "    histnorm='count',\n",
    "    name='Before Imputation',\n",
    ")\n",
    "\n",
    "# Impute the Embarked variable\n",
    "train['Embarked'] = train['Embarked'].fillna('S')\n",
    "\n",
    "embarked_af_imputation = go.Histogram(\n",
    "    x=train['Embarked'],\n",
    "    name = 'After Imputation'\n",
    ")\n",
    "\n",
    "embarked_bf_af_imputation = [embarked_bf_imputation, embarked_af_imputation]\n",
    "\n",
    "#Layout\n",
    "layout = go.Layout(autosize = False, width = 500, height = 400, bargap = 0.5,\n",
    "                  barmode='group',\n",
    "                  title = 'Embarked')\n",
    "\n",
    "fig = go.Figure(data=embarked_bf_af_imputation, layout = layout)\n",
    "\n",
    "#Plot\n",
    "py.iplot(fig)"
   ]
  },
  {
   "cell_type": "code",
   "execution_count": 21,
   "metadata": {
    "collapsed": false
   },
   "outputs": [
    {
     "data": {
      "text/plain": [
       "False"
      ]
     },
     "execution_count": 21,
     "metadata": {},
     "output_type": "execute_result"
    }
   ],
   "source": [
    "# Confirm missing values from Embarked column have been taken care of\n",
    "train['Embarked'].isnull().values.any()"
   ]
  },
  {
   "cell_type": "markdown",
   "metadata": {},
   "source": [
    "### Convert non-numeric columns - Sex and Embarked"
   ]
  },
  {
   "cell_type": "markdown",
   "metadata": {},
   "source": [
    "Sex and Embarked variable are categorical, but in non-numeric format. We will have to convert non-numeric columns to numeric ones so that classifier can handle it. To do so, we have to find unique classes in non-numeric column and encode each class a unique integer."
   ]
  },
  {
   "cell_type": "code",
   "execution_count": 22,
   "metadata": {
    "collapsed": false
   },
   "outputs": [
    {
     "name": "stdout",
     "output_type": "stream",
     "text": [
      "['male' 'female']\n"
     ]
    }
   ],
   "source": [
    "print(train['Sex'].unique())"
   ]
  },
  {
   "cell_type": "code",
   "execution_count": 23,
   "metadata": {
    "collapsed": true
   },
   "outputs": [],
   "source": [
    "### Convert categorical variable Sex to integer form\n",
    "sex_to_integers = {'male':0, 'female':1}\n",
    "train['Sex'] = train['Sex'].apply(sex_to_integers.get)"
   ]
  },
  {
   "cell_type": "code",
   "execution_count": 24,
   "metadata": {
    "collapsed": false
   },
   "outputs": [
    {
     "name": "stdout",
     "output_type": "stream",
     "text": [
      "['S' 'C' 'Q']\n"
     ]
    }
   ],
   "source": [
    "print(train['Embarked'].unique())"
   ]
  },
  {
   "cell_type": "code",
   "execution_count": 25,
   "metadata": {
    "collapsed": true
   },
   "outputs": [],
   "source": [
    "#Convert categorical variable Embarked to integer form\n",
    "embarked_to_integers = {'S':0, 'C':1, 'Q':2}\n",
    "train['Embarked'] = train['Embarked'].apply(embarked_to_integers.get)"
   ]
  },
  {
   "cell_type": "markdown",
   "metadata": {},
   "source": [
    "## Logistic Regression"
   ]
  },
  {
   "cell_type": "markdown",
   "metadata": {},
   "source": [
    "In our case, the dependent variable is categorical. We only care about two outcomes either 0(deceased) or 1(survived). Logistic regression uses a logit function to squeeze the output values to 0 or 1.\n",
    "\n",
    "Sklearn has a class for logistic regression that we can use."
   ]
  },
  {
   "cell_type": "code",
   "execution_count": 26,
   "metadata": {
    "collapsed": false
   },
   "outputs": [
    {
     "name": "stdout",
     "output_type": "stream",
     "text": [
      "Accuracy: 0.788\n"
     ]
    }
   ],
   "source": [
    "# Import the `LogisticRegression` and cross validation\n",
    "from sklearn.linear_model import LogisticRegression\n",
    "from sklearn import cross_validation\n",
    "\n",
    "# The features we'll use to predict survival\n",
    "predictors = [\"Pclass\", \"Sex\", \"Age\", \"SibSp\", \"Parch\", \"Fare\", \"Embarked\"]\n",
    "\n",
    "# Initialize our algorithm\n",
    "logreg = LogisticRegression(random_state=1)\n",
    "\n",
    "# Compute the accuracy score for all the cross validation folds.  \n",
    "scores = cross_validation.cross_val_score(logreg, train[predictors], train[\"Survived\"], cv=3)\n",
    "\n",
    "# Take the mean of the scores (because we have one for each fold)\n",
    "print \"Accuracy: {0:.3f}\".format(scores.mean())"
   ]
  },
  {
   "cell_type": "markdown",
   "metadata": {},
   "source": [
    "One parameter used in the evaluation of classification algorithm is accuracy. Accuracy measures the fraction of items in a class labelled correctly. We obtained an accuracy of 78.8%."
   ]
  },
  {
   "cell_type": "markdown",
   "metadata": {},
   "source": [
    "## Random Forest"
   ]
  },
  {
   "cell_type": "markdown",
   "metadata": {},
   "source": [
    "Random forest fits multiple (very deep) classification trees with slightly randomized input data, and slightly randomized split points using the training set. It uses averaging to improve the predictive accuracy and control over-fitting."
   ]
  },
  {
   "cell_type": "code",
   "execution_count": 27,
   "metadata": {
    "collapsed": false
   },
   "outputs": [],
   "source": [
    "# Import the `RandomForestClassifier`\n",
    "from sklearn.ensemble import RandomForestClassifier\n",
    "\n",
    "predictors = [\"Pclass\", \"Sex\", \"Age\", \"SibSp\", \"Parch\", \"Fare\", \"Embarked\"]\n",
    "\n",
    "#Build our forest\n",
    "forest = RandomForestClassifier(max_depth = 10, min_samples_split=2, n_estimators = 25, random_state = 1)\n",
    "forest.fit( train[predictors], train[\"Survived\"])\n",
    "feature_importances = forest.feature_importances_"
   ]
  },
  {
   "cell_type": "code",
   "execution_count": 36,
   "metadata": {
    "collapsed": false
   },
   "outputs": [
    {
     "data": {
      "text/html": [
       "<script>requirejs.config({paths: { 'plotly': ['https://cdn.plot.ly/plotly-latest.min']},});if(!window.Plotly) {{require(['plotly'],function(plotly) {window.Plotly=plotly;});}}</script>"
      ],
      "text/plain": [
       "<IPython.core.display.HTML object>"
      ]
     },
     "metadata": {},
     "output_type": "display_data"
    },
    {
     "data": {
      "text/html": [
       "<div id=\"3af89a81-3e7e-4cfa-b05a-9f8a862d85ea\" style=\"height: 400px; width: 400px;\" class=\"plotly-graph-div\"></div><script type=\"text/javascript\">require([\"plotly\"], function(Plotly) { window.PLOTLYENV=window.PLOTLYENV || {};window.PLOTLYENV.BASE_URL=\"https://plot.ly\";Plotly.newPlot(\"3af89a81-3e7e-4cfa-b05a-9f8a862d85ea\", [{\"y\": [0.10260540873377783, 0.3218813333117065, 0.20473761953641426, 0.05267089638725093, 0.039886902168756115, 0.2393011500729326, 0.038916689789161844], \"x\": [\"Pclass\", \"Sex\", \"Age\", \"SibSp\", \"Parch\", \"Fare\", \"Embarked\"], \"type\": \"bar\"}], {\"height\": 400, \"width\": 400, \"autosize\": false, \"yaxis\": {\"title\": \"Importance\"}, \"title\": \"Importance of features\"}, {\"linkText\": \"Export to plot.ly\", \"showLink\": true})});</script>"
      ],
      "text/plain": [
       "<IPython.core.display.HTML object>"
      ]
     },
     "metadata": {},
     "output_type": "display_data"
    }
   ],
   "source": [
    "# We can also do offline plotting using plotly\n",
    "from plotly.offline import download_plotlyjs, init_notebook_mode, iplot\n",
    "\n",
    "# Initiate the Plotly Notebook mode for plotting graphs offline inside a Jupyter Notebook Environment\n",
    "#Run at the start of every ipython notebook to use plotly.offline. \n",
    "#This injects the plotly.js source files into the notebook.\n",
    "init_notebook_mode(connected=True)\n",
    "\n",
    "#Plot the importance of each feature\n",
    "feature_data = [go.Bar(\n",
    "            x=predictors,\n",
    "            y=feature_importances\n",
    "    )]\n",
    "\n",
    "feature_layout = go.Layout(autosize = False, width = 400, height = 400,\n",
    "                  yaxis = dict(title = 'Importance'),\n",
    "                  title = 'Importance of features')\n",
    "feature_fig = go.Figure(data = feature_data, layout = feature_layout)\n",
    "iplot(feature_fig)"
   ]
  },
  {
   "cell_type": "code",
   "execution_count": 31,
   "metadata": {
    "collapsed": false
   },
   "outputs": [
    {
     "name": "stdout",
     "output_type": "stream",
     "text": [
      "Accuracy and the 95% confidence interval of the estimate are: 0.825 (+/- 0.82)\n"
     ]
    }
   ],
   "source": [
    "# Compute the accuracy score for all the cross validation folds. \n",
    "kf = cross_validation.KFold(train.shape[0], n_folds=3, random_state=1)\n",
    "scores = cross_validation.cross_val_score(forest, train[predictors], train[\"Survived\"], cv=kf)\n",
    "\n",
    "# Take the mean of the scores (because we have one for each fold)\n",
    "print \"Accuracy and the 95% confidence interval of the estimate are: {0:.3f} (+/- {0:.2f})\".format( \\\n",
    "       scores.mean(), scores.std() * 2)"
   ]
  },
  {
   "cell_type": "markdown",
   "metadata": {},
   "source": [
    "## Conclusion"
   ]
  },
  {
   "cell_type": "markdown",
   "metadata": {
    "collapsed": true
   },
   "source": [
    "We have built a useful classifier for predicting the survival of each passenger aboard the RMS Titanic. We also saw that Sex, Fare, Age and Pclass are the four most important features in determining the survivors of the ship sinking. The accuracy of our classifier is 82.5%. Also we measured the accuracy of our classifier on the same dataset we trained it on. It will be interesting to see, how well our classifier performs on the test dataset. Similarly, it is important to evaluate our classifiers based on other metrics namely, Precision and Recall. Precision measures the  results relevancy, whereas recall measures how many truly relevant results are returned. \n",
    "\n",
    "We can potentially improve the accuracy for our algorithm by engineering new features. Feature engineering involves creatively combining different variables to engineer a new one.\n",
    "Title of the passenger from their names. Were any particular title more likely to survive?\n",
    "Family size from variables SibSp and Parch. Did having more women and children in the family made the whole family more likely to survive?\n",
    "\n",
    "Another thing we could do to improve the accuracy of our prediction is to ensemble different classiifers. Ensembling diverse classifiers that use very different method to generate prediction work very well."
   ]
  },
  {
   "cell_type": "markdown",
   "metadata": {},
   "source": [
    "## Reference\n",
    "\n",
    "1) [Udacity's Intro to Data Analysis](https://www.udacity.com/course/intro-to-data-analysis--ud170)\n",
    "<br \\>2) [Plotly](https://plot.ly/python/)\n",
    "<br \\>3) [Titanic Survival Exploration](https://github.com/udacity/Project-Descriptions-for-Review/blob/master/Machine-Learning/Titanic%20Survival%20Exploration.md)\n",
    "<br \\>4) [sklearn](http://scikit-learn.org/stable/)\n",
    "<br \\>5) [Kaggle Titanic](https://www.kaggle.com/c/titanic)\n",
    "<br \\>6) [Udacity's Intro to Machine Learning](https://www.udacity.com/course/intro-to-machine-learning--ud120)"
   ]
  }
 ],
 "metadata": {
  "anaconda-cloud": {},
  "kernelspec": {
   "display_name": "Python [default]",
   "language": "python",
   "name": "python2"
  },
  "language_info": {
   "codemirror_mode": {
    "name": "ipython",
    "version": 2
   },
   "file_extension": ".py",
   "mimetype": "text/x-python",
   "name": "python",
   "nbconvert_exporter": "python",
   "pygments_lexer": "ipython2",
   "version": "2.7.12"
  }
 },
 "nbformat": 4,
 "nbformat_minor": 0
}
